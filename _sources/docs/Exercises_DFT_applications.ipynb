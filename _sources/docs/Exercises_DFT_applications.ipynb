{
 "cells": [
  {
   "cell_type": "markdown",
   "id": "d2fe0ce8-b7ef-40d0-8d03-f85630d3ae8d",
   "metadata": {},
   "source": [
    "# Exercises"
   ]
  },
  {
   "cell_type": "markdown",
   "id": "845c1165-e92b-49ee-a8b1-acfed1ad01d1",
   "metadata": {},
   "source": [
    "(dft-1-ex)=\n",
    "## Exercise 1"
   ]
  },
  {
   "cell_type": "markdown",
   "id": "33441ff2",
   "metadata": {},
   "source": [
    "One major application of density functional theory is performing structural relaxation (i.e., geometric optimization). <br> Begin by building a linear CO<sub>2</sub> molecule in ASE with a C–O bond length of 1.8 Å."
   ]
  },
  {
   "cell_type": "code",
   "execution_count": null,
   "id": "b3d2476b",
   "metadata": {},
   "outputs": [],
   "source": [
    "from ase import Atoms\n",
    "\n",
    "#Code here"
   ]
  },
  {
   "cell_type": "markdown",
   "id": "03e0c4ba",
   "metadata": {},
   "source": [
    "Next, relax your molecule using SPARC with parameters of your choosing. Confirm that your relaxed C–O bond length matches that from experimentation. Check the manual for the appropriate flags for relaxation."
   ]
  },
  {
   "cell_type": "code",
   "execution_count": null,
   "id": "e7ecc3db",
   "metadata": {},
   "outputs": [],
   "source": [
    "import os\n",
    "from sparc import SPARC\n",
    "from ase.units import Bohr,Hartree,mol,kcal,kJ,eV\n",
    "from ase.io import read, write\n",
    "\n",
    "#Code here"
   ]
  },
  {
   "cell_type": "markdown",
   "id": "1e984abe",
   "metadata": {},
   "source": [
    "Repeat this exercise using the Quantum Espresso DFT package."
   ]
  },
  {
   "cell_type": "code",
   "execution_count": null,
   "id": "4d1b34c8",
   "metadata": {},
   "outputs": [],
   "source": [
    "# code here"
   ]
  },
  {
   "cell_type": "markdown",
   "id": "db771ffe",
   "metadata": {},
   "source": [
    "(dft-2-ex)=\n",
    "## Exercise 2"
   ]
  },
  {
   "cell_type": "markdown",
   "id": "ba045e75",
   "metadata": {},
   "source": [
    "In this exercise, we will consider the adsorption of an atomic oxygen on Pt(111) surface, instead of O<sub>2</sub> molecule.\n",
    "Consider fcc and hcp active sites. Determine the most stable adsorption site of an oxygen atom on Pt(111) surface and the corresponding adsorption energy when the surface is saturated with one monolayer of oxygens (in this case, one O atom for each Pt surface atom)."
   ]
  },
  {
   "cell_type": "code",
   "execution_count": null,
   "id": "c2cf958a",
   "metadata": {},
   "outputs": [],
   "source": [
    "from ase import Atoms, Atom\n",
    "from ase.build import bulk, molecule, surface, add_adsorbate, fcc111, fcc100\n",
    "from ase.constraints import FixAtoms\n",
    "from ase.io import read\n",
    "\n",
    "#Code here"
   ]
  },
  {
   "cell_type": "markdown",
   "id": "7d656717",
   "metadata": {},
   "source": [
    "## Exercise 3"
   ]
  },
  {
   "cell_type": "markdown",
   "id": "54072710",
   "metadata": {},
   "source": [
    "CO<sub>2</sub> can adsorb in Ca-LTA in one of three positions shown in the figure below. Note that the large teal atoms are calcium."
   ]
  },
  {
   "cell_type": "markdown",
   "id": "1b693c79-acbe-40c8-b0cd-2fe96d99e2c4",
   "metadata": {},
   "source": [
    "![MOFImage](./image.png)"
   ]
  },
  {
   "cell_type": "markdown",
   "id": "5bacd640",
   "metadata": {},
   "source": [
    "Using a DFT package and calculation parameters of your choice, compute the CO<sub>2</sub> adsorption energy for each of the three positions in Ca-LTA. *This exercise requires that you manually add CO<sub>2</sub> molecules into the Ca-LTA framework and that you perform several structural relaxations at different geometries. You can fix the atomic positions of Ca-LTA to reduce the computational cost* Comment on which of the active sites is the most stable. Based on the energies, is it reasonable to assume a single active site dominates? How would you expect the results to shift as the active sites become saturated?"
   ]
  },
  {
   "cell_type": "code",
   "execution_count": null,
   "id": "c13e8f2c",
   "metadata": {},
   "outputs": [],
   "source": [
    "# First, relax the pristine MOF\n",
    "\n",
    "import os\n",
    "from ase import Atoms, io\n",
    "from ase.io import read, write\n",
    "from ase.build import bulk, molecule, surface, add_adsorbate\n",
    "from ase.units import Bohr,Hartree,mol,kcal,kJ,eV\n",
    "#These constraints allow you to fix atoms. See ASE documentation\n",
    "from ase.constraints import FixAtoms\n",
    "from sparc import SPARC\n",
    "\n",
    "#Code here"
   ]
  },
  {
   "cell_type": "code",
   "execution_count": null,
   "id": "a8fb3b7a",
   "metadata": {},
   "outputs": [],
   "source": [
    "# Add CO2 to relaxed pristine structures\n",
    "\n",
    "from sparc import SPARC\n",
    "from ase import Atom\n",
    "from ase.build import bulk, molecule, surface, add_adsorbate\n",
    "from ase.units import Bohr,Hartree,mol,kcal,kJ,eV\n",
    "from ase.io import read, write\n",
    "import numpy as np\n",
    "\n",
    "#Code here"
   ]
  },
  {
   "cell_type": "markdown",
   "id": "78d648bd-6407-43bb-806e-31fc86a96480",
   "metadata": {},
   "source": [
    "**Responses here**"
   ]
  },
  {
   "cell_type": "markdown",
   "id": "65c2db5d-1e54-4119-a4bb-4eea04e65a19",
   "metadata": {},
   "source": []
  }
 ],
 "metadata": {
  "kernelspec": {
   "display_name": "Python 3 (ipykernel)",
   "language": "python",
   "name": "python3"
  },
  "language_info": {
   "codemirror_mode": {
    "name": "ipython",
    "version": 3
   },
   "file_extension": ".py",
   "mimetype": "text/x-python",
   "name": "python",
   "nbconvert_exporter": "python",
   "pygments_lexer": "ipython3",
   "version": "3.9.16"
  }
 },
 "nbformat": 4,
 "nbformat_minor": 5
}
