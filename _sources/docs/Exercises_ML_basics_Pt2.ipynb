{
 "cells": [
  {
   "cell_type": "markdown",
   "id": "d2fe0ce8-b7ef-40d0-8d03-f85630d3ae8d",
   "metadata": {},
   "source": [
    "# Exercises"
   ]
  },
  {
   "cell_type": "markdown",
   "id": "58d1f53d-6a3e-4c47-afd6-f7af64c1bd20",
   "metadata": {},
   "source": [
    "These exercises cover basic ML strategies, including classification and generative models. <br><br>\n",
    "**NOTE:** These exercises cover only a small sample of ML techniques. All ML will be implemented in the *scikit-learn* Python package here. Documentation can be found at https://scikit-learn.org/stable/."
   ]
  },
  {
   "cell_type": "markdown",
   "id": "845c1165-e92b-49ee-a8b1-acfed1ad01d1",
   "metadata": {},
   "source": [
    "## Exercise 1"
   ]
  },
  {
   "cell_type": "markdown",
   "id": "33441ff2",
   "metadata": {},
   "source": [
    "This exercise will use Supper Vector Machines to build a classification model for a 2-class dataset with a dimensionality of 2. Begin by creating a moons toy dataset with 200 samples and a noise of 0.1 using the sklearn.datasets.make_moons function: https://scikit-learn.org/stable/modules/generated/sklearn.datasets.make_moons.html<br><br>\n",
    "Visualize the dataset and color each point according to its assigned class."
   ]
  },
  {
   "cell_type": "code",
   "execution_count": null,
   "id": "b3d2476b",
   "metadata": {},
   "outputs": [],
   "source": [
    "# code here\n",
    "from sklearn.datasets import make_moons\n",
    "import matplotlib.pyplot as plt\n",
    "import numpy as np\n",
    "import matplotlib as mpl\n",
    "%matplotlib inline"
   ]
  },
  {
   "cell_type": "markdown",
   "id": "03e0c4ba",
   "metadata": {},
   "source": [
    "Train a support vector machine with a radial basis function (RBF) kernel to create a discriminative classification model for this dataset. Tune the *gamma* and *C* parameters to achieve a minimum accuracy of 90% on your test set. Use an 80/20 train/test split.<br><br> Comment on what happens as *C* goes to 0 and as *C* goes to infinity.\n",
    "Plot the data colored by the true class and show the SVM decision boundary. Calculate the accuracy, precision, and recall for your prediction."
   ]
  },
  {
   "cell_type": "code",
   "execution_count": null,
   "id": "e7ecc3db",
   "metadata": {},
   "outputs": [],
   "source": [
    "# code here\n",
    "from sklearn.model_selection import train_test_split\n",
    "from sklearn.svm import SVC\n",
    "from sklearn.metrics import accuracy_score, precision_score, recall_score\n",
    "\n",
    "def create_and_train_model(X_data:tuple, y_data:tuple, random_state:int=42, C:float=1.0, kernel:str='rbf', gamma:float=1.0):\n",
    "\n",
    "def get_scores(model, X_test, y_test):"
   ]
  },
  {
   "cell_type": "markdown",
   "id": "7587f995",
   "metadata": {},
   "source": [
    "Response\n",
    "- Accuracy diminishes as C goes to 0, improves (remains the same) as C goes to infinity."
   ]
  },
  {
   "cell_type": "markdown",
   "id": "ec06276c",
   "metadata": {},
   "source": [
    "Show the confusion matrix for your best-performing model."
   ]
  },
  {
   "cell_type": "code",
   "execution_count": null,
   "id": "d84409be",
   "metadata": {},
   "outputs": [],
   "source": [
    "# code here\n",
    "from sklearn.metrics import confusion_matrix, ConfusionMatrixDisplay\n"
   ]
  },
  {
   "cell_type": "markdown",
   "id": "7d656717",
   "metadata": {},
   "source": [
    "## Exercise 2"
   ]
  },
  {
   "cell_type": "markdown",
   "id": "54072710",
   "metadata": {},
   "source": [
    "This exercise is a continuation of the previous and uses the same dataset. <br><br>\n",
    "Create an random 80/20 train/test split for the moons dataset from above. For k in [2,5,10,20], use a k-nearest neighbors (kNN) model for classification. Use subplots to show the result with each point colored according to its predicted class for each value of k. Compute the accuracy for each case. <br><br>Laslty, discuss what is happening when the `fit` method is called. Does kNN have a loss function? How are classes assigned? Is this supervised or un-supervised ML?"
   ]
  },
  {
   "cell_type": "code",
   "execution_count": null,
   "id": "a8fb3b7a",
   "metadata": {},
   "outputs": [],
   "source": [
    "# code here\n",
    "from sklearn.neighbors import KNeighborsClassifier"
   ]
  },
  {
   "cell_type": "markdown",
   "id": "810f6ee5",
   "metadata": {},
   "source": [
    "Response\n",
    "- This method works via democratizing class assignment. Classes are assigned based on the number of neighbor votes for the k nearest neighbors in the \"training\" set for which class assignment is known. A simple majority wins, and ties can be dealt with by decreasing k until the tie is broken. There is no loss function, but this still counts as supervised ML since the target labels are known (and used) in model \"fitting.\" "
   ]
  },
  {
   "cell_type": "markdown",
   "id": "e623f090",
   "metadata": {},
   "source": [
    "## Exercise 3"
   ]
  },
  {
   "cell_type": "markdown",
   "id": "e8424ed9",
   "metadata": {},
   "source": [
    "This exercise will focus on multi-class classification. Use the sklearn make_blobs function to generate a toy dataset with 150 samples, 4 clusters, and a dimensionality of 10."
   ]
  },
  {
   "cell_type": "code",
   "execution_count": null,
   "id": "1cbbe3cc",
   "metadata": {},
   "outputs": [],
   "source": [
    "# code here\n",
    "from sklearn.datasets import make_blobs"
   ]
  },
  {
   "cell_type": "markdown",
   "id": "93bd8616",
   "metadata": {},
   "source": [
    "Next, use PCA to reduce the dimensionality to 2. Plot the dataset with each point colored according to its class."
   ]
  },
  {
   "cell_type": "code",
   "execution_count": null,
   "id": "b96ddddc",
   "metadata": {},
   "outputs": [],
   "source": [
    "# code here\n",
    "from sklearn.decomposition import PCA"
   ]
  },
  {
   "cell_type": "markdown",
   "id": "fa8d1c5a",
   "metadata": {},
   "source": [
    "Train a decision tree model (discriminative) model on the reduced dataset and plot the result with points colored according to their predicted class. Be sure to perform hyperparameter tuning as necessary; you can decide the extent to which this is necessary. Compute the accuracy, precision, and recall scores. "
   ]
  },
  {
   "cell_type": "code",
   "execution_count": null,
   "id": "6f07b6f1",
   "metadata": {},
   "outputs": [],
   "source": [
    "# code here\n",
    "from sklearn.tree import DecisionTreeClassifier\n",
    "\n",
    "# Function that trains a decision tree classifier\n",
    "def train_tree(X_train, y_train, max_depth):"
   ]
  },
  {
   "cell_type": "markdown",
   "id": "3d515404",
   "metadata": {},
   "source": [
    "Repeat the above task with a naive Gaussian model (generative)."
   ]
  },
  {
   "cell_type": "code",
   "execution_count": null,
   "id": "ee978a1d",
   "metadata": {},
   "outputs": [],
   "source": [
    "# code here\n",
    "from sklearn.naive_bayes import GaussianNB\n",
    "\n",
    "# Function that will train a Gaussian Naive Bayes classifier\n",
    "def train_gnb(X_train, y_train):"
   ]
  },
  {
   "cell_type": "markdown",
   "id": "0328ad60",
   "metadata": {},
   "source": [
    "## Exercise 4"
   ]
  },
  {
   "cell_type": "markdown",
   "id": "e17a54db",
   "metadata": {},
   "source": [
    "This exercise focuses on unsupervised generative models, which can be used to generate new data based on patterns learned from existing data. Begin by importing the digits dataset from sklearn (also called the MNIST dataset). This is a high-dimensionality dataset consisting of hand-drawn digits (0–9) commonly used for training image processing systems. It consists of 1,797 samples, each corresponding to one of the ten digits. Each sample can be presented by an 8 x 8 grid of pixels, where each pixel is colored according to its corresponding hand-drawn image. Thus, the dimensionality is 64."
   ]
  },
  {
   "cell_type": "code",
   "execution_count": null,
   "id": "93bee71a",
   "metadata": {},
   "outputs": [],
   "source": [
    "# Import digits dataset\n",
    "from sklearn.datasets import load_digits"
   ]
  },
  {
   "cell_type": "markdown",
   "id": "13980e37",
   "metadata": {},
   "source": [
    "Create a Gaussian mixture model (GMM) to create three new examples of the digit 6. You can use the y_mnist variable to quickly select this subset (y_mnist == 6). Show each of your predictions. Use spherical covariance and toy with the number of mixture components to create a model that can generative reasonably convincing synthetic data."
   ]
  },
  {
   "cell_type": "code",
   "execution_count": null,
   "id": "461d1c9d",
   "metadata": {},
   "outputs": [],
   "source": [
    "# Import Gaussian Mixture Model library\n",
    "from sklearn.mixture import GaussianMixture\n",
    "\n",
    "# Function to create and train a GMM with spherical covariance and variable number of mixture components\n",
    "def train_GMM(X, n_components):\n",
    "\n",
    "# Function that will plot the 64 dimensional data as a 8x8 image\n",
    "def plot_image(data, ax=None):\n",
    "    if ax is None:\n",
    "        fig, ax = plt.subplots()\n",
    "    ax.imshow(data.reshape(8,8), cmap='gray')\n",
    "    ax.axis('off')\n",
    "    return ax"
   ]
  },
  {
   "cell_type": "markdown",
   "id": "4f674d50",
   "metadata": {},
   "source": [
    "Create a kernel density estimation (KDE) model to create three new examples of the digit 6. Show each of your predictions. Use a Gaussian kernel and toy with the bandwidth to create a model that can generative reasonably convincing synthetic data. Compare the KDE model to the GMM model."
   ]
  },
  {
   "cell_type": "code",
   "execution_count": null,
   "id": "ed043605",
   "metadata": {},
   "outputs": [],
   "source": [
    "# Import kernel density estimation from sklearn\n",
    "from sklearn.neighbors import KernelDensity\n",
    "\n",
    "# Function to train a KDE model\n",
    "def train_kde_model(data, bandwidth=0.2, kernel='gaussian'):"
   ]
  },
  {
   "cell_type": "markdown",
   "id": "9c29ecd9",
   "metadata": {},
   "source": [
    "Create three synthetic examples of the digit 2 using a generative model of your choice."
   ]
  },
  {
   "cell_type": "code",
   "execution_count": null,
   "id": "717e6fc6",
   "metadata": {},
   "outputs": [],
   "source": [
    "# code here"
   ]
  }
 ],
 "metadata": {
  "kernelspec": {
   "display_name": "gen_ml",
   "language": "python",
   "name": "gen_ml"
  },
  "language_info": {
   "codemirror_mode": {
    "name": "ipython",
    "version": 3
   },
   "file_extension": ".py",
   "mimetype": "text/x-python",
   "name": "python",
   "nbconvert_exporter": "python",
   "pygments_lexer": "ipython3",
   "version": "3.9.16"
  }
 },
 "nbformat": 4,
 "nbformat_minor": 5
}
