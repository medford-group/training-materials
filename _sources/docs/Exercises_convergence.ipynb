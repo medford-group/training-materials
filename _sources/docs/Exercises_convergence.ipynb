{
 "cells": [
  {
   "cell_type": "markdown",
   "id": "ef1daa22-dbbc-4746-b65d-2ce2589aafbf",
   "metadata": {},
   "source": [
    "# Exercises"
   ]
  },
  {
   "cell_type": "markdown",
   "id": "22b163a3-6de9-40b2-9cf5-224af80ce32e",
   "metadata": {},
   "source": [
    "## Exercise 1"
   ]
  },
  {
   "cell_type": "markdown",
   "id": "d509ea9f-32b3-420e-a8f9-5affa758f144",
   "metadata": {},
   "source": [
    "We start with the simple example of an isolated atom. Place a single carbon atom in a cubic box with dimension *L* in SPARC. Compute the energy of the system for values of *L* in the interval 2—14 Å with a 1 Å increment. <br>\n",
    "Determine the minimal dimension of the box you recommend for the study by plotting system energy against *L* in Python using the code below. <br>\n",
    "Explain why the energy converges to the energy that you determine."
   ]
  },
  {
   "cell_type": "code",
   "execution_count": null,
   "id": "201561e4",
   "metadata": {},
   "outputs": [],
   "source": [
    "from ase.build import bulk, molecule, surface, add_adsorbate\n",
    "from ase.constraints import FixAtoms\n",
    "from ase.io import read\n",
    "from ase.units import Bohr,Hartree,mol,kcal,kJ,eV\n",
    "from sparc import SPARC\n",
    "import numpy as np\n",
    "import json, os, re\n",
    "import matplotlib.pyplot as plt\n",
    "%matplolib inline\n",
    "\n",
    "#Code here"
   ]
  },
  {
   "cell_type": "markdown",
   "id": "e8c3edea-e4aa-4c04-a602-ffd857d8e17d",
   "metadata": {},
   "source": [
    "## Exercise 2"
   ]
  },
  {
   "cell_type": "markdown",
   "id": "4587cdca-271b-4e01-b521-2ac13beaa955",
   "metadata": {},
   "source": [
    "For a conventional unit cell of FCC copper, compute *per-atom* energies and report CPU times required using SPARC\n",
    "- at different mesh spacings (h) from 0.1 to 0.2 with an increment of 0.01. \n",
    "- at different Energy-cutoff (ECUT) from 500 to 1000 with an increment of 100. \n",
    "\n",
    "Determine the optimal parameters in terms of accuracy versus computational cost."
   ]
  },
  {
   "cell_type": "markdown",
   "id": "05d17c6a",
   "metadata": {},
   "source": [
    "1. Convergence test with respect to the mesh spacing (h)"
   ]
  },
  {
   "cell_type": "code",
   "execution_count": 1,
   "id": "d8a15192",
   "metadata": {},
   "outputs": [],
   "source": [
    "#Code here"
   ]
  },
  {
   "cell_type": "markdown",
   "id": "de9b19a3",
   "metadata": {},
   "source": [
    "2. Convergence test with respect to the energy-cutoff (ECUT)"
   ]
  },
  {
   "cell_type": "code",
   "execution_count": null,
   "id": "6d047fde",
   "metadata": {},
   "outputs": [],
   "source": [
    "#Code here"
   ]
  },
  {
   "cell_type": "markdown",
   "id": "0d308c17-0f75-4f5e-96a3-38155506a13d",
   "metadata": {},
   "source": [
    "3. Repeat the exercise for ECUT (planewave cutoff) in QE. Comment on the convergence behavior in QE versus SPARC. "
   ]
  },
  {
   "cell_type": "code",
   "execution_count": null,
   "id": "151677e3-9ef6-4b04-a83f-509d202269ab",
   "metadata": {},
   "outputs": [],
   "source": [
    "#Code here"
   ]
  },
  {
   "cell_type": "markdown",
   "id": "deb3ab1b-7463-445a-9d6c-0fcca7bb37e7",
   "metadata": {},
   "source": [
    "## Exercise 3"
   ]
  },
  {
   "cell_type": "markdown",
   "id": "b5331ad1-1abc-4979-b609-5b2a9b402537",
   "metadata": {},
   "source": [
    "For a diamond unit cell, test the convergence of total energy with respect to the k-point mesh and lattice constants. Note that the structures with smaller lattice constants require more dense k-point mesh."
   ]
  },
  {
   "cell_type": "markdown",
   "id": "d547f558",
   "metadata": {},
   "source": [
    "1. Convergence test with respect to the k-point mesh"
   ]
  },
  {
   "cell_type": "code",
   "execution_count": null,
   "id": "2ad71caa",
   "metadata": {
    "tags": []
   },
   "outputs": [],
   "source": [
    "#Code here"
   ]
  },
  {
   "cell_type": "markdown",
   "id": "c9dee468",
   "metadata": {},
   "source": [
    "2. Convergence test with respect to the lattice constants"
   ]
  },
  {
   "cell_type": "code",
   "execution_count": null,
   "id": "88a5fc42",
   "metadata": {},
   "outputs": [],
   "source": [
    "#Code here"
   ]
  }
 ],
 "metadata": {
  "kernelspec": {
   "display_name": "Python 3 (ipykernel)",
   "language": "python",
   "name": "python3"
  },
  "language_info": {
   "codemirror_mode": {
    "name": "ipython",
    "version": 3
   },
   "file_extension": ".py",
   "mimetype": "text/x-python",
   "name": "python",
   "nbconvert_exporter": "python",
   "pygments_lexer": "ipython3",
   "version": "3.9.16"
  }
 },
 "nbformat": 4,
 "nbformat_minor": 5
}
