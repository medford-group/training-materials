{
 "cells": [
  {
   "cell_type": "markdown",
   "metadata": {},
   "source": [
    "(intro-dft)=\n",
    "# Introduction to Density Functional Theory"
   ]
  },
  {
   "cell_type": "markdown",
   "metadata": {},
   "source": [
    "In this lesson, we will learn about Density Functional Theory (DFT). This will provide a starting point for students to perform DFT calculations. The goal of this lesson is to introduce new users to DFT and potential difficulties in these calculations. The topics covered in this lesson and future lessons will follow [Dr. Kitchin's book on DFT](http://kitchingroup.cheme.cmu.edu/dft-book/dft.pdf). \n",
    "\n",
    "It was shown by Hohenberg and Kohn that ground state total energy of a system of interacting systems is a unique functional of electron density. A functional returns a number when given a function. The variational principle introduced by Hohenberg and Kohn involves a set of 3N-dimensional trial wave functions. \n",
    "\n",
    "Kohn and Sham showed that the problem of many interacting electrons in an external potential can be mapped to a set of noninteracting electrons in an effective external potential and this led to the development of self-consistent, single particle equations known as Kohn-Sham (KS) equations:\n",
    "\n",
    "$(\\frac{1}{2}\\triangledown^2 + v_{eff}(r) - \\epsilon_j) \\phi_j(r) = 0$    *(Equation 1)*\n",
    "\n",
    "$v_{eff}(r) = v(r) + \\int \\frac{n(r^{'})}{\\mid r - r^{'} \\mid}dr^{'} + v_{xc}(r)$       *(Equation 2)*\n",
    "\n",
    "In the Kohn-Sham equations, $v(r)$ is the external potential and $v_{xc}$ is the exchange-correlation potential that depend on entire density function. We need to know the density to define the effective potential and solve Eq. 1. $\\phi_j(r)$ is the $j^{th}$ KS orbital of energy $\\epsilon_j$. \n",
    "\n",
    "The ground state density can be written as:\n",
    "\n",
    "$n(r) = \\sum_{j=1}^{N} \\mid \\phi_j(r)\\mid^{2}$     *(Equation 3)*\n",
    "\n",
    "An initial guess of $\\phi_j(r)$ is used to approximate ground state electron density. This initial guess is used in equation 2. This equation is solved for $\\phi_j(r)$ iteratively till the solutions for $\\phi_j(r)$ are **self-consistent**. The final ground state energy is given by:\n",
    "\n",
    "$E = \\sum_{j}{}\\epsilon + E_{xc}[n(r)] - \\int v_{xc}(r)n(r)dr - \\frac{1}{2} \\int\\frac{n(r)n(r^{'})}{\\mid r - r^{'}\\mid} dr^{'}r$     *(Equation 4)*\n",
    "\n",
    "$E_{xc}[n(r)]$ is the exchange-correlation energy functional. The exact form of exchange-correlation energy is not known and numerous strategies exist to approximate this functional for different types of system. We will not get into the theory of exchange-correlation functional and how to solve the KS-DFT equations in this lesson. "
   ]
  },
  {
   "cell_type": "markdown",
   "metadata": {},
   "source": [
    " ## Exchange correlation functionals\n",
    " \n",
    "While reading DFT literature and performing these calculations, you will come across the term exchange correlation functional. The two common types of exchange correlation functionals used are local density approximation (LDA) and generalized gradient approximation (GGA). The model space for approximations is captured by Perdew's popular analogy of **Jacob's ladder** which follows the trend of approximation being more accurate with more nonlocal information about electronic environment. It is not necessary for these improvements to be systematic. Common types of exchange correlation functionals include:\n",
    " \n",
    " * LDA - accurate for delocalized systems such as metals \n",
    " \n",
    " Defined for an electron in uniform electron fas of density *n* and is exact for a uniform electron gas. \n",
    "\n",
    " * GGA-PBE - accurate for molecular systems\n",
    " \n",
    " Includes corrections for gradients in electron density. The types of GGA functionals are: PBE, RPBE, revPBE etc.\n",
    " \n",
    " * meta-GGA - improve upon GGA\n",
    " \n",
    " Include information about kinetic energy density\n",
    " \n",
    " * Hybrid functionals\n",
    " \n",
    " These functionals add more semilocal information by including a component of fully nonlocal exact exchange. The hybrid functionals include: B3LYP, PBE0, HSE06 etc.\n",
    " \n",
    "\n",
    "### Recommended reading on exchange correlation functionals:\n",
    "\n",
    "* Chapter 2 (Section 2.2) , Modeling materials using density functional theory by John R. Kitchin"
   ]
  },
  {
   "cell_type": "markdown",
   "metadata": {},
   "source": [
    "## Pseudopotentials\n",
    "\n",
    "The atomic potential due to core electrons are computationally expensive to deal with as they are highly localized. Also, the contribution of core electrons to bonding is negligible as compared to the valence electrons. To perform DFT calculations, we need to have pseudopotentials which replace the atomic potential due to core electrons. These pseudopotentials have the same effect on valence electrons as the potential due to core electrons. There are two kinds of pseudopotentials, norm-conserving and Vanderbilt ultrasoft pseudopotentials. \n",
    "\n",
    "### Recommended reading on pseudopotentials:\n",
    "\n",
    "* Chapter 2 (Section 2.4) , Modeling materials using density functional theory by John R. Kitchin"
   ]
  },
  {
   "cell_type": "markdown",
   "metadata": {},
   "source": [
    "## Spin polarization and magnetism\n",
    "\n",
    "For systems that have a spin, we need to turn on spin polarization for DFT calculations. For example, systems constituting of iron, cobalt, nickel are magnetic and will have more electrons with \"spin up\" than \"spin down\" or vice versa. Spin polarization should be considered for the systems that have unpaired electrons. \n",
    "\n",
    "Important note: For an oxygen molecule, there exists two spin configurations, the singlet state with no unpaired electrons and the triplet state with two unpaired electrons. The oxygen triplet state has lower energy and is considered as the ground state for an oxygen atom.  \n",
    "\n",
    "Spin polarization needs to be turned on explicitly while defining the DFT calculation and the atoms should be assigned an initial magnetic moment at the beginning. The solution will be sensitive to the initial guess of magnetic moment. "
   ]
  },
  {
   "cell_type": "markdown",
   "metadata": {},
   "source": [
    "## Summary\n",
    "\n",
    "In this lesson, we introduced density functional theory (DFT) and some essential components of DFT. "
   ]
  },
  {
   "cell_type": "code",
   "execution_count": null,
   "metadata": {},
   "outputs": [],
   "source": []
  }
 ],
 "metadata": {
  "kernelspec": {
   "display_name": "Python 3",
   "language": "python",
   "name": "python3"
  },
  "language_info": {
   "codemirror_mode": {
    "name": "ipython",
    "version": 3
   },
   "file_extension": ".py",
   "mimetype": "text/x-python",
   "name": "python",
   "nbconvert_exporter": "python",
   "pygments_lexer": "ipython3",
   "version": "3.7.4"
  }
 },
 "nbformat": 4,
 "nbformat_minor": 4
}
