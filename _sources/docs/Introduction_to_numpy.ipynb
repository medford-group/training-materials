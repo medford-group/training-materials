{
 "cells": [
  {
   "cell_type": "markdown",
   "metadata": {
    "slideshow": {
     "slide_type": "slide"
    }
   },
   "source": [
    "# Numpy -  multidimensional data arrays"
   ]
  },
  {
   "cell_type": "markdown",
   "metadata": {
    "slideshow": {
     "slide_type": "subslide"
    }
   },
   "source": [
    "## Introduction\n",
    "\n",
    "Numpy is not part of the \"standard library\", but it might as well be for engineers. Numpy is Python's answer to Matlab - the \"back end\" is implemented in C so its performance is very fast (comparable to Matlab)."
   ]
  },
  {
   "cell_type": "code",
   "execution_count": 1,
   "metadata": {},
   "outputs": [
    {
     "name": "stdout",
     "output_type": "stream",
     "text": [
      "Requirement already satisfied: numpy in /opt/anaconda3/lib/python3.7/site-packages (1.17.2)\n"
     ]
    }
   ],
   "source": [
    "!pip install numpy"
   ]
  },
  {
   "cell_type": "code",
   "execution_count": 2,
   "metadata": {
    "slideshow": {
     "slide_type": "fragment"
    }
   },
   "outputs": [],
   "source": [
    "import numpy as np"
   ]
  },
  {
   "cell_type": "markdown",
   "metadata": {
    "slideshow": {
     "slide_type": "slide"
    }
   },
   "source": [
    "## Creating `numpy` arrays\n",
    "\n",
    "There are a number of ways to initialize new numpy arrays, for example from\n",
    "\n",
    "* a Python list or tuples\n",
    "* using functions that are dedicated to generating numpy arrays, such as `arange`, `linspace`, etc.\n",
    "* reading data from files"
   ]
  },
  {
   "cell_type": "code",
   "execution_count": 41,
   "metadata": {
    "slideshow": {
     "slide_type": "subslide"
    }
   },
   "outputs": [
    {
     "name": "stdout",
     "output_type": "stream",
     "text": [
      "[1 2 3 4]\n",
      "[[1 2]\n",
      " [3 4]]\n"
     ]
    },
    {
     "data": {
      "text/plain": [
       "(numpy.ndarray, numpy.ndarray)"
      ]
     },
     "execution_count": 41,
     "metadata": {},
     "output_type": "execute_result"
    }
   ],
   "source": [
    "# a vector: the argument to the array function is a Python list\n",
    "v = np.array([1,2,3,4])\n",
    "\n",
    "print(v)\n",
    "\n",
    "# a matrix: the argument to the array function is a nested Python list\n",
    "M = np.array([[1, 2], [3, 4]])\n",
    "\n",
    "print(M)\n",
    "\n",
    "type(v), type(M)"
   ]
  },
  {
   "cell_type": "markdown",
   "metadata": {
    "slideshow": {
     "slide_type": "subslide"
    }
   },
   "source": [
    "The difference between the `v` and `M` arrays is only their shapes. We can get information about the shape and size of an array by using the `shape` and `size` properties."
   ]
  },
  {
   "cell_type": "code",
   "execution_count": 42,
   "metadata": {
    "slideshow": {
     "slide_type": "fragment"
    }
   },
   "outputs": [
    {
     "name": "stdout",
     "output_type": "stream",
     "text": [
      "(4,)\n",
      "(2, 2)\n",
      "4\n",
      "4\n"
     ]
    }
   ],
   "source": [
    "print(v.shape)\n",
    "print(M.shape)\n",
    "print(v.size)\n",
    "print(M.size)"
   ]
  },
  {
   "cell_type": "markdown",
   "metadata": {
    "slideshow": {
     "slide_type": "subslide"
    }
   },
   "source": [
    "Arrays are similar to lists, but they must contain a single type:"
   ]
  },
  {
   "cell_type": "code",
   "execution_count": 43,
   "metadata": {
    "slideshow": {
     "slide_type": "fragment"
    }
   },
   "outputs": [
    {
     "ename": "ValueError",
     "evalue": "invalid literal for int() with base 10: 'hello'",
     "output_type": "error",
     "traceback": [
      "\u001b[0;31m---------------------------------------------------------------------------\u001b[0m",
      "\u001b[0;31mValueError\u001b[0m                                Traceback (most recent call last)",
      "\u001b[0;32m<ipython-input-43-e1f336250f69>\u001b[0m in \u001b[0;36m<module>\u001b[0;34m\u001b[0m\n\u001b[0;32m----> 1\u001b[0;31m \u001b[0mM\u001b[0m\u001b[0;34m[\u001b[0m\u001b[0;36m0\u001b[0m\u001b[0;34m,\u001b[0m\u001b[0;36m0\u001b[0m\u001b[0;34m]\u001b[0m \u001b[0;34m=\u001b[0m \u001b[0;34m\"hello\"\u001b[0m\u001b[0;34m\u001b[0m\u001b[0;34m\u001b[0m\u001b[0m\n\u001b[0m",
      "\u001b[0;31mValueError\u001b[0m: invalid literal for int() with base 10: 'hello'"
     ]
    }
   ],
   "source": [
    "M[0,0] = \"hello\""
   ]
  },
  {
   "cell_type": "markdown",
   "metadata": {
    "slideshow": {
     "slide_type": "subslide"
    }
   },
   "source": [
    "If we want, we can explicitly define the type of the array data when we create it, using the `dtype` keyword argument: "
   ]
  },
  {
   "cell_type": "code",
   "execution_count": 44,
   "metadata": {
    "slideshow": {
     "slide_type": "fragment"
    }
   },
   "outputs": [
    {
     "data": {
      "text/plain": [
       "array([[1.+0.j, 2.+0.j],\n",
       "       [3.+0.j, 4.+0.j]])"
      ]
     },
     "execution_count": 44,
     "metadata": {},
     "output_type": "execute_result"
    }
   ],
   "source": [
    "M = np.array([[1, 2], [3, 4]], dtype=complex)\n",
    "\n",
    "M"
   ]
  },
  {
   "cell_type": "markdown",
   "metadata": {
    "slideshow": {
     "slide_type": "subslide"
    }
   },
   "source": [
    "### Creating arrays with functions"
   ]
  },
  {
   "cell_type": "markdown",
   "metadata": {
    "slideshow": {
     "slide_type": "fragment"
    }
   },
   "source": [
    "It is often more efficient to generate large arrays instead of creating them from lists. There are a few useful functions for this in numpy:\n",
    "\n",
    "* `np.arange` - create a range with a specified step size (endpoints not included)\n",
    "* `np.linspace` - create a range with a specified number of points (endpoints *are* included)\n",
    "* `np.logspace` - create a range with a specified number of points in log space (endpoints *are* included)\n",
    "* `np.mgrid` - create points on a multi-dimensional grid (similar to meshgrid in matlab)\n",
    "* `np.random.rand` - create random number matrix from a uniform distribution\n",
    "* `np.random.randn` - create random number matrix from a standard normal distribution\n",
    "* `np.zeros` - create a matrix of zeros\n",
    "* `np.ones` - create a matrix of ones\n",
    "* `np.eye` - create identity matrix"
   ]
  },
  {
   "cell_type": "code",
   "execution_count": 7,
   "metadata": {
    "slideshow": {
     "slide_type": "subslide"
    }
   },
   "outputs": [
    {
     "name": "stdout",
     "output_type": "stream",
     "text": [
      "[0.  0.5 1.  1.5 2.  2.5 3.  3.5 4.  4.5 5.  5.5 6.  6.5 7.  7.5 8.  8.5\n",
      " 9.  9.5]\n",
      "[ 0.          0.71428571  1.42857143  2.14285714  2.85714286  3.57142857\n",
      "  4.28571429  5.          5.71428571  6.42857143  7.14285714  7.85714286\n",
      "  8.57142857  9.28571429 10.        ]\n",
      "[   1.            2.15443469    4.64158883   10.           21.5443469\n",
      "   46.41588834  100.          215.443469    464.15888336 1000.        ]\n",
      "[0.0, 0.33333333333333337, 0.6666666666666666, 1.0, 1.3333333333333333, 1.6666666666666665, 2.0, 2.333333333333333, 2.6666666666666665, 3.0]\n"
     ]
    }
   ],
   "source": [
    "x = np.arange(0, 10, 0.5) # arguments: start, stop, step\n",
    "print(x)\n",
    "x = np.linspace(0,10,15)\n",
    "print(x)\n",
    "x = np.logspace(0,3,10,base=10)\n",
    "print(x)\n",
    "print([np.log10(xi) for xi in x])"
   ]
  },
  {
   "cell_type": "code",
   "execution_count": 8,
   "metadata": {
    "slideshow": {
     "slide_type": "subslide"
    }
   },
   "outputs": [
    {
     "name": "stdout",
     "output_type": "stream",
     "text": [
      "[[0 0 0 0 0]\n",
      " [1 1 1 1 1]\n",
      " [2 2 2 2 2]\n",
      " [3 3 3 3 3]\n",
      " [4 4 4 4 4]]\n",
      "[[0 1 2 3 4]\n",
      " [0 1 2 3 4]\n",
      " [0 1 2 3 4]\n",
      " [0 1 2 3 4]\n",
      " [0 1 2 3 4]]\n"
     ]
    }
   ],
   "source": [
    "x, y = np.mgrid[0:5, 0:5] # similar to meshgrid in MATLAB\n",
    "print(x)\n",
    "print(y)"
   ]
  },
  {
   "cell_type": "code",
   "execution_count": 9,
   "metadata": {
    "slideshow": {
     "slide_type": "subslide"
    }
   },
   "outputs": [
    {
     "name": "stdout",
     "output_type": "stream",
     "text": [
      "[[0.48012987 0.47237413 0.69472084]\n",
      " [0.96773638 0.90948751 0.98234481]\n",
      " [0.04180248 0.35583907 0.86649923]]\n",
      "[[ 0.74037594  0.44313288 -0.1305822 ]\n",
      " [-0.27459825 -0.6022369   0.80975182]\n",
      " [ 1.92298721  1.21303185  1.75858636]]\n"
     ]
    }
   ],
   "source": [
    "# uniform random numbers in [0,1]\n",
    "rand_uniform = np.random.rand(3,3)\n",
    "print(rand_uniform)\n",
    "# standard normal distributed random numbers\n",
    "rand_normal = np.random.randn(3,3)\n",
    "print(rand_normal)"
   ]
  },
  {
   "cell_type": "code",
   "execution_count": 10,
   "metadata": {
    "slideshow": {
     "slide_type": "subslide"
    }
   },
   "outputs": [
    {
     "name": "stdout",
     "output_type": "stream",
     "text": [
      "[[0. 0. 0.]\n",
      " [0. 0. 0.]\n",
      " [0. 0. 0.]]\n",
      "[[1. 1. 1.]\n",
      " [1. 1. 1.]\n",
      " [1. 1. 1.]]\n",
      "[[1. 0. 0.]\n",
      " [0. 1. 0.]\n",
      " [0. 0. 1.]]\n"
     ]
    }
   ],
   "source": [
    "z = np.zeros((3,3)) #note that these take 1 tuple argument instead of multiple integers\n",
    "one = np.ones((3,3))\n",
    "I = np.eye(3,3) #but not this one... this is an annoying inconsistency.\n",
    "print(z)\n",
    "print(one)\n",
    "print(I)"
   ]
  },
  {
   "cell_type": "markdown",
   "metadata": {
    "slideshow": {
     "slide_type": "subslide"
    }
   },
   "source": [
    "## File I/O\n",
    "\n",
    "* Numpy has built-in functionality for reading/writing CSV or TSV (tab-separated value) files\n",
    "\n",
    "Consider the following example:"
   ]
  },
  {
   "cell_type": "code",
   "execution_count": 45,
   "metadata": {
    "slideshow": {
     "slide_type": "subslide"
    }
   },
   "outputs": [
    {
     "name": "stdout",
     "output_type": "stream",
     "text": [
      "1800  1  1    -6.1    -6.1    -6.1 1\n",
      "1800  1  2   -15.4   -15.4   -15.4 1\n",
      "1800  1  3   -15.0   -15.0   -15.0 1\n",
      "1800  1  4   -19.3   -19.3   -19.3 1\n",
      "1800  1  5   -16.8   -16.8   -16.8 1\n",
      "1800  1  6   -11.4   -11.4   -11.4 1\n",
      "1800  1  7    -7.6    -7.6    -7.6 1\n",
      "1800  1  8    -7.1    -7.1    -7.1 1\n",
      "1800  1  9   -10.1   -10.1   -10.1 1\n",
      "1800  1 10    -9.5    -9.5    -9.5 1\n"
     ]
    }
   ],
   "source": [
    "!head stockholm_td_adj.dat"
   ]
  },
  {
   "cell_type": "code",
   "execution_count": 46,
   "metadata": {
    "slideshow": {
     "slide_type": "fragment"
    }
   },
   "outputs": [
    {
     "name": "stdout",
     "output_type": "stream",
     "text": [
      "(77431, 7)\n"
     ]
    }
   ],
   "source": [
    "data = np.genfromtxt('stockholm_td_adj.dat')\n",
    "print(data.shape)"
   ]
  },
  {
   "cell_type": "markdown",
   "metadata": {
    "slideshow": {
     "slide_type": "subslide"
    }
   },
   "source": [
    "Numpy can also write `csv` files from arrays:"
   ]
  },
  {
   "cell_type": "code",
   "execution_count": 13,
   "metadata": {
    "slideshow": {
     "slide_type": "fragment"
    }
   },
   "outputs": [
    {
     "name": "stdout",
     "output_type": "stream",
     "text": [
      "[[ True  True  True  True  True  True]\n",
      " [ True  True  True  True  True  True]\n",
      " [ True  True  True  True  True  True]\n",
      " [ True  True  True  True  True  True]\n",
      " [ True  True  True  True  True  True]\n",
      " [ True  True  True  True  True  True]]\n"
     ]
    }
   ],
   "source": [
    "M = np.random.rand(6,6)\n",
    "np.savetxt(\"random-matrix.csv\", M)\n",
    "M1 = np.genfromtxt(\"random-matrix.csv\")\n",
    "print(M1==M)"
   ]
  },
  {
   "cell_type": "markdown",
   "metadata": {
    "slideshow": {
     "slide_type": "slide"
    }
   },
   "source": [
    "## Manipulating arrays\n",
    "\n",
    "Once we generate `numpy` arrays, we need to interact with them. This involves a few operations:\n",
    "\n",
    "* indexing - accessing certain elements\n",
    "* index \"slicing\" - accessing certain subsets of elements\n",
    "* fancy indexing - combinations of indexing and slicing\n",
    "\n",
    "This is not very different from Matlab."
   ]
  },
  {
   "cell_type": "markdown",
   "metadata": {
    "slideshow": {
     "slide_type": "subslide"
    }
   },
   "source": [
    "We can index elements in an array using square brackets and indices:"
   ]
  },
  {
   "cell_type": "code",
   "execution_count": 14,
   "metadata": {
    "slideshow": {
     "slide_type": "fragment"
    }
   },
   "outputs": [
    {
     "name": "stdout",
     "output_type": "stream",
     "text": [
      "1\n",
      "0.48592621526273416\n",
      "[0.39320197 0.48592622 0.36324379 0.01187931 0.16797644 0.59601437]\n",
      "True\n"
     ]
    }
   ],
   "source": [
    "# v is a vector, and has only one dimension, taking one index\n",
    "print(v[0])\n",
    "# M is a matrix, or a 2 dimensional array, taking two indices \n",
    "print(M[1,1])\n",
    "# If an index is ommitted then the whole row is returned\n",
    "print(M[1])\n",
    "# This means that we can also index with multiple brackets if we want to type more:\n",
    "print(M[1][1] == M[1,1])"
   ]
  },
  {
   "cell_type": "markdown",
   "metadata": {
    "slideshow": {
     "slide_type": "subslide"
    }
   },
   "source": [
    "The same thing can be achieved with using `:` instead of an index: "
   ]
  },
  {
   "cell_type": "code",
   "execution_count": 15,
   "metadata": {
    "slideshow": {
     "slide_type": "fragment"
    }
   },
   "outputs": [
    {
     "name": "stdout",
     "output_type": "stream",
     "text": [
      "[0.39320197 0.48592622 0.36324379 0.01187931 0.16797644 0.59601437]\n",
      "[0.00146124 0.48592622 0.63602386 0.34178976 0.26215253 0.90135028]\n"
     ]
    }
   ],
   "source": [
    "print(M[1,:]) # row 1\n",
    "print(M[:,1]) # column 1"
   ]
  },
  {
   "cell_type": "markdown",
   "metadata": {
    "slideshow": {
     "slide_type": "subslide"
    }
   },
   "source": [
    "We can assign new values to elements or rows in an array using indexing:"
   ]
  },
  {
   "cell_type": "code",
   "execution_count": 16,
   "metadata": {
    "slideshow": {
     "slide_type": "fragment"
    }
   },
   "outputs": [
    {
     "name": "stdout",
     "output_type": "stream",
     "text": [
      "[[1.         0.00146124 0.65320253 0.53819379 0.85305548 0.15992202]\n",
      " [0.39320197 0.48592622 0.36324379 0.01187931 0.16797644 0.59601437]\n",
      " [0.12604362 0.63602386 0.87630864 0.81996614 0.84820733 0.83141949]\n",
      " [0.86420059 0.34178976 0.24237393 0.82042579 0.46236983 0.72346029]\n",
      " [0.15369664 0.26215253 0.290678   0.70923425 0.72081884 0.79705541]\n",
      " [0.41168725 0.90135028 0.8154973  0.22475208 0.32129672 0.36781922]]\n",
      "[[ 1.          0.00146124 -1.          0.53819379  0.85305548  0.15992202]\n",
      " [ 0.39320197  0.48592622 -1.          0.01187931  0.16797644  0.59601437]\n",
      " [ 0.12604362  0.63602386 -1.          0.81996614  0.84820733  0.83141949]\n",
      " [ 0.86420059  0.34178976 -1.          0.82042579  0.46236983  0.72346029]\n",
      " [ 0.15369664  0.26215253 -1.          0.70923425  0.72081884  0.79705541]\n",
      " [ 0.41168725  0.90135028 -1.          0.22475208  0.32129672  0.36781922]]\n"
     ]
    }
   ],
   "source": [
    "M[0,0] = 1\n",
    "print(M)\n",
    "M[:,2] = -1\n",
    "print(M)"
   ]
  },
  {
   "cell_type": "markdown",
   "metadata": {
    "slideshow": {
     "slide_type": "subslide"
    }
   },
   "source": [
    "### Index slicing\n",
    "\n",
    "Index slicing is the name for the syntax `M[lower:upper:step]` to extract a subset of an array."
   ]
  },
  {
   "cell_type": "code",
   "execution_count": 17,
   "metadata": {
    "slideshow": {
     "slide_type": "fragment"
    }
   },
   "outputs": [
    {
     "name": "stdout",
     "output_type": "stream",
     "text": [
      "[ 1  2  3  4  5  6  7  8  9 10 11 12 13 14 15 16 17 18 19]\n",
      "[2 4 6 8]\n",
      "[2 3 4 5 6 7 8]\n",
      "[ 6  7  8  9 10 11 12 13 14 15 16 17 18 19]\n",
      "[17 18 19]\n"
     ]
    }
   ],
   "source": [
    "A = np.arange(1,20)\n",
    "print(A)\n",
    "print(A[1:8:2])\n",
    "print(A[1:8]) #This is the most common usage\n",
    "print(A[5:])\n",
    "print(A[-3:])"
   ]
  },
  {
   "cell_type": "markdown",
   "metadata": {
    "slideshow": {
     "slide_type": "subslide"
    }
   },
   "source": [
    "Array values can also be assigned using slicing:"
   ]
  },
  {
   "cell_type": "code",
   "execution_count": 18,
   "metadata": {
    "slideshow": {
     "slide_type": "fragment"
    }
   },
   "outputs": [
    {
     "name": "stdout",
     "output_type": "stream",
     "text": [
      "[ 1 -2 -3  4  5  6  7  8  9 10 11 12 13 14 15 16 17 18 19]\n"
     ]
    }
   ],
   "source": [
    "A[1:3] = [-2,-3]\n",
    "print(A)"
   ]
  },
  {
   "cell_type": "markdown",
   "metadata": {
    "slideshow": {
     "slide_type": "subslide"
    }
   },
   "source": [
    "Index slicing works exactly the same way for multidimensional arrays:"
   ]
  },
  {
   "cell_type": "code",
   "execution_count": 47,
   "metadata": {
    "slideshow": {
     "slide_type": "fragment"
    }
   },
   "outputs": [
    {
     "name": "stdout",
     "output_type": "stream",
     "text": [
      "(10, 10, 10)\n",
      "(2, 3)\n",
      "[[0.58999857 0.72976466 0.56025706]\n",
      " [0.03397562 0.33914918 0.33279598]]\n"
     ]
    }
   ],
   "source": [
    "R = np.random.rand(10,10,10)\n",
    "print(R.shape)\n",
    "subR = R[3:5, 1:4, 0]\n",
    "print(subR.shape)\n",
    "print(subR)"
   ]
  },
  {
   "cell_type": "markdown",
   "metadata": {
    "slideshow": {
     "slide_type": "subslide"
    }
   },
   "source": [
    "### Fancy indexing\n",
    "\n",
    "Fancy indexing is the name for when an array or list is used in-place of an index: "
   ]
  },
  {
   "cell_type": "code",
   "execution_count": 20,
   "metadata": {
    "slideshow": {
     "slide_type": "fragment"
    }
   },
   "outputs": [
    {
     "name": "stdout",
     "output_type": "stream",
     "text": [
      "[[0.66063383 0.78185722 0.08538858 0.50967112]\n",
      " [0.96025493 0.9992953  0.81209343 0.64494647]\n",
      " [0.88079298 0.35600591 0.59912385 0.27916972]\n",
      " [0.0380985  0.52180105 0.84137092 0.99267959]]\n",
      "----------\n",
      "[[0.96025493 0.9992953  0.81209343 0.64494647]\n",
      " [0.0380985  0.52180105 0.84137092 0.99267959]]\n"
     ]
    }
   ],
   "source": [
    "R = np.random.rand(4,4)\n",
    "print(R)\n",
    "print('-'*10)\n",
    "row_indices = [1, 3]\n",
    "print(R[row_indices])"
   ]
  },
  {
   "cell_type": "code",
   "execution_count": 21,
   "metadata": {
    "slideshow": {
     "slide_type": "fragment"
    }
   },
   "outputs": [
    {
     "name": "stdout",
     "output_type": "stream",
     "text": [
      "[0.9992953  0.99267959]\n"
     ]
    }
   ],
   "source": [
    "col_indices = [1, -1] # remember, index -1 means the last element\n",
    "print(R[row_indices, col_indices])"
   ]
  },
  {
   "cell_type": "markdown",
   "metadata": {
    "slideshow": {
     "slide_type": "subslide"
    }
   },
   "source": [
    "### Transposing arrays\n",
    "\n",
    "Arrays can easily be transposed with `.T`."
   ]
  },
  {
   "cell_type": "code",
   "execution_count": 22,
   "metadata": {
    "slideshow": {
     "slide_type": "fragment"
    }
   },
   "outputs": [
    {
     "name": "stdout",
     "output_type": "stream",
     "text": [
      "[[0.8828413  0.95798832]\n",
      " [0.63045611 0.16988725]\n",
      " [0.00438886 0.78269257]\n",
      " [0.55362746 0.00678702]\n",
      " [0.92757275 0.74391061]\n",
      " [0.26054478 0.94333052]\n",
      " [0.27704329 0.62743922]\n",
      " [0.59401807 0.54693468]]\n",
      "(8, 2)\n",
      "[[0.8828413  0.63045611 0.00438886 0.55362746 0.92757275 0.26054478\n",
      "  0.27704329 0.59401807]\n",
      " [0.95798832 0.16988725 0.78269257 0.00678702 0.74391061 0.94333052\n",
      "  0.62743922 0.54693468]]\n",
      "(2, 8)\n"
     ]
    }
   ],
   "source": [
    "skinny = np.random.rand(8,2)\n",
    "print(skinny)\n",
    "print(skinny.shape)\n",
    "fat = skinny.T\n",
    "print(fat)\n",
    "print(fat.shape)"
   ]
  },
  {
   "cell_type": "markdown",
   "metadata": {
    "slideshow": {
     "slide_type": "slide"
    }
   },
   "source": [
    "## Linear algebra in Numpy"
   ]
  },
  {
   "cell_type": "markdown",
   "metadata": {
    "slideshow": {
     "slide_type": "subslide"
    }
   },
   "source": [
    "Formulating your code as matrix-matrix and matrix-vector operations in Numpy will make it much more efficient. We will briefly cover syntax for:\n",
    "\n",
    "* scalar*vector\n",
    "* scalar*matrix\n",
    "* matrix*vector\n",
    "* matrix*matrix\n",
    "* inverse\n",
    "* determinant\n",
    "* solve Ax=b"
   ]
  },
  {
   "cell_type": "markdown",
   "metadata": {
    "slideshow": {
     "slide_type": "subslide"
    }
   },
   "source": [
    "### Scalar-array operations\n",
    "\n",
    "We can use the usual arithmetic operators to multiply, add, subtract, and divide arrays with scalar numbers."
   ]
  },
  {
   "cell_type": "code",
   "execution_count": 23,
   "metadata": {
    "slideshow": {
     "slide_type": "fragment"
    }
   },
   "outputs": [
    {
     "name": "stdout",
     "output_type": "stream",
     "text": [
      "[0 1 2 3 4]\n",
      "----------\n",
      "[0 2 4 6 8]\n",
      "----------\n",
      "[2 3 4 5 6]\n"
     ]
    }
   ],
   "source": [
    "v1 = np.arange(0, 5)\n",
    "print(v1)\n",
    "print('-'*10)\n",
    "print(v1*2)\n",
    "print('-'*10)\n",
    "print(v1+2)"
   ]
  },
  {
   "cell_type": "markdown",
   "metadata": {
    "slideshow": {
     "slide_type": "subslide"
    }
   },
   "source": [
    "Same goes for matrices:"
   ]
  },
  {
   "cell_type": "code",
   "execution_count": 24,
   "metadata": {
    "slideshow": {
     "slide_type": "fragment"
    }
   },
   "outputs": [
    {
     "name": "stdout",
     "output_type": "stream",
     "text": [
      "[[0.80135151 0.98493697]\n",
      " [0.87576621 0.15106052]]\n",
      "----------\n",
      "[[1.60270302 1.96987393]\n",
      " [1.75153243 0.30212105]]\n",
      "----------\n",
      "[[2.80135151 2.98493697]\n",
      " [2.87576621 2.15106052]]\n"
     ]
    }
   ],
   "source": [
    "M = np.random.rand(2,2)\n",
    "print(M)\n",
    "print('-'*10)\n",
    "print(M*2)\n",
    "print('-'*10)\n",
    "print(M+2)"
   ]
  },
  {
   "cell_type": "markdown",
   "metadata": {
    "slideshow": {
     "slide_type": "subslide"
    }
   },
   "source": [
    "### Element-wise array-array operations\n",
    "\n",
    "When we add, subtract, multiply and divide arrays with each other, the default behaviour is **element-wise** operations. This is different from Matlab!"
   ]
  },
  {
   "cell_type": "code",
   "execution_count": 25,
   "metadata": {
    "slideshow": {
     "slide_type": "fragment"
    }
   },
   "outputs": [
    {
     "name": "stdout",
     "output_type": "stream",
     "text": [
      "[2 3 4 5]\n",
      "[ 4  9 16 25]\n",
      "[1. 1. 1. 1.]\n",
      "----------\n",
      "[[1 2]\n",
      " [3 4]]\n",
      "[[ 1  4]\n",
      " [ 9 16]]\n"
     ]
    }
   ],
   "source": [
    "v1 = np.arange(2,6)\n",
    "print(v1)\n",
    "print(v1*v1)\n",
    "print(v1/v1)\n",
    "\n",
    "print('-'*10)\n",
    "\n",
    "M = np.array([[1,2],[3,4]])\n",
    "print(M)\n",
    "print(M*M)"
   ]
  },
  {
   "cell_type": "markdown",
   "metadata": {
    "slideshow": {
     "slide_type": "subslide"
    }
   },
   "source": [
    "### Matrix algebra\n",
    "\n",
    "What about matrix mutiplication?\n",
    "\n",
    "* use the `dot` function (recommended)\n",
    "* use the `matrix` class (`+`, `*`, `-` use matrix algebra)"
   ]
  },
  {
   "cell_type": "code",
   "execution_count": 48,
   "metadata": {
    "slideshow": {
     "slide_type": "fragment"
    }
   },
   "outputs": [
    {
     "name": "stdout",
     "output_type": "stream",
     "text": [
      "[1. 2. 3.]\n",
      "[[1. 0. 0.]\n",
      " [0. 1. 0.]\n",
      " [0. 0. 1.]]\n",
      "14\n",
      "[[1.]\n",
      " [2.]\n",
      " [3.]]\n",
      "[[1. 0. 0.]\n",
      " [0. 1. 0.]\n",
      " [0. 0. 1.]]\n",
      "[[14]]\n"
     ]
    }
   ],
   "source": [
    "A = np.eye(3,3)\n",
    "v = np.array([1,2,3])\n",
    "print(np.dot(A,v))\n",
    "print(np.dot(A,A))\n",
    "print(np.dot(v,v))\n",
    "\n",
    "A = np.matrix(A)\n",
    "v = np.matrix(v)\n",
    "print(A*v.T)\n",
    "print(A*A)\n",
    "print(v*v.T)"
   ]
  },
  {
   "cell_type": "markdown",
   "metadata": {
    "slideshow": {
     "slide_type": "subslide"
    }
   },
   "source": [
    "### Common matrix operations\n",
    "\n",
    "We can easily calculate the inverse and determinant using `inv` and `det`"
   ]
  },
  {
   "cell_type": "code",
   "execution_count": 27,
   "metadata": {
    "slideshow": {
     "slide_type": "fragment"
    }
   },
   "outputs": [
    {
     "name": "stdout",
     "output_type": "stream",
     "text": [
      "[[-1  2]\n",
      " [ 3 -1]]\n",
      "[[0.2 0.4]\n",
      " [0.6 0.2]]\n",
      "-5.000000000000001\n"
     ]
    }
   ],
   "source": [
    "A = np.array([[-1,2],[3,-1]])\n",
    "print(A)\n",
    "print(np.linalg.inv(A))\n",
    "print(np.linalg.det(A))"
   ]
  },
  {
   "cell_type": "markdown",
   "metadata": {
    "slideshow": {
     "slide_type": "slide"
    }
   },
   "source": [
    "## Data processing in with Numpy arrays"
   ]
  },
  {
   "cell_type": "markdown",
   "metadata": {
    "slideshow": {
     "slide_type": "subslide"
    }
   },
   "source": [
    "Numpy provides a number of functions to calculate statistics of datasets in arrays. \n",
    "\n",
    "For example, let's calculate some properties from the Stockholm temperature dataset used above."
   ]
  },
  {
   "cell_type": "code",
   "execution_count": 49,
   "metadata": {
    "slideshow": {
     "slide_type": "fragment"
    }
   },
   "outputs": [
    {
     "name": "stdout",
     "output_type": "stream",
     "text": [
      "(77431, 7)\n",
      "Y: 1800.0, M: 1.0, D: 1.0, Avg: -6.1, Low: -6.1, Hi: -6.1, Loc: 1.0\n"
     ]
    }
   ],
   "source": [
    "# reminder, the tempeature dataset is stored in the data variable:\n",
    "print(data.shape)\n",
    "print('Y: {}, M: {}, D: {}, Avg: {}, Low: {}, Hi: {}, Loc: {}'.format(*data[0, :]))"
   ]
  },
  {
   "cell_type": "markdown",
   "metadata": {
    "slideshow": {
     "slide_type": "subslide"
    }
   },
   "source": [
    "We can use numpy to easily calculate:\n",
    "\n",
    "* mean\n",
    "* standard deviation\n",
    "* variance\n",
    "* min/max"
   ]
  },
  {
   "cell_type": "code",
   "execution_count": 29,
   "metadata": {
    "slideshow": {
     "slide_type": "fragment"
    }
   },
   "outputs": [
    {
     "name": "stdout",
     "output_type": "stream",
     "text": [
      "278.0810699664401\n",
      "278.0810699664401\n",
      "6.197109684751585\n"
     ]
    }
   ],
   "source": [
    "print(np.mean(data))\n",
    "print(data.mean())\n",
    "# the mean of the entire dataset is pretty meaningless...\n",
    "\n",
    "# the temperature data is in column 3\n",
    "print(data[:,3].mean())"
   ]
  },
  {
   "cell_type": "code",
   "execution_count": 30,
   "metadata": {
    "slideshow": {
     "slide_type": "subslide"
    }
   },
   "outputs": [
    {
     "name": "stdout",
     "output_type": "stream",
     "text": [
      "stdev: 8.282271621340573\n",
      "variance: 68.59602320966341\n",
      "min -25.8\n",
      "max 28.3\n",
      "8.282271621340573\n"
     ]
    }
   ],
   "source": [
    "#We can calculate standard deviation, variance, min, and max in the same way:\n",
    "print('stdev:',np.std(data[:,3]))\n",
    "print('variance:',np.var(data[:,3]))\n",
    "print('min',np.min(data[:,3]))\n",
    "print('max',np.max(data[:,3]))\n",
    "\n",
    "#note that all of these are also *methods* of the array *class*\n",
    "print(data[:,3].std())"
   ]
  },
  {
   "cell_type": "markdown",
   "metadata": {
    "slideshow": {
     "slide_type": "subslide"
    }
   },
   "source": [
    "### Calculations with higher-dimensional data\n",
    "\n",
    "Sometimes we want to apply an operation across a single dimension. For example, we might want the mean of very column. This is controlled with the `axis` argument:"
   ]
  },
  {
   "cell_type": "code",
   "execution_count": 50,
   "metadata": {
    "slideshow": {
     "slide_type": "fragment"
    }
   },
   "outputs": [
    {
     "name": "stdout",
     "output_type": "stream",
     "text": [
      "(77431, 7)\n",
      "(7,)\n",
      "[1.90550041e+03 6.52304633e+00 1.57292945e+01 6.19710968e+00\n",
      " 5.83217058e+00 5.78546190e+00 1.00000000e+00]\n"
     ]
    }
   ],
   "source": [
    "avgs = np.mean(data,axis=0)\n",
    "print(data.shape)\n",
    "print(avgs.shape)\n",
    "print(avgs)"
   ]
  },
  {
   "cell_type": "code",
   "execution_count": 32,
   "metadata": {
    "slideshow": {
     "slide_type": "subslide"
    }
   },
   "outputs": [
    {
     "name": "stdout",
     "output_type": "stream",
     "text": [
      "0.5852023410024356\n",
      "[[0.495667   0.53786811 0.62776447]\n",
      " [0.5308831  0.65776438 0.5564225 ]\n",
      " [0.67219267 0.55226669 0.63599215]]\n"
     ]
    }
   ],
   "source": [
    "R = np.random.rand(3,3,3)\n",
    "print(R.mean())\n",
    "print(R.mean(axis=2))"
   ]
  },
  {
   "cell_type": "code",
   "execution_count": 33,
   "metadata": {},
   "outputs": [
    {
     "name": "stdout",
     "output_type": "stream",
     "text": [
      "[[[0.20205199 0.43400518 0.85094382]\n",
      "  [0.90902935 0.53537367 0.16920129]\n",
      "  [0.86653719 0.18185072 0.8349055 ]]\n",
      "\n",
      " [[0.65254124 0.02925621 0.91085185]\n",
      "  [0.53407727 0.9578823  0.48133358]\n",
      "  [0.54450772 0.94190815 0.18285163]]\n",
      "\n",
      " [[0.68145727 0.80588745 0.52923329]\n",
      "  [0.07569367 0.87914578 0.70196062]\n",
      "  [0.11497311 0.95688812 0.83611522]]]\n"
     ]
    }
   ],
   "source": [
    "print(R)"
   ]
  },
  {
   "cell_type": "markdown",
   "metadata": {
    "slideshow": {
     "slide_type": "slide"
    }
   },
   "source": [
    "## Reshaping and resizing arrays"
   ]
  },
  {
   "cell_type": "markdown",
   "metadata": {
    "slideshow": {
     "slide_type": "subslide"
    }
   },
   "source": [
    "The shape of a Numpy array can be modified without copying the underlaying data, which makes it a fast operation even for large arrays. There are rules that govern how this reshaping takes place."
   ]
  },
  {
   "cell_type": "code",
   "execution_count": 34,
   "metadata": {
    "slideshow": {
     "slide_type": "fragment"
    }
   },
   "outputs": [
    {
     "name": "stdout",
     "output_type": "stream",
     "text": [
      "(3, 3, 3)\n",
      "(3, 9)\n",
      "(27,)\n"
     ]
    }
   ],
   "source": [
    "print(R.shape)\n",
    "n,m,p = R.shape\n",
    "Q = R.reshape((n, m*p))\n",
    "print(Q.shape)\n",
    "F = R.flatten() #the \"flatten\" function turns the whole array into a vector\n",
    "print(F.shape)"
   ]
  },
  {
   "cell_type": "markdown",
   "metadata": {
    "slideshow": {
     "slide_type": "subslide"
    }
   },
   "source": [
    "Two common pitfalls in reshaping arrays:\n",
    "\n",
    "* Reshaping rules do not behave as expected\n",
    "* Reshaping provides a different \"view\" of the data, but **does not copy it**"
   ]
  },
  {
   "cell_type": "code",
   "execution_count": 35,
   "metadata": {
    "slideshow": {
     "slide_type": "fragment"
    }
   },
   "outputs": [
    {
     "name": "stdout",
     "output_type": "stream",
     "text": [
      "0.20205199044075084\n",
      "0.20205199044075084\n",
      "0.9090293527816719\n",
      "0.4340051832902998\n",
      "0.9090293527816719\n"
     ]
    }
   ],
   "source": [
    "print(R[0,0,0])\n",
    "print(F[0])\n",
    "print(R[0,1,0])\n",
    "print(F[1])\n",
    "print(F[3])"
   ]
  },
  {
   "cell_type": "code",
   "execution_count": 36,
   "metadata": {
    "slideshow": {
     "slide_type": "fragment"
    }
   },
   "outputs": [
    {
     "name": "stdout",
     "output_type": "stream",
     "text": [
      "0.20205199044075084\n",
      "10.0\n",
      "10.0\n"
     ]
    }
   ],
   "source": [
    "print(R[0,0,0])\n",
    "Q[0] = 10\n",
    "print(R[0,0,0]) #resize does not copy the data\n",
    "F[0] = 6\n",
    "print(R[0,0,0]) #flatten makes copies"
   ]
  },
  {
   "cell_type": "markdown",
   "metadata": {
    "slideshow": {
     "slide_type": "subslide"
    }
   },
   "source": [
    "### Making \"deep copy\"\n",
    "\n",
    "If you really want a copy of an array, use the `np.copy` function:"
   ]
  },
  {
   "cell_type": "code",
   "execution_count": 37,
   "metadata": {
    "slideshow": {
     "slide_type": "fragment"
    }
   },
   "outputs": [
    {
     "name": "stdout",
     "output_type": "stream",
     "text": [
      "[[1 2]\n",
      " [3 4]]\n",
      "[[10  2]\n",
      " [ 3  4]]\n",
      "[[10  2]\n",
      " [ 3  4]]\n"
     ]
    }
   ],
   "source": [
    "A = np.array([[1, 2], [3, 4]])\n",
    "print(A)\n",
    "B = A\n",
    "B[0,0] = 10\n",
    "print(A)\n",
    "Acopy = np.copy(A)\n",
    "Acopy[1,1] = 6\n",
    "print(A)"
   ]
  },
  {
   "cell_type": "markdown",
   "metadata": {
    "slideshow": {
     "slide_type": "slide"
    }
   },
   "source": [
    "## Using arrays in conditions\n",
    "\n",
    "`if` statements and other boolean expressions are ambiguous with arrays.\n",
    "\n",
    "* `any` checks to see if any members are true/false\n",
    "* `all` checks to see if all members are true/false"
   ]
  },
  {
   "cell_type": "code",
   "execution_count": 51,
   "metadata": {
    "slideshow": {
     "slide_type": "fragment"
    }
   },
   "outputs": [
    {
     "name": "stdout",
     "output_type": "stream",
     "text": [
      "[[1.+0.j 2.+0.j]\n",
      " [3.+0.j 4.+0.j]]\n",
      "[[False  True]\n",
      " [ True  True]]\n"
     ]
    }
   ],
   "source": [
    "print(M)\n",
    "print(M>1)"
   ]
  },
  {
   "cell_type": "code",
   "execution_count": 39,
   "metadata": {
    "slideshow": {
     "slide_type": "fragment"
    }
   },
   "outputs": [
    {
     "name": "stdout",
     "output_type": "stream",
     "text": [
      "at least one element in M is larger than 1\n"
     ]
    }
   ],
   "source": [
    "if (M > 1).any():\n",
    "    print(\"at least one element in M is larger than 1\")\n",
    "else:\n",
    "    print(\"no element in M is larger than 1\")"
   ]
  },
  {
   "cell_type": "code",
   "execution_count": 40,
   "metadata": {
    "slideshow": {
     "slide_type": "fragment"
    }
   },
   "outputs": [
    {
     "name": "stdout",
     "output_type": "stream",
     "text": [
      "all elements in M are not larger than 1\n"
     ]
    }
   ],
   "source": [
    "if (M > 1).all():\n",
    "    print(\"all elements in M are larger than 1\")\n",
    "else:\n",
    "    print(\"all elements in M are not larger than 1\")"
   ]
  }
 ],
 "metadata": {
  "anaconda-cloud": {},
  "celltoolbar": "Slideshow",
  "kernelspec": {
   "display_name": "Python 3 (ipykernel)",
   "language": "python",
   "name": "python3"
  },
  "language_info": {
   "codemirror_mode": {
    "name": "ipython",
    "version": 3
   },
   "file_extension": ".py",
   "mimetype": "text/x-python",
   "name": "python",
   "nbconvert_exporter": "python",
   "pygments_lexer": "ipython3",
   "version": "3.9.16"
  },
  "name": "_merged"
 },
 "nbformat": 4,
 "nbformat_minor": 4
}
