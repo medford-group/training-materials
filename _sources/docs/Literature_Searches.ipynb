{
 "cells": [
  {
   "cell_type": "markdown",
   "metadata": {},
   "source": [
    "(lit-search)=\n",
    "# Basics of Searching and Reading Scientific Literature"
   ]
  },
  {
   "cell_type": "markdown",
   "metadata": {},
   "source": [
    "Searching the scientific literature is a critical skill in research, and is something you should practice throughout your time in the VIP course. Reading scientific publications from others helps you understand the technical topics that are relevant to your work, but also give you experience in how to effectively communicate scientific findings. If your project is very successful and you are motivated to write then you might even be able to help write a new contribution to the scientific literature through this course!"
   ]
  },
  {
   "cell_type": "markdown",
   "metadata": {},
   "source": [
    "## Basic Search Strategies\n",
    "\n",
    "- Absolute Searching\n",
    "\n",
    "- Relative Searching\n",
    "\n",
    "- Continuous Updates\n",
    "\n",
    "- AI-powered Searching\n",
    "\n",
    "### Absolute Searches\n",
    "\n",
    "- Use databases such as [Web of Science](https://apps.webofknowledge.com/WOS_GeneralSearch_input.do?product=WOS&search_mode=GeneralSearch&SID=4EfVjR2mo9oBIcGKmob&preferencesSaved=) and/or [Scopus](https://www.scopus.com/home.uri).\n",
    "\n",
    "- Search for terms that you think are relevant to your interest\n",
    "\t- Use quotation marks and \"wildcard\" characters (*, ?)\n",
    "\t- Constrain to reviews when learning a new topic.\n",
    "\t- Use \"exclude\" functionality to avoid unwanted topics.\n",
    "\t- Remember that you can \"refine\" searches.\n",
    "- Sorting is important!\n",
    "\t- Most relevant.\n",
    "\t- Most recent.\n",
    "\t- Highest cited.\n",
    "    \n",
    "### Relative Searches\n",
    "\n",
    "- Start with a review paper or a few very relevant papers.\n",
    "\n",
    "- Go through references list, particularly introductory references.\n",
    "\t- Use [Crossref Metadata search](http://search.crossref.org/) to find articles from citations.\n",
    "\t- Some journal sites will have links to cited works.\n",
    "\t- Look for commonly cited authors.\n",
    "\n",
    "- Many journal websites will have a \"cited by\" column. This can be very valuable.\n",
    "\n",
    "- Search Web of Science or Scopus by author, including keywords as necessary.\n",
    "\n",
    "### Continuous Updates\n",
    "\n",
    "- Once you get an overview of a branch of literature you still need to stay current!\n",
    "\n",
    "- Different communities have different feeds. \n",
    "\t- For machine learning, materials, and quantum mechanics I recommend [this](https://citrine.us3.list-manage.com/subscribe?u=014639e57e11aa6a7d2f2e4a8&id=60e6d7fee0) feed curated by Citrine: https://citrine.us3.list-manage.com/subscribe?u=014639e57e11aa6a7d2f2e4a8&id=60e6d7fee0\n",
    "\t- You can set up alerts for Google Scholar searches.\n",
    "    \n",
    "### AI-Powered Searching\n",
    "\n",
    "This is a new (as of 2023) and powerful but dangerous tool. There are many emerging tools that claim to use artificial intelligence (AI) to accelerate literature searches. Some seem promising, but others fail miserably. I strongly recommend getting familiar with the basic \"manual\" search strategies above before venturing into these, but I realize that the allure is very strong. Here I will highlight two tools: one that works reasonably well, and one that fails in the most dangerous possible way.\n",
    "\n",
    "* [Perplexity](https://www.perplexity.ai/) - This AI-powered search is connected to the internet, which allows it to generally find references. A good strategy is to ask it to `Write a well-referenced paragraph about...` which gives some context along with citations. Note that many of them will not be peer-reviewed, but some may, and it can help you navigate the jargon of an unfamiliar field. However, you should ***always*** carefully review any reference yourself before citing it to ensure that the tool did not make a mistake.\n",
    "\n",
    "* ChatGPT - This AI tool made large language models famous, but it is a terrible failure at searching the literature. It will make up very convincing references that simply do not exist. If you tell it they don't exist, it will apologize and make up some more. This process can be repeated ad nauseum, but in my experience it has never found a real useful reference. These \"false positives\" are very dangerous in AI-powered literature searches, so proceed with caution."
   ]
  },
  {
   "cell_type": "markdown",
   "metadata": {},
   "source": [
    "## Evaluating Journals\n",
    "\n",
    "- Impact factor is the canonical measure of importance\n",
    "\t- Nature, Science, PNAS\n",
    "\t- Nature family journals\n",
    "\t- JACS (chemistry), Physical Review (physics)\n",
    "\n",
    "\n",
    "![](images/eigenfactor.png \"Eigenfactor image\")\n",
    "\n",
    "\n",
    "- [Eigenfactor.org](http://www.eigenfactor.org/projects/well-formed/radial.html) is a useful tool for visualizing journal impact.\n",
    "\n",
    "- Different fields have different metrics. For example, peer-reviewed conferences are highly prestigious in computer science and mathematics, while some of the most impactful papers are posted on non-peer-reviewed pre-print servers like [arXiv](https://arxiv.org/)."
   ]
  },
  {
   "cell_type": "markdown",
   "metadata": {},
   "source": [
    "## Managing References \n",
    "\n",
    "- Drinking from the firehose: Entering a new field will lead to information overload.\n",
    "\t- Abstracts are your friend. Use them to differentiate useful from non-useful papers with minimal overhead.\n",
    "\t- Learn to skim papers before reading them deeply.\n",
    "\t- Prioritize the papers you read carefully.\n",
    "\n",
    "- Storing and Organizing\n",
    "\t- Mendeley offers good cross-platform literature management and sharing.\n",
    "\t- Project-specific Bibtex files.\n",
    "\t- Various other software available.\n",
    "\n",
    "- There are some \"recommender\" services through Mendeley, and others, that can be used to leverage your existing library to keep up with new papers."
   ]
  },
  {
   "cell_type": "markdown",
   "metadata": {},
   "source": [
    "## A basic algorithm for searching a new subject\n",
    "\n",
    "1) Absolute search: Identify <10 key papers\n",
    "\t- Review papers (most highly cited)\n",
    "\t- Most relevant papers\n",
    "    \n",
    "2) Relative search: Identify <5 top authors\n",
    "\t- Use citations from key papers\n",
    "\t- Find most highly cited relevant papers from these authors\n",
    "    \n",
    "3) Absolute search: Refine search terms based on current reading\n",
    "\t- Most relevant papers\n",
    "\t- Newest papers\n",
    "    \n",
    "4) Repeat steps 2-3 as necessary. \n",
    "\n",
    "- Most topics can be summarized in <100 well-chosen papers.\n",
    "\t- 1-3 review papers\n",
    "\t- All highly-cited older papers\n",
    "\t- Newest high-impact papers (Nature, Science, PNAS, Phys. Rev.)\n",
    "\t- Balance of technical vs. perspective\n",
    "\t- Balance of theory/experiment\n",
    "\t- Balance of different authors/groups"
   ]
  },
  {
   "cell_type": "markdown",
   "metadata": {},
   "source": [
    "## Reading a Paper: Typical Paper Format\n",
    "\n",
    "- Introduction\n",
    "\t- Motivation for why the work is important\n",
    "\t- Context of previous work in related areas\n",
    "- Results & Discussion\n",
    "\t- Results of experiments/calculations\n",
    "\t- Analysis of data\n",
    "\t- Discussion of hypotheses verified\n",
    "\t- Discussion of relevance to larger problem(s)\n",
    "- Experimental/Methods\n",
    "\t- Detailed explanation outlining how the work could be repeated\n",
    "- Conclusion\n",
    "\t- Summary of importance of work\n",
    "\t- Summary of question answered/hypothesis verified\n",
    "- Appendices/Supplementary Information\n",
    "\t- Data and discussion that is only relevant for repeating work\n",
    "\t- Discussion of details/decisions that would not affect conclusions\n"
   ]
  },
  {
   "cell_type": "markdown",
   "metadata": {},
   "source": [
    "## Basic Reading Strategy\n",
    "\n",
    "###  Zooming In\n",
    "- Iteration 1: Skim the paper\n",
    "\t- Read abstract\n",
    "\t- Look at figures and captions\n",
    "\t- Look for relevant equations/tables\n",
    "\t- Read conclusion\n",
    "- Iteration 2: Read the paper\n",
    "\t- Read introduction, results, discussion\n",
    "\t- Skim experimental/methods\n",
    "\t- Take notes! Store relevant keywords in citation manager.\n",
    "- Iteration 3: Deep Dive\n",
    "\t- Read experimental/methods\n",
    "\t- Read supplementary information\n",
    "\t- Implement equations/methods\n",
    "\n",
    "\n",
    "###  Arbitrary guideline for \"zooming in\"\n",
    "- Skim about 70-90% of papers from a search\n",
    "- Read about 50% of the papers you skim\n",
    "- Deep dive about 10% of the papers you read"
   ]
  },
  {
   "cell_type": "markdown",
   "metadata": {},
   "source": [
    "## Directions for Literature Search for VIP students:\n",
    "\n",
    "At least every two weeks you should use the strategies outlined above (or other strategies), to identify a peer-reviewed scientific paper that is relevant to your VIP project. First, skim the paper and answer the \"Skimming questions\" outlined below. Next, read the paper and answer the \"Reading Questions\". Overall, you should spend between 30-60 minutes on each paper, and you should use the questions below as a guideline for discussing the paper. The responses should be included in **each bi-weekly update**."
   ]
  },
  {
   "cell_type": "markdown",
   "metadata": {},
   "source": [
    "## Questions for Literature Review Assignment:\n",
    "\n",
    "### Skimming questions:\n",
    "\n",
    "#### Summarize the overall goal of the work.\n",
    "\n",
    "#### What figure is most interesting or relevant? What is the main thing you learned from it?\n",
    "\n",
    "### Reading questions:\n",
    "\n",
    "#### What is the strongest point of the paper?\n",
    "\n",
    "#### What is the weakest point of the paper?\n",
    "\n",
    "#### How does the paper relate to your research project?"
   ]
  },
  {
   "cell_type": "markdown",
   "metadata": {},
   "source": [
    "## An Example:\n",
    "\n",
    "```\n",
    "Name: AJ Medford\n",
    "Paper: Wellendorff, J., Lundgaard, K. T., Møgelhøj, A., Petzold, V., Landis, D. D., Nørskov, J. K., … Jacobsen, K. W. (2012). Density functionals for surface science: Exchange-correlation model development with Bayesian error estimation. Physical Review B, 85(23). doi:10.1103/physrevb.85.235149\n",
    "\n",
    "Skimming Questions:\n",
    "\n",
    "1) Summarize the overall goal of the work.\n",
    "\n",
    "A methodology for semiempirical density functional optimization, using regularization and cross-validation\n",
    "methods from machine learning, is developed, and a general-purpose density functional for\n",
    "surface science and catalysis studies is introduced. The functional is evaluated for accuracy in describing bond breaking and formation in chemistry, lattice constants from solid\n",
    "state physics, and adsorptoin energies for surface chemistry.\n",
    "\n",
    "2) What figure is most interesting or relevant? What is the main thing you learned from it?\n",
    "\n",
    "Figure 5 was most interesting because it demonstrates that the approach yields an *ensemble* of approximations.\n",
    "\n",
    "Reading Questions:\n",
    "\n",
    "3) What is the strongest point of the paper?\n",
    "\n",
    "The fact that the functional has a built-in estimate of the error that can generalize to systems outside the training space.\n",
    "\n",
    "4) What is the weakest point of the paper?\n",
    "\n",
    "The model space they use is not complete, so the error of the functionals is still relatively large.\n",
    "\n",
    "5) How does the paper relate to your research project?\n",
    "\n",
    "This paper uses a combination of quantum-mechanical simulations (DFT) and big-data techniques to establish a new way of doing DFT simulations.\n",
    "```"
   ]
  },
  {
   "cell_type": "code",
   "execution_count": null,
   "metadata": {},
   "outputs": [],
   "source": []
  }
 ],
 "metadata": {
  "kernelspec": {
   "display_name": "Python 3",
   "language": "python",
   "name": "python3"
  },
  "language_info": {
   "codemirror_mode": {
    "name": "ipython",
    "version": 3
   },
   "file_extension": ".py",
   "mimetype": "text/x-python",
   "name": "python",
   "nbconvert_exporter": "python",
   "pygments_lexer": "ipython3",
   "version": "3.8.8"
  },
  "toc": {
   "base_numbering": 1,
   "nav_menu": {},
   "number_sections": true,
   "sideBar": true,
   "skip_h1_title": true,
   "title_cell": "Table of Contents",
   "title_sidebar": "Contents",
   "toc_cell": true,
   "toc_position": {},
   "toc_section_display": true,
   "toc_window_display": false
  }
 },
 "nbformat": 4,
 "nbformat_minor": 4
}
