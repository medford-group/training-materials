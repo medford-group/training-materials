{
 "cells": [
  {
   "cell_type": "markdown",
   "id": "107744e2-0ba6-48b4-88b9-bff3c7685101",
   "metadata": {},
   "source": [
    "# Machine Learning Continued"
   ]
  },
  {
   "cell_type": "markdown",
   "id": "c6b7d5c3-1bf0-43a2-99d6-d791612aed45",
   "metadata": {},
   "source": [
    "## Content"
   ]
  },
  {
   "cell_type": "code",
   "execution_count": null,
   "id": "bb7d402a-6670-4615-b7b1-19f72d82df73",
   "metadata": {},
   "outputs": [],
   "source": []
  }
 ],
 "metadata": {
  "kernelspec": {
   "display_name": "gen_ml",
   "language": "python",
   "name": "gen_ml"
  },
  "language_info": {
   "codemirror_mode": {
    "name": "ipython",
    "version": 3
   },
   "file_extension": ".py",
   "mimetype": "text/x-python",
   "name": "python",
   "nbconvert_exporter": "python",
   "pygments_lexer": "ipython3",
   "version": "3.9.16"
  }
 },
 "nbformat": 4,
 "nbformat_minor": 5
}
