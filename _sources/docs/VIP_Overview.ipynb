{
 "cells": [
  {
   "cell_type": "markdown",
   "metadata": {},
   "source": [
    "# Big Data & Quantum Mechanics\n",
    " \n",
    "\n",
    "## Overview of Medford Group research\n",
    "\n",
    "![MedfordImg](./medford_group_bg.png)\n",
    "\n"
   ]
  },
  {
   "cell_type": "markdown",
   "metadata": {},
   "source": [
    "## About Prof. AJ Medford\n",
    "\n",
    "- Started as a professor (and this VIP course) in Spring 2017.\n",
    "- Experience in developing and contributing to several open-source software packages (CatMAP, ElectroLens, TAPSolver, SPARC, AMPTorch)\n",
    "- Instructor for \"Data Analytics for Chemical Engineers\" and Numerical Methods.\n",
    "- Interest in applying data science techniques to problems in quantum chemistry and physics.\n"
   ]
  },
  {
   "cell_type": "markdown",
   "metadata": {},
   "source": [
    "## Introductions\n",
    "\n",
    "We will go around the class and introduce ourselves to the everyone. When it is your turn to speak, tell everyone your *preferred name, major, and something **boring** about yourself*."
   ]
  },
  {
   "cell_type": "markdown",
   "metadata": {},
   "source": [
    "## How does VIP work?\n",
    "\n",
    "The premise of VIP is teams working on projects. Much like a real-world engineering team, individual members work on different aspects of the project. Team members range from sophomores through graduate students, from first-time participants to students who have been involved for four or more semesters. Some students take the course for one credit, and others take it for two credits; naturally, the bar will be higher for those taking it for two credits.\n"
   ]
  },
  {
   "cell_type": "markdown",
   "metadata": {},
   "source": [
    "## How is VIP graded?\n",
    "\n",
    "You will receive a grade for the course based on three criteria:\n",
    "\n",
    "- Documentation (33.3%): Based on biweekly updates of progress on tasks.\n",
    "- Personal Accomplishments (33.3%): Based on how well you achieve your research goals.\n",
    "- Teamwork and Participation (33.3%): Peer evaluations will be used to establish how well you work on a team.\n",
    "\n",
    "Grading process:\n",
    "- Bi-weekly on Thursday: Submit \"bi-weekly update\" and literature review to Canvas. Complete peer grading (instructions in syllabus).\n",
    "\n",
    "- Midterm: Submit personal accomplishment documentation to Canvas. Complete peer evaluations. Complete peer grading. *Note for returning students* This grade **will** be counted towards your final grade in the course.\n",
    "\n",
    "- Final: Identical to midterm. Final grade will be a weighted average of the midterm and final submissions.\n",
    "\n",
    "The following deliverables are expected at the midterm and final evaluations. Note that the \"personal accomplishment\" documentation will be graded using a combination of peer grading and instructor grading, so you will also need to complete the peer grading at each point.\n",
    "\n",
    "- Deliverables: \n",
    "    - Compiled bi-weekly update\n",
    "    - Personal accomplishment documentation\n",
    "    - Peer grading\n",
    "    - Peer evaluation\n",
    "    - Demonstrated completion of all assigned training materials\n",
    "\n",
    "See [syllabus](VIP_syllabus.md) for more details."
   ]
  },
  {
   "cell_type": "markdown",
   "metadata": {},
   "source": [
    "## VIP is not like a regular course \n",
    "\n",
    "Regular courses have a clear direction:\n",
    "\n",
    "![MarioImg](./mario.png)\n",
    "\n",
    "VIP lets you choose your own adventure:\n",
    "\n",
    "![ZeldaImg](./zelda.jpeg)\n"
   ]
  },
  {
   "cell_type": "markdown",
   "metadata": {},
   "source": [
    "## Group Communication:\n",
    "\n",
    "- Slack group used for all communication, join using [this link](https://join.slack.com/t/slack-ymv5720/shared_invite/zt-21v1xmbap-5FQMR2rgE0B5krwMZPFyBQ)\n",
    "\t- training: discussion related to training project.\n",
    "\t- general: channel for general discussions with the whole group.\n",
    " "
   ]
  },
  {
   "cell_type": "markdown",
   "metadata": {},
   "source": [
    "## Team Structure : New Students\n",
    "\n",
    "- Complete training materials. Consists of introductions to computational tools, density functional theory, and machine learning concepts.\n",
    "\n",
    "New students will join the \"Training\" sub-team. You will work individually to complete all the tasks, but should meet regularly with your teammates and graduate advisor to touch base on progress, ask questions, and get help with anything you are stuck on. The training materials should be completed shortly after the midterm. After the training course, you are free to join one of the sub-teams directly, or \"sample\" the available teams each week, but keep in mind that the expectation is that you join just one team by the end of the semester and begin working on a specific project. "
   ]
  },
  {
   "cell_type": "markdown",
   "metadata": {},
   "source": [
    "## Team Structure: Returning Students, OMSCS Students, post Training New Students\n",
    "\n",
    "- Returning students will join one of the \"sub-teams\" described below, or work on \"independent study\" projects.\n",
    "- OMSCS students can decide whether to complete the training exercises or join a sub-team (or both)\n",
    "- New students will be expected to join one of the sub-teams after the midterm\n",
    "\n",
    "### Sub-teams\n",
    "- There are several sub-teams, each of which will function as a small research group advised by a graduate mentor\n",
    "    * **DFT Modeling of Surface Reactions** - This team will focus on the computational investigation of surface reactions using SPARC DFT code, as well as testing and improving the SPARC code suite.\n",
    "    * **Machine Learning for Catalysis** - This team will focus on developing ML tools for catalysis, with a focus on LLMs for both catalysis and DFT workflow automation (ChatDFT).\n",
    "    * **Machine Learning for Catalyst Discovery in Waste Sludge Chemistry** - This team will focus on utilizing ML tools to generate surface adsorption energy predictions and data analytics to provide insights for waste sludge chemistry. \n",
    "    \n",
    "- Students should work on self-defined individual tasks within the scope of a sub-team\n",
    "    * Each student should have a clearly-defined task that they are working independently on. This task should be self-determined and within the scope of the broader goal of the sub-team based on consultations with other sub-team members and the graduate student advisor.\n",
    "    * Students may work together on a given task or direction, but should also have individual goals.\n",
    "    * Students should regularly communicate with their sub-team to (1) coordinate progress on individual tasks to work toward the larger goal of the team, (2) ask for and provide assistance to other sub-team members, and (3) seek advice from and provide updates to the sub-team graduate mentor.\n",
    "    * It is fully expected that the goals of research tasks change throughout the semester. The goals document can be updated at any time up to 2 weeks prior to the end of the semester. Students should revise goals as needed to ensure they are achievable.\n",
    "    * Note that the achievements grade is determined by your sub-team advisor. Different advisors may have different expectations and organizational standards. You should be sure to clearly communicate with your subteam advisor to be sure that you are meeting their expectations."
   ]
  },
  {
   "cell_type": "markdown",
   "metadata": {},
   "source": [
    "## Standard meeting format\n",
    "\n",
    "Subsequent meetings will follow one of three formats. We will start each meeting virtually in this Zoom room regardless of the format.\n",
    "\n",
    "* Lecture meetings:  The main lecture will be used to briefly discuss logistics before breaking into sub-groups. All training students should plan on attending the training breakout session for discussion regarding that week's lecture(s), while other subgroups will attend their own breakout rooms. Sub-groups where all (or some) of the students are on campus may elect to meet in person or in a hybrid mode based on the preference of group members.\n",
    "\n",
    "\n",
    "* Update meetings: For midterm and final updates, each team will post a 10-15 minute update presentation to Canvas, and each student will be assigned 3 update presentations to watch and provide peer reviews before class. During the class time, all students are expected to be present, and we will go through each group to field questions and discuss their work. Any remaining time will be used for sub-group meetings. \n",
    "\n",
    "\n",
    "* Workshops: No official lecture topic. The entire lecture will be used as unstructured time to work on projects and interact with mentors and instructors. Training students should use this as an opportunity to join the breakout room of the subteams they are most interested in joining.\n",
    "\n",
    "**Note:** If no member of your sub-team is present for the synchronous lecture, then everyone from the group will lose 1/2 point (out of 5) from the teamwork grade. If you cannot attend please coordinate with your group and confirm with an instructor at least 24 hours ahead of time if nobody from your group will be there."
   ]
  },
  {
   "cell_type": "markdown",
   "metadata": {},
   "source": [
    "## Lecture schedule and syllabus\n",
    "\n",
    "The course [syllabus](VIP_syllabus.md) is available within this book, and includes a list of all the lecture topics and dates."
   ]
  },
  {
   "cell_type": "markdown",
   "metadata": {},
   "source": [
    "## Week 1 Assignment\n",
    "\n",
    "- Join the [Slack channel](https://join.slack.com/t/slack-ymv5720/shared_invite/zt-21v1xmbap-5FQMR2rgE0B5krwMZPFyBQ)\n",
    "- Start discussion for selecting your group or sub-team project\n",
    "- Install necessary software following instructions below."
   ]
  },
  {
   "cell_type": "markdown",
   "metadata": {},
   "source": [
    "## Software Installation:\n",
    "\n",
    "### Install Anaconda3\n",
    "\n",
    "We'll be using Python3 and Jupyter notebooks extenstively in this class. To access this easily, we'll need to install anaconda3. To do that, go to the anaconda website below and simply follow the buttons to download and install it (ensure that you're downloading the correct version for your operating system.)\n",
    "\n",
    "https://www.anaconda.com/distribution/\n",
    "\n",
    "### Ensure you can access a linux/unix prompt\n",
    "\n",
    "#### Windows users:\n",
    "Please install the windows ubuntu subsystem using these instructions:\n",
    "\n",
    "https://docs.microsoft.com/en-us/windows/wsl/install-win10\n",
    "\n",
    "#### Mac users:\n",
    "Be sure you can open a [terminal](https://www.youtube.com/watch?v=zw7Nd67_aFw)"
   ]
  }
 ],
 "metadata": {
  "kernelspec": {
   "display_name": "Python 3 (ipykernel)",
   "language": "python",
   "name": "python3"
  },
  "language_info": {
   "codemirror_mode": {
    "name": "ipython",
    "version": 3
   },
   "file_extension": ".py",
   "mimetype": "text/x-python",
   "name": "python",
   "nbconvert_exporter": "python",
   "pygments_lexer": "ipython3",
   "version": "3.8.11"
  },
  "toc": {
   "base_numbering": 1,
   "nav_menu": {},
   "number_sections": true,
   "sideBar": true,
   "skip_h1_title": true,
   "title_cell": "Table of Contents",
   "title_sidebar": "Contents",
   "toc_cell": true,
   "toc_position": {},
   "toc_section_display": true,
   "toc_window_display": false
  }
 },
 "nbformat": 4,
 "nbformat_minor": 4
}
