{
 "cells": [
  {
   "cell_type": "markdown",
   "id": "d2fe0ce8-b7ef-40d0-8d03-f85630d3ae8d",
   "metadata": {},
   "source": [
    "# Exercises"
   ]
  },
  {
   "cell_type": "markdown",
   "id": "845c1165-e92b-49ee-a8b1-acfed1ad01d1",
   "metadata": {},
   "source": [
    "## Exercise 1"
   ]
  },
  {
   "cell_type": "markdown",
   "id": "33441ff2",
   "metadata": {},
   "source": [
    "We begin with single point calculations in SPARC. Compute gas-phase formation energies for water, carbon dioxide, and ammonia using the common Perdew–Burke-Ernzerhof generalized gradient approximation (GGA) functional. You can get the reference energy for carbon from graphite. Compare your results to those from experimentation. What do you notice?"
   ]
  },
  {
   "cell_type": "code",
   "execution_count": null,
   "id": "b3d2476b",
   "metadata": {},
   "outputs": [],
   "source": [
    "import os\n",
    "from ase import Atoms, io\n",
    "from ase.io import read, write\n",
    "from ase.build import bulk, molecule, surface, add_adsorbate\n",
    "from ase.units import Bohr,Hartree,mol,kcal,kJ,eV\n",
    "from sparc import SPARC\n",
    "\n",
    "#Code here"
   ]
  },
  {
   "cell_type": "code",
   "execution_count": null,
   "id": "bfc87273",
   "metadata": {},
   "outputs": [],
   "source": [
    "import re, json\n",
    "\n",
    "def readFile(path):\n",
    "    \"\"\"\n",
    "    Code here\n",
    "    \"\"\"\n",
    "    \n",
    "    return content\n",
    "\n",
    "def read_energy(path):\n",
    "    \"\"\"\n",
    "    Code here\n",
    "    \"\"\"\n",
    "    \n",
    "    return energy\n",
    "\n",
    "def get_E_form(name):\n",
    "    \"\"\"\n",
    "    Code here\n",
    "    \"\"\"\n",
    "    \n",
    "    return E_form  \n",
    "\n",
    "#Code here"
   ]
  },
  {
   "cell_type": "markdown",
   "id": "02a4ec58",
   "metadata": {},
   "source": [
    "Repeat the above calculations using the B3LYP hydrid functional. How do these energies compare to those from experimentation and from DFT with the PBE functional? Does the computation time with the B3LYP change? Explain why or why not."
   ]
  },
  {
   "cell_type": "code",
   "execution_count": null,
   "id": "d13501cf",
   "metadata": {},
   "outputs": [],
   "source": [
    "import os\n",
    "from ase import Atoms, io\n",
    "from ase.io import read, write\n",
    "from ase.build import bulk, molecule, surface, add_adsorbate\n",
    "from ase.units import Bohr,Hartree,mol,kcal,kJ,eV\n",
    "from sparc import SPARC\n",
    "  \n",
    "#Code here"
   ]
  },
  {
   "cell_type": "markdown",
   "id": "7d656717",
   "metadata": {},
   "source": [
    "## Exercise 2"
   ]
  },
  {
   "cell_type": "markdown",
   "id": "54072710",
   "metadata": {},
   "source": [
    "Next, we revisit Ca-LTA from the prior ASE exercises. Use DFT with the PBE functional to perform a single point energy calculation for the empty Ca-LTA framework. Report the resulting energy in eV/atom."
   ]
  },
  {
   "cell_type": "code",
   "execution_count": null,
   "id": "a8fb3b7a",
   "metadata": {},
   "outputs": [],
   "source": [
    "import os\n",
    "from ase import Atoms, io\n",
    "from ase.io import read, write\n",
    "from ase.build import bulk, molecule, surface, add_adsorbate\n",
    "from ase.units import Bohr,Hartree,mol,kcal,kJ,eV\n",
    "from sparc import SPARC\n",
    "\n",
    "#Code here"
   ]
  },
  {
   "cell_type": "markdown",
   "id": "da8baba6",
   "metadata": {},
   "source": [
    "Repeat the above calculation with both spin polarization and a D3 dispersion correction. How does the answer change and why?"
   ]
  },
  {
   "cell_type": "code",
   "execution_count": null,
   "id": "2e38d1cd-8af1-41a9-a97b-cd6eb00e8090",
   "metadata": {},
   "outputs": [],
   "source": [
    "#Code here"
   ]
  },
  {
   "cell_type": "markdown",
   "id": "4b00db54",
   "metadata": {},
   "source": [
    "## Exercise 3"
   ]
  },
  {
   "cell_type": "markdown",
   "id": "a0715a00",
   "metadata": {},
   "source": [
    "Follow the steps from the previous set of exercises to import Ca-LTA as an Atoms object with periodic boundary conditions. But this time, use LiH5C5N2O5 structure for faster calculation."
   ]
  },
  {
   "cell_type": "code",
   "execution_count": null,
   "id": "384bd9ff",
   "metadata": {},
   "outputs": [],
   "source": [
    "from ase import Atoms, io\n",
    "from ase.io import read, write\n",
    "\n",
    "atoms = read('LiH5C5N2O5.cif')\n",
    "atoms.pbc = True\n",
    "\n",
    "print(len(atoms))"
   ]
  },
  {
   "cell_type": "markdown",
   "id": "d4975fba",
   "metadata": {},
   "source": [
    "Use an ASE calculator to compute the potential energy (Do single-point calculation, which means that you don't need to do atomic relaxation) for LiH5C5N2O5 in eV/atom."
   ]
  },
  {
   "cell_type": "code",
   "execution_count": null,
   "id": "ff0bf826",
   "metadata": {},
   "outputs": [],
   "source": [
    "from sparc import SPARC\n",
    "from ase.units import Bohr,Hartree,mol,kcal,kJ,eV\n",
    "\n",
    "#Code here"
   ]
  },
  {
   "cell_type": "markdown",
   "id": "ae56723e",
   "metadata": {},
   "source": [
    "Next, manipulate the original Atoms object by adjusting just one of the lattice parameters such that the lattice parameter fluctuates +/- 20%. Create 4 equidistant images (-20% to +20%) and perform single point calculations. Be sure to scale atomic positions when setting the cell parameters. Plot the energy as a function of the cell volume."
   ]
  },
  {
   "cell_type": "code",
   "execution_count": null,
   "id": "76131adf",
   "metadata": {},
   "outputs": [],
   "source": [
    "#Code here"
   ]
  },
  {
   "cell_type": "markdown",
   "id": "5e2cc7ab",
   "metadata": {},
   "source": [
    "Fit a cubic equation of state (E = f(V = poly of order 3)) and find the Volume (or lattice constant) that minimizes the energy. Recall that the volume can be calculated by $\\vec{v_1} \\cdot (\\vec{v_2} \\times \\vec{v_3})$ Verify that this volume correponds approximately to the original value for the unmanipulated lattice parameter."
   ]
  },
  {
   "cell_type": "code",
   "execution_count": null,
   "id": "aab7c2af",
   "metadata": {},
   "outputs": [],
   "source": [
    "#Code here"
   ]
  }
 ],
 "metadata": {
  "kernelspec": {
   "display_name": "Python 3 (ipykernel)",
   "language": "python",
   "name": "python3"
  },
  "language_info": {
   "codemirror_mode": {
    "name": "ipython",
    "version": 3
   },
   "file_extension": ".py",
   "mimetype": "text/x-python",
   "name": "python",
   "nbconvert_exporter": "python",
   "pygments_lexer": "ipython3",
   "version": "3.9.16"
  }
 },
 "nbformat": 4,
 "nbformat_minor": 5
}
