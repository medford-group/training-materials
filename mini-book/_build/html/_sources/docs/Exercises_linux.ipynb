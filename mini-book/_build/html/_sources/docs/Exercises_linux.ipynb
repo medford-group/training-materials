{
 "cells": [
  {
   "cell_type": "markdown",
   "id": "d2fe0ce8-b7ef-40d0-8d03-f85630d3ae8d",
   "metadata": {},
   "source": [
    "(linux-ex)=\n",
    "# Exercises"
   ]
  },
  {
   "cell_type": "markdown",
   "id": "58d1f53d-6a3e-4c47-afd6-f7af64c1bd20",
   "metadata": {},
   "source": [
    "These exercises cover basic Linux and bash scripting skills."
   ]
  },
  {
   "cell_type": "markdown",
   "id": "845c1165-e92b-49ee-a8b1-acfed1ad01d1",
   "metadata": {},
   "source": [
    "## Exercise 1"
   ]
  },
  {
   "cell_type": "markdown",
   "id": "00402e0a",
   "metadata": {},
   "source": [
    "First, log in to PACE ICE (VIP) or PACE Hive (grad students) using your GTID in your terminal of choice. **Do not cheat this set of exercises by using a built-in file explorer such as Microsoft Visual Studio!** You can learn more from the PACE documentation site (https://pace.gatech.edu/pace-user-documentation). <br> <br>\n",
    "Next, create a folder called \"Training\" in scratch storage. Navigate to the Training folder and create a Python script file called \"test.py\" that prints the phrase \"Hello world!\" as below."
   ]
  },
  {
   "cell_type": "markdown",
   "id": "a804ccda",
   "metadata": {},
   "source": [
    "## Exercise 2"
   ]
  },
  {
   "cell_type": "markdown",
   "id": "8b80d217",
   "metadata": {},
   "source": [
    "In your Training folder, create a bash script that submits your test Python script to the scheduler. Explicitly allocate one core and one node for 5 minutes. Specify an output file called \"test.out\" to save the results of running your Python file. Submit the job using the sbatch command and check to be sure your code printed \"Hello world!\" to \"test.out\". As a reminder, you can check the status of a submitted job by running the command \"squeue -u \\<GT USERNAME\\>\" in the terminal."
   ]
  },
  {
   "cell_type": "markdown",
   "id": "2d70da69",
   "metadata": {},
   "source": [
    "## Exercise 3"
   ]
  },
  {
   "cell_type": "markdown",
   "id": "b3939320",
   "metadata": {},
   "source": [
    "In your Training folder, create a subdirectory called \"Storage\" and move your Python script into \"Storage\" using Linux commands. As a reminder, you can view the path to your current directory using the \"pwd\" (print working directory) command. Next, create a new Python script called \"Example.py.\" in the Storage subdirectory. There should be two Python scripts in this subdirectory at the end of this exercise. You do not need to write any code in Example.py."
   ]
  },
  {
   "cell_type": "markdown",
   "id": "7905e2a1",
   "metadata": {},
   "source": [
    "## Exercise 4"
   ]
  },
  {
   "cell_type": "markdown",
   "id": "33441ff2",
   "metadata": {},
   "source": [
    "Lastly, navigate to the root Training directory. Using only one block of Linux commands, navigate into the Storage subdirectory and delete all Python scripts. Check to ensure that you were successful. **It is important that you delete both files using one set of commands. Do not individually delete each Python script; use bash loops instead!**"
   ]
  }
 ],
 "metadata": {
  "kernelspec": {
   "display_name": "Python 3 (ipykernel)",
   "language": "python",
   "name": "python3"
  },
  "language_info": {
   "codemirror_mode": {
    "name": "ipython",
    "version": 3
   },
   "file_extension": ".py",
   "mimetype": "text/x-python",
   "name": "python",
   "nbconvert_exporter": "python",
   "pygments_lexer": "ipython3",
   "version": "3.9.16"
  }
 },
 "nbformat": 4,
 "nbformat_minor": 5
}
