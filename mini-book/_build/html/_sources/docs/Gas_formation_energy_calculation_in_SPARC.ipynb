{
 "cells": [
  {
   "cell_type": "markdown",
   "metadata": {},
   "source": [
    "# Gas formation energy calculation using DFT\n",
    "\n",
    "## Gas formation Energy\n",
    "- Formation energies describe the energy required for (or released by) the formation of a chemical species from some reference species at a reference state. \n",
    "\n",
    "- You may notice that \"raw\" DFT energies are typically quite large for molecules and surfaces. This is because the DFT energy is calculated relative to a much higher energy reference state. Calculating formation energies allows us to remove the often inconvenient DFT reference and specify one of our own. \n",
    "\n",
    "- The gas formation energy, ${\\Delta}E_{f}$, for water can be obtained by calculating the difference between the energy of the formed gas molecule and the total energies of its components. For example, for $ \\text{H}_{2}\\text{O} $:\n",
    "<br> ${\\Delta}E_{f} (H_{2}O) =  E_{H_{2}O} -  E_{H_{2}} - 1/2 \\cdot E_{O_{2}}$\n",
    "\n",
    "- Here, we have specified two references (H<sub>2</sub>,O<sub>2</sub>) which is equal to the number of unique elements in H<sub>2</sub>O\n"
   ]
  },
  {
   "cell_type": "markdown",
   "metadata": {},
   "source": [
    "## Calculating gas formation Energy in SPARC\n",
    "\n",
    "**H<sub>2</sub>O formation energy**\n",
    "\n",
    "**Building Atoms**\n",
    "\n",
    "* In the following script, we will make Atoms objects for H<sub>2</sub>O, H<sub>2</sub>, and O<sub>2</sub> molecules.\n"
   ]
  },
  {
   "cell_type": "code",
   "execution_count": 1,
   "metadata": {},
   "outputs": [],
   "source": [
    "import numpy as np\n",
    "from ase.build import molecule, bulk\n",
    "\n",
    "#building O2 molecule\n",
    "O2 = molecule('O2')\n",
    "O2.set_cell(np.array([10, 10, 10]))\n",
    "O2.center()\n",
    "\n",
    "#building H2 molecule\n",
    "H2 = molecule('H2')\n",
    "H2.set_cell(np.array([10, 10, 10]))\n",
    "H2.center()\n",
    "\n",
    "#building H2O molecule\n",
    "H2O = molecule('H2O')\n",
    "H2O.set_cell(np.array([10, 10, 10]))\n",
    "H2O.center()"
   ]
  },
  {
   "cell_type": "markdown",
   "metadata": {},
   "source": [
    "**DFT calculation**\n",
    "- In the following script, we define a SPARC calculator object and attach it to an ase.Atoms object so that ase knows how to get the data. After defining the calculator, a DFT calculation can be run. The potential energy can be obtained by the method: get_potential_energy(). The potential energy result can be stored in a text file e.g. 'energy.txt'.\n",
    "- Details on how to submit these calculations can be seen in Lecture 'Running_SPARC_on_PACE'."
   ]
  },
  {
   "cell_type": "markdown",
   "metadata": {},
   "source": [
    "1. O<sub>2</sub> calculation"
   ]
  },
  {
   "cell_type": "code",
   "execution_count": 2,
   "metadata": {},
   "outputs": [
    {
     "name": "stdout",
     "output_type": "stream",
     "text": [
      "Successfully registered sparc format with ase.io!\n"
     ]
    },
    {
     "name": "stderr",
     "output_type": "stream",
     "text": [
      "/home/hice1/nyu49/.local/lib/python3.9/site-packages/sparc/calculator.py:471: UserWarning: You have specified one of FD_GRID, ECUT or MESH_SPACING, conversion of h to mesh grid is ignored.\n",
      "  warn(\"You have specified one of FD_GRID, ECUT or MESH_SPACING, \"\n"
     ]
    },
    {
     "name": "stdout",
     "output_type": "stream",
     "text": [
      "Step  0\n",
      "Step  1\n",
      "Step  2\n",
      "Step  3\n",
      "Step  4\n",
      "{}\n",
      "[0, 1] [0, 1]\n"
     ]
    },
    {
     "name": "stderr",
     "output_type": "stream",
     "text": [
      "/home/hice1/nyu49/.local/lib/python3.9/site-packages/sparc/sparc_parsers/utils.py:56: UserWarning: Key POISSON_SOLVER not in validator's parameter list, ignore value conversion!\n",
      "  warn(\n",
      "/home/hice1/nyu49/.local/lib/python3.9/site-packages/sparc/sparc_parsers/utils.py:56: UserWarning: Key VERBOSITY not in validator's parameter list, ignore value conversion!\n",
      "  warn(\n"
     ]
    }
   ],
   "source": [
    "from ase.optimize import BFGSLineSearch \n",
    "from ase.units import Bohr,Hartree,mol,kcal,kJ,eV\n",
    "from sparc import SPARC\n",
    "import numpy as np\n",
    "\n",
    "image = O2\n",
    "\n",
    "parameters = dict(\n",
    "                EXCHANGE_CORRELATION = 'GGA_PBE',\n",
    "                D3_FLAG=1,   #Grimme D3 dispersion correction\n",
    "                SPIN_TYP=1,   #spin-polarized calculation\n",
    "                KPOINT_GRID=[1,1,1],  #molecule needs single kpoint !\n",
    "                ECUT=800/Hartree,   #set ECUT (Hartree) or h (Angstrom)\n",
    "                #h = 0.15,\n",
    "                TOL_SCF=1e-5,\n",
    "                RELAX_FLAG=1,   #Do structural relaxation (only atomic positions)\n",
    "                TOL_RELAX = 5.00E-04,  #convergence criteria (maximum force) (Ha/Bohr)\n",
    "                PRINT_FORCES=1,\n",
    "                PRINT_RELAXOUT=1)\n",
    "\n",
    "parameters['directory'] = 'O2'\n",
    "\n",
    "calc = SPARC(atoms = image, **parameters)\n",
    "image.set_calculator(calc)\n",
    "\n",
    "eng = image.get_potential_energy()\n",
    "\n",
    "with open('O2_energy.txt', 'w') as f:\n",
    "    f.write(str(eng))\n"
   ]
  },
  {
   "cell_type": "markdown",
   "metadata": {},
   "source": [
    "2. H<sub>2</sub> calculation"
   ]
  },
  {
   "cell_type": "code",
   "execution_count": 3,
   "metadata": {},
   "outputs": [
    {
     "name": "stdout",
     "output_type": "stream",
     "text": [
      "Step  0\n",
      "Step  1\n",
      "Step  2\n",
      "Step  3\n",
      "{}\n",
      "[0, 1] [0, 1]\n"
     ]
    }
   ],
   "source": [
    "from ase.optimize import BFGSLineSearch \n",
    "from ase.units import Bohr,Hartree,mol,kcal,kJ,eV\n",
    "from sparc import SPARC\n",
    "import numpy as np\n",
    "\n",
    "image = H2\n",
    "\n",
    "parameters = dict(\n",
    "                EXCHANGE_CORRELATION = 'GGA_PBE',\n",
    "                D3_FLAG=1,   #Grimme D3 dispersion correction\n",
    "                SPIN_TYP=1,   #spin-polarized calculation\n",
    "                KPOINT_GRID=[1,1,1],  #molecule needs single kpoint !\n",
    "                ECUT=800/Hartree,   #set ECUT (Hartree) or h (Angstrom)\n",
    "                #h = 0.15,\n",
    "                TOL_SCF=1e-5,\n",
    "                RELAX_FLAG=1,   #Do structural relaxation (only atomic positions)\n",
    "                TOL_RELAX = 5.00E-04,  #convergence criteria (maximum force) (Ha/Bohr)\n",
    "                PRINT_FORCES=1,\n",
    "                PRINT_RELAXOUT=1)\n",
    "\n",
    "parameters['directory'] = 'H2'\n",
    "\n",
    "calc = SPARC(atoms = image, **parameters)\n",
    "image.set_calculator(calc)\n",
    "\n",
    "eng = image.get_potential_energy()\n",
    "\n",
    "with open('H2_energy.txt', 'w') as f:\n",
    "    f.write(str(eng))\n",
    "\n"
   ]
  },
  {
   "cell_type": "markdown",
   "metadata": {},
   "source": [
    "3. H<sub>2</sub>O calculation"
   ]
  },
  {
   "cell_type": "code",
   "execution_count": 4,
   "metadata": {},
   "outputs": [
    {
     "name": "stdout",
     "output_type": "stream",
     "text": [
      "Step  0\n",
      "Step  1\n",
      "Step  2\n",
      "{}\n",
      "[2, 0, 1] [1, 2, 0]\n"
     ]
    },
    {
     "name": "stderr",
     "output_type": "stream",
     "text": [
      "/home/hice1/nyu49/.local/lib/python3.9/site-packages/sparc/sparc_parsers/out.py:108: UserWarning: Key atomic mass from run information appears multiple times in your outputfile!\n",
      "  warn(\n"
     ]
    }
   ],
   "source": [
    "from ase.optimize import BFGSLineSearch \n",
    "from ase.units import Bohr,Hartree,mol,kcal,kJ,eV\n",
    "from sparc import SPARC\n",
    "import numpy as np\n",
    "\n",
    "image = H2O\n",
    "\n",
    "parameters = dict(\n",
    "                EXCHANGE_CORRELATION = 'GGA_PBE',\n",
    "                D3_FLAG=1,   #Grimme D3 dispersion correction\n",
    "                SPIN_TYP=1,   #spin-polarized calculation\n",
    "                KPOINT_GRID=[1,1,1],  #molecule needs single kpoint !\n",
    "                ECUT=800/Hartree,   #set ECUT (Hartree) or h (Angstrom)\n",
    "                #h = 0.15,\n",
    "                TOL_SCF=1e-5,\n",
    "                RELAX_FLAG=1,   #Do structural relaxation (only atomic positions)\n",
    "                TOL_RELAX = 5.00E-04,  #convergence criteria (maximum force) (Ha/Bohr)\n",
    "                PRINT_FORCES=1,\n",
    "                PRINT_RELAXOUT=1)\n",
    "\n",
    "parameters['directory'] = 'H2O'\n",
    "\n",
    "calc = SPARC(atoms = image, **parameters)\n",
    "image.set_calculator(calc)\n",
    "\n",
    "eng = image.get_potential_energy()\n",
    "\n",
    "with open('H2O_energy.txt', 'w') as f:\n",
    "    f.write(str(eng))\n",
    "\n",
    "\n"
   ]
  },
  {
   "cell_type": "markdown",
   "metadata": {},
   "source": [
    "- Finally, obtain H<sub>2</sub>O formation energy"
   ]
  },
  {
   "cell_type": "code",
   "execution_count": 8,
   "metadata": {},
   "outputs": [
    {
     "name": "stdout",
     "output_type": "stream",
     "text": [
      "The formation energy of H2O is -2.462 eV.\n",
      "The obtained value (-2.462 eV) is quite close to the experimental value of -2.712 eV.\n"
     ]
    }
   ],
   "source": [
    "import os\n",
    "from ase.io import read\n",
    "\n",
    "def readFile(path):\n",
    "    f = open(path, 'r')\n",
    "    content = f.readlines()\n",
    "    return content\n",
    "\n",
    "def read_energy(path):\n",
    "    energy = float(readFile(path)[0])\n",
    "    return energy\n",
    "\n",
    "E_H2O = read_energy('H2O_energy.txt')\n",
    "E_H2 = read_energy('H2_energy.txt')\n",
    "E_O2 = read_energy('O2_energy.txt')\n",
    "\n",
    "E_f = E_H2O - E_H2 - 1/2*E_O2\n",
    "\n",
    "print('The formation energy of H2O is {0:1.3f} eV.'.format(E_f))\n",
    "print(\"The obtained value (-2.462 eV) is quite close to the experimental value of -2.712 eV.\")"
   ]
  }
 ],
 "metadata": {
  "authors": [
   {
    "name": "Kaylee Tian"
   }
  ],
  "kernelspec": {
   "display_name": "Python (sparc1.2)",
   "language": "python",
   "name": "my-new-env"
  },
  "language_info": {
   "codemirror_mode": {
    "name": "ipython",
    "version": 3
   },
   "file_extension": ".py",
   "mimetype": "text/x-python",
   "name": "python",
   "nbconvert_exporter": "python",
   "pygments_lexer": "ipython3",
   "version": "3.9.17"
  }
 },
 "nbformat": 4,
 "nbformat_minor": 4
}
