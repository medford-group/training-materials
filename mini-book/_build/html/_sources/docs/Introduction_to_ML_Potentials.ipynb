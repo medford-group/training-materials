{
 "cells": [
  {
   "cell_type": "markdown",
   "id": "b09530e8-296c-4fc6-8393-5f4ab699ad72",
   "metadata": {},
   "source": [
    "# Introduction to ML Potentials"
   ]
  },
  {
   "cell_type": "markdown",
   "id": "b8cac74c-f508-43b4-b11c-c954b1028d2f",
   "metadata": {},
   "source": [
    "## Content"
   ]
  },
  {
   "cell_type": "code",
   "execution_count": null,
   "id": "b06a27d1-7a23-4558-a2ed-f7666b7a5f61",
   "metadata": {},
   "outputs": [],
   "source": []
  }
 ],
 "metadata": {
  "kernelspec": {
   "display_name": "gen_ml",
   "language": "python",
   "name": "gen_ml"
  },
  "language_info": {
   "codemirror_mode": {
    "name": "ipython",
    "version": 3
   },
   "file_extension": ".py",
   "mimetype": "text/x-python",
   "name": "python",
   "nbconvert_exporter": "python",
   "pygments_lexer": "ipython3",
   "version": "3.9.16"
  }
 },
 "nbformat": 4,
 "nbformat_minor": 5
}
