{
 "cells": [
  {
   "cell_type": "markdown",
   "id": "d2fe0ce8-b7ef-40d0-8d03-f85630d3ae8d",
   "metadata": {},
   "source": [
    "(python-ex)=\n",
    "# Exercises"
   ]
  },
  {
   "cell_type": "markdown",
   "id": "58d1f53d-6a3e-4c47-afd6-f7af64c1bd20",
   "metadata": {},
   "source": [
    "**Note** Run the [bash script](https://github.com/medford-group/training-materials/blob/main/make_exercises.sh) located in the root folder of the training repo to create a folder with interactive versions of these exercises.\n",
    "\n",
    "These exercises cover basic Python skills."
   ]
  },
  {
   "cell_type": "markdown",
   "id": "845c1165-e92b-49ee-a8b1-acfed1ad01d1",
   "metadata": {},
   "source": [
    "## Exercise 1"
   ]
  },
  {
   "cell_type": "markdown",
   "id": "374c1d33-3842-4ef3-92fa-59589a61b1bd",
   "metadata": {},
   "source": [
    "Begin by importing the numpy Python package with the name \"np\" and the pylab package with the name \"plt.\" Also import the \"os\" package for reading and writing to files."
   ]
  },
  {
   "cell_type": "code",
   "execution_count": null,
   "id": "642116b3-034a-4497-995b-5de39cf9b2d2",
   "metadata": {},
   "outputs": [],
   "source": [
    "import numpy as np\n",
    "import pylab as plt\n",
    "import os"
   ]
  },
  {
   "cell_type": "markdown",
   "id": "e518c4c3-6a2e-4bda-b654-57e3d24978c3",
   "metadata": {},
   "source": [
    "In this exercise, you will consider the Collatz conjecture, which is a famous unsolved problem in mathematics that asks whether repeating two simple arithmetic operations will eventually transform every positive integer into 1. <br>\n",
    "Write a Python **function** that takes any positive integer as an argument. Using loops and conditional statements, perform the following: <br>\n",
    "* If the integer is even, divide by 2\n",
    "* If the integer is odd, multiply by 3 and add 1\n",
    "* Continue until convergence (i.e., the integer becomes 1)\n",
    "* Output the number of iterations required"
   ]
  },
  {
   "cell_type": "code",
   "execution_count": null,
   "id": "58bd1a95-237c-4676-ada2-cad3769ee2cb",
   "metadata": {},
   "outputs": [],
   "source": [
    "def transformer(number):\n",
    "    number_i = number\n",
    "    n_iter = 0\n",
    "    \"\"\"\n",
    "    Write code here\n",
    "    \"\"\"\n",
    "    return number, n_iter\n",
    "\n",
    "transformer(12)\n"
   ]
  },
  {
   "cell_type": "markdown",
   "id": "9326b26f-2fec-4a91-899d-21553ac5b3ed",
   "metadata": {},
   "source": [
    "Test your function using each inital guess in the set *S* = [2, 5, 10, 16, 24, 27, 35, 50]. Use Python plotting functions to plot the number of iterations required for each initial guess (i.e., initial guess on the x-axis and iterations on the y-axis). Lastly, save your plot as \"Collatz_exercise.png\" and write each initial guess with its corresponding number of iterations to a file called \"Collatz.out.\""
   ]
  },
  {
   "cell_type": "code",
   "execution_count": null,
   "id": "fa3e895a-ce7f-4b60-b7b8-d0f95d1deefb",
   "metadata": {},
   "outputs": [],
   "source": [
    "S = [2, 5, 10, 16, 24, 27, 35, 50]\n",
    "\n",
    "\"\"\"\n",
    "Write code here\n",
    "\"\"\""
   ]
  },
  {
   "cell_type": "markdown",
   "id": "a3a830a0-8d89-4e83-9eeb-7c2d1d21f74d",
   "metadata": {},
   "source": [
    "## Exercise 2"
   ]
  },
  {
   "cell_type": "markdown",
   "id": "bd143955-1db7-40c9-b204-cd7439d61012",
   "metadata": {},
   "source": [
    "Write a Python function that takes any string of characters as an argument and displays characters that are present at an even index number. Your function should output an error if an empty string is passed to the function (i.e., use exception handling). As an example, the string \"Python\" would result in \"y h n\" being printed to the console."
   ]
  },
  {
   "cell_type": "code",
   "execution_count": null,
   "id": "09226e6e-41d8-49f8-a8dc-cef2c4a30ef3",
   "metadata": {},
   "outputs": [],
   "source": [
    "def print_even(string_in):\n",
    "    \"\"\"\n",
    "    Write code here\n",
    "    \"\"\"\n",
    "        \n",
    "print_even(\"Python\")\n",
    "print_even(\"\")"
   ]
  },
  {
   "cell_type": "markdown",
   "id": "d767d0ff-d624-4552-9649-4bfbd7471a42",
   "metadata": {},
   "source": [
    "Test your function using the following set of strings: *S* = [\"Gojackets\", \"Call me Ishmael\", \"ILoveChBE\"]. Also test your function on an empty string to check your error handling."
   ]
  },
  {
   "cell_type": "code",
   "execution_count": null,
   "id": "651ed8be-7b1d-49b2-83bc-9c351f953866",
   "metadata": {},
   "outputs": [],
   "source": [
    "S = [\"Gojackets\", \"Call me Ishmael\", \"ILoveChBE\"]"
   ]
  },
  {
   "cell_type": "markdown",
   "id": "4b6d3329-b56a-4b28-a27f-19b8b50fb109",
   "metadata": {
    "tags": []
   },
   "source": [
    "## Exercise 3"
   ]
  },
  {
   "cell_type": "markdown",
   "id": "dd41d1f0-3b19-4ac7-bb30-a68f777e0f66",
   "metadata": {},
   "source": [
    "Write a Python function to compute the income tax on a salary of \\$58,500 using the following scheme: <br>\n",
    "* First \\$10,000: 0% tax rate\n",
    "* Next \\$15,000: 10% tax rate\n",
    "* Remaining: 23% tax rate"
   ]
  },
  {
   "cell_type": "code",
   "execution_count": null,
   "id": "842ae1af-0ac8-4973-9fe5-285f5209dac7",
   "metadata": {},
   "outputs": [],
   "source": [
    "def get_tax(income):\n",
    "    \"\"\"\n",
    "    Write code here\n",
    "    \"\"\"\n",
    "    \n",
    "    return tax\n",
    "\n",
    "get_tax(58500)"
   ]
  },
  {
   "cell_type": "markdown",
   "id": "e28e2f27-fc9c-4755-84b0-ff8031e8871b",
   "metadata": {},
   "source": [
    "## Exercise 4"
   ]
  },
  {
   "cell_type": "markdown",
   "id": "e0445c57-fbe6-43ae-aad0-210bcf272dbc",
   "metadata": {},
   "source": [
    "Write a Python function that takes a positive integer and prints each digit from the integer in reverse order. As an example, 6572 would print 2756. Test your function with the set *S* = [1, 15, 658, 2940, 44112]."
   ]
  },
  {
   "cell_type": "code",
   "execution_count": null,
   "id": "6894261b-a910-4e3d-a55f-3a11cddeefb3",
   "metadata": {},
   "outputs": [],
   "source": [
    "def print_reverse(number):\n",
    "    \"\"\"\n",
    "    Write code here\n",
    "    \"\"\"\n",
    "    \n",
    "    print(number_reverse)\n",
    "\n",
    "print_reverse(6572)\n",
    "\n",
    "S = [1, 15, 658, 2940, 44112]\n",
    "for number in S:\n",
    "    print_reverse(number)\n"
   ]
  },
  {
   "cell_type": "markdown",
   "id": "f9fc620b-8cae-4580-b8ff-a8672388eeff",
   "metadata": {},
   "source": [
    "## Exercise 5"
   ]
  },
  {
   "cell_type": "markdown",
   "id": "b58d6224-9d0a-41b8-b5ce-6408b81baf33",
   "metadata": {},
   "source": [
    "Use the Anaconda package manager to download the scikit-learn Python package (https://anaconda.org/anaconda/scikit-learn). Import the \"mean_absolute_error\" function and calcualte the MAE for the data below (MAE between x and y)."
   ]
  },
  {
   "cell_type": "code",
   "execution_count": null,
   "id": "b27862e4-4b62-40b8-8448-f96465469fc1",
   "metadata": {},
   "outputs": [],
   "source": [
    "x = [-7,1,5,2,9,-2,0,1]\n",
    "y = [-6,4,4.5,2,11,-2.1,1,3]"
   ]
  }
 ],
 "metadata": {
  "kernelspec": {
   "display_name": "gen_ml",
   "language": "python",
   "name": "gen_ml"
  },
  "language_info": {
   "codemirror_mode": {
    "name": "ipython",
    "version": 3
   },
   "file_extension": ".py",
   "mimetype": "text/x-python",
   "name": "python",
   "nbconvert_exporter": "python",
   "pygments_lexer": "ipython3",
   "version": "3.9.16"
  }
 },
 "nbformat": 4,
 "nbformat_minor": 5
}