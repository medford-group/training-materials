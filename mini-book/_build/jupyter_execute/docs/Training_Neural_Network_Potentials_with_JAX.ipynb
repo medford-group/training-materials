{
 "cells": [
  {
   "cell_type": "markdown",
   "id": "8a72b52f",
   "metadata": {},
   "source": [
    "# Training NNP\n",
    "\n",
    "\n",
    "Edited by N. Hu\n",
    "\n",
    "Medford Research Group at Georgia Tech\n",
    "\n",
    "Updated on 02/14/2022\n",
    "\n",
    "This ipython notebook of training NNFFs is based on the BDQM-VIP lecture materials and the sample scripts provided by AMPtorch (`amptorch/example/`) for both conventional Symmetry Functions as finger-printing scheme + Behler-Parrnello atomistic neural network structure (2nd Generation NN), and Gaussian Multi-Pole + SingleNN neural network structure.\n",
    "\n",
    "This paper introduces the basics and the formulation of Gaussian Multi-pole (GMP) descriptors: \n",
    "<https://arxiv.org/abs/2102.02390?utm_source=feedburner&utm_medium=feed&utm_campaign=Feed%253A+arxiv%252FQSXk+%2528ExcitingAds%2521+cs+updates+on+arXiv.org%2529>\n",
    "\n",
    "\n",
    "# Table of contents\n",
    "1. [Training with Symmetry Function and BPNN](#training_bp)\n",
    "2. [Training with GMP and SingleNN](#training_gmp)"
   ]
  },
  {
   "cell_type": "markdown",
   "id": "bc025719",
   "metadata": {},
   "source": [
    "## Training on CuCO with Symmetry Functions + 2nd Gen NNFF <a name=\"training_bp\"></a>\n",
    "\n",
    "### Construct the training dataset\n",
    "\n",
    "As an example, we calculate the potential energy and forces for CuCO chemical system with the EMT calculator implemented in ase. \n",
    "\n",
    "This step should be replaced with training datasets that have information on:\n",
    "1. cell size\n",
    "2. periodic boundary conditions\n",
    "3. atomic positions\n",
    "4. potential energy\n",
    "5. forces, if doing force training"
   ]
  },
  {
   "cell_type": "code",
   "execution_count": 1,
   "id": "9c9ea4d0",
   "metadata": {},
   "outputs": [],
   "source": [
    "%matplotlib inline\n",
    "import matplotlib.pyplot as plt\n",
    "import numpy as np\n",
    "import torch\n",
    "from ase import Atoms\n",
    "import ase.io\n",
    "from ase.calculators.emt import EMT\n",
    "from ase.build import molecule\n",
    "\n",
    "\n",
    "from amptorch.ase_utils import AMPtorch\n",
    "from amptorch.trainer import AtomsTrainer"
   ]
  },
  {
   "cell_type": "code",
   "execution_count": 2,
   "id": "2345e557",
   "metadata": {},
   "outputs": [],
   "source": [
    "# get training images\n",
    "\n",
    "distances = np.linspace(2, 5, 100)\n",
    "images = []\n",
    "for dist in distances:\n",
    "    image = Atoms(\n",
    "        \"CuCO\",\n",
    "        [\n",
    "            (-dist * np.sin(0.65), dist * np.cos(0.65), 0),\n",
    "            (0, 0, 0),\n",
    "            (dist * np.sin(0.65), dist * np.cos(0.65), 0),\n",
    "        ],\n",
    "    )\n",
    "    image.set_cell([10, 10, 10])\n",
    "    image.wrap(pbc=True)\n",
    "    image.set_calculator(EMT())\n",
    "    images.append(image)"
   ]
  },
  {
   "cell_type": "markdown",
   "id": "de3cd8b7",
   "metadata": {},
   "source": [
    "### Define fingerprinting scheme\n",
    "\n",
    "Here we demonstrate with the conventional Symmetry functions, $G^2$ and $G^4$. "
   ]
  },
  {
   "cell_type": "code",
   "execution_count": 3,
   "id": "1d372a7e",
   "metadata": {},
   "outputs": [],
   "source": [
    "# define parameters for finger-printing scheme, Symmetry Function\n",
    "\n",
    "Gs = {\n",
    "    \"default\": {\n",
    "        \"G2\": {\n",
    "            \"etas\": np.logspace(np.log10(0.05), np.log10(5.0), num=4),\n",
    "            \"rs_s\": [0],\n",
    "        },\n",
    "        \"G4\": {\"etas\": [0.005], \"zetas\": [1.0, 4.0], \"gammas\": [1.0, -1.0]},\n",
    "        \"cutoff\": 6,\n",
    "    },\n",
    "}"
   ]
  },
  {
   "cell_type": "markdown",
   "id": "0cfc9612",
   "metadata": {},
   "source": [
    "### Define the configuration for trainer object\n",
    "\n",
    "Detailed introductions and other specifications supported in trainer object can be found here under Section Usage/Configs: \n",
    "<https://github.com/ulissigroup/amptorch/tree/MCSH_paper1_lmdb>"
   ]
  },
  {
   "cell_type": "code",
   "execution_count": 4,
   "id": "61b26748",
   "metadata": {},
   "outputs": [],
   "source": [
    "config = {\n",
    "    \"model\": {\n",
    "        \"get_forces\": True,\n",
    "        \"num_layers\": 3,\n",
    "        \"num_nodes\": 5,\n",
    "        \"batchnorm\": True,\n",
    "    },\n",
    "    \"optim\": {\n",
    "        \"force_coefficient\": 0.04,\n",
    "        \"lr\": 1e-3,\n",
    "        \"batch_size\": 32,\n",
    "        \"epochs\": 10,\n",
    "        \"loss\": \"mse\",\n",
    "        \"metric\": \"mae\",\n",
    "        \"gpus\": 0,\n",
    "    },\n",
    "    \"dataset\": {\n",
    "        \"raw_data\": images,\n",
    "        \"fp_params\": Gs,\n",
    "        \"save_fps\": True,\n",
    "        \"scaling\": {\"type\": \"normalize\", \"range\": (0, 1)},\n",
    "        \"val_split\": 0,\n",
    "    },\n",
    "    \"cmd\": {\n",
    "        \"debug\": False,\n",
    "        \"run_dir\": \"./\",\n",
    "        \"seed\": 1,\n",
    "        \"identifier\": \"test\",\n",
    "        \"verbose\": True,\n",
    "        # Weights and Biases used for logging - an account(free) is required\n",
    "        \"logger\": False,\n",
    "    },\n",
    "}"
   ]
  },
  {
   "cell_type": "markdown",
   "id": "1c0d643c",
   "metadata": {},
   "source": [
    "### Hit go and train"
   ]
  },
  {
   "cell_type": "code",
   "execution_count": 5,
   "id": "761fce2f",
   "metadata": {},
   "outputs": [
    {
     "name": "stdout",
     "output_type": "stream",
     "text": [
      "Results saved to ./checkpoints/2022-02-14-18-48-47-test\n"
     ]
    },
    {
     "data": {
      "application/vnd.jupyter.widget-view+json": {
       "model_id": "51f69048bd474fe0a484117d6770aa29",
       "version_major": 2,
       "version_minor": 0
      },
      "text/plain": [
       "HBox(children=(FloatProgress(value=0.0, description='converting ASE atoms collection to Data objects', style=P…"
      ]
     },
     "metadata": {},
     "output_type": "display_data"
    },
    {
     "name": "stdout",
     "output_type": "stream",
     "text": [
      "\n"
     ]
    },
    {
     "data": {
      "application/vnd.jupyter.widget-view+json": {
       "model_id": "cbbd303de6a2450c97616eb5cefe7367",
       "version_major": 2,
       "version_minor": 0
      },
      "text/plain": [
       "HBox(children=(FloatProgress(value=0.0, description='Scaling Feature data (normalize)', style=ProgressStyle(de…"
      ]
     },
     "metadata": {},
     "output_type": "display_data"
    },
    {
     "name": "stdout",
     "output_type": "stream",
     "text": [
      "\n"
     ]
    },
    {
     "data": {
      "application/vnd.jupyter.widget-view+json": {
       "model_id": "7113ce5b4e0e43fda3d43823e7aaa06f",
       "version_major": 2,
       "version_minor": 0
      },
      "text/plain": [
       "HBox(children=(FloatProgress(value=0.0, description='Scaling Target data', style=ProgressStyle(description_wid…"
      ]
     },
     "metadata": {},
     "output_type": "display_data"
    },
    {
     "name": "stdout",
     "output_type": "stream",
     "text": [
      "\n",
      "Loading dataset: 100 images\n",
      "Use Xavier initialization\n",
      "Use Xavier initialization\n",
      "Use Xavier initialization\n",
      "Loading model: 1143 parameters\n",
      "Loading skorch trainer\n",
      "  epoch    train_energy_mae    train_forces_mae    train_loss    cp     dur\n",
      "-------  ------------------  ------------------  ------------  ----  ------\n",
      "      1              \u001b[36m0.9776\u001b[0m              \u001b[32m0.5535\u001b[0m        \u001b[35m1.0490\u001b[0m     +  0.0410\n",
      "      2              \u001b[36m0.7315\u001b[0m              \u001b[32m0.5250\u001b[0m        \u001b[35m0.6843\u001b[0m     +  0.0355\n",
      "      3              \u001b[36m0.5812\u001b[0m              0.5261        \u001b[35m0.4445\u001b[0m     +  0.0353\n",
      "      4              \u001b[36m0.5395\u001b[0m              \u001b[32m0.5208\u001b[0m        \u001b[35m0.3698\u001b[0m     +  0.0353\n",
      "      5              \u001b[36m0.5281\u001b[0m              0.5250        0.5913     +  0.0354\n"
     ]
    },
    {
     "name": "stderr",
     "output_type": "stream",
     "text": [
      "<string>:6: VisibleDeprecationWarning: Creating an ndarray from ragged nested sequences (which is a list-or-tuple of lists-or-tuples-or ndarrays with different lengths or shapes) is deprecated. If you meant to do this, you must specify 'dtype=object' when creating the ndarray\n"
     ]
    },
    {
     "name": "stdout",
     "output_type": "stream",
     "text": [
      "      6              \u001b[36m0.5183\u001b[0m              \u001b[32m0.5130\u001b[0m        \u001b[35m0.3640\u001b[0m     +  0.0355\n",
      "      7              0.5247              \u001b[32m0.5123\u001b[0m        \u001b[35m0.3282\u001b[0m        0.0352\n",
      "      8              \u001b[36m0.4966\u001b[0m              0.5133        0.3748     +  0.0354\n",
      "      9              \u001b[36m0.4578\u001b[0m              \u001b[32m0.5022\u001b[0m        \u001b[35m0.3122\u001b[0m     +  0.0352\n",
      "     10              \u001b[36m0.4195\u001b[0m              \u001b[32m0.4864\u001b[0m        \u001b[35m0.2077\u001b[0m     +  0.0352\n",
      "Training completed in 0.43488168716430664s\n"
     ]
    }
   ],
   "source": [
    "torch.set_num_threads(1)\n",
    "trainer = AtomsTrainer(config)\n",
    "trainer.train()"
   ]
  },
  {
   "cell_type": "markdown",
   "id": "b8fd21b2",
   "metadata": {},
   "source": [
    "### Use the neural network as an ase calculator to make predictions"
   ]
  },
  {
   "cell_type": "code",
   "execution_count": 6,
   "id": "9b0c658e",
   "metadata": {},
   "outputs": [
    {
     "name": "stdout",
     "output_type": "stream",
     "text": [
      "Energy MSE: 0.316875487045523\n",
      "Energy MAE: 0.4133532974220065\n"
     ]
    },
    {
     "data": {
      "text/plain": [
       "10.200410481656832"
      ]
     },
     "execution_count": 6,
     "metadata": {},
     "output_type": "execute_result"
    }
   ],
   "source": [
    "predictions = trainer.predict(images)\n",
    "\n",
    "# assess errors\n",
    "\n",
    "true_energies = np.array([image.get_potential_energy() for image in images])\n",
    "pred_energies = np.array(predictions[\"energy\"])\n",
    "\n",
    "print(\"Energy MSE:\", np.mean((true_energies - pred_energies) ** 2))\n",
    "print(\"Energy MAE:\", np.mean(np.abs(true_energies - pred_energies)))\n",
    "\n",
    "images[0].set_calculator(AMPtorch(trainer))\n",
    "images[0].get_potential_energy()"
   ]
  },
  {
   "cell_type": "markdown",
   "id": "1475634c",
   "metadata": {},
   "source": [
    "## Training on 2D water dataset with GMP + SingleNN <a name=\"training_gmp\"></a>"
   ]
  },
  {
   "cell_type": "markdown",
   "id": "62a13b78",
   "metadata": {},
   "source": [
    "### Construct the training dataset\n",
    "\n",
    "As an example of the training dataset, we calculate the potential energy and forces for 2-D single water potential energy surface. This dataset is calculated by Quantem Espresso (xc, PBE. kpts, (1,1,1). Planewave, 500.) One O-H bond length is fixed, and the other O-H length and the H-O-H bond angle are allowed to vary. \n",
    "\n",
    "Required information in the training datasets contains:\n",
    "1. cell size\n",
    "2. periodic boundary conditions\n",
    "3. atomic positions\n",
    "4. potential energy\n",
    "5. forces, if doing force training"
   ]
  },
  {
   "cell_type": "code",
   "execution_count": 7,
   "id": "4f22b1c6",
   "metadata": {},
   "outputs": [
    {
     "data": {
      "text/plain": [
       "400"
      ]
     },
     "execution_count": 7,
     "metadata": {},
     "output_type": "execute_result"
    }
   ],
   "source": [
    "# get training images by reading trajectory files\n",
    "\n",
    "# read all images from the trajectory\n",
    "training = ase.io.read(\"./data/water_2d.traj\", index=\":\")\n",
    "\n",
    "# read every 10th image from the trajectory\n",
    "# training = ase.io.read(\"./data/water_2d.traj\", index=\"::10\")\n",
    "\n",
    "# print the length of the image\n",
    "len(training)"
   ]
  },
  {
   "cell_type": "code",
   "execution_count": 8,
   "id": "f32b45c8",
   "metadata": {},
   "outputs": [
    {
     "name": "stdout",
     "output_type": "stream",
     "text": [
      "Cell([10.0, 10.0, 10.0])\n",
      "[ True  True  True]\n",
      "[[5.         4.82418565 5.2981545 ]\n",
      " [5.         5.58742465 4.7018455 ]\n",
      " [5.         4.41257535 4.77131852]]\n",
      "-593.6701598080588\n",
      "[[  0.          31.22263082  36.76981108]\n",
      " [  0.           1.73799984   1.01589577]\n",
      " [  0.         -32.96063066 -37.78570684]]\n",
      "Atoms(symbols='OH2', pbc=True, cell=[10.0, 10.0, 10.0], calculator=SinglePointCalculator(...))\n"
     ]
    }
   ],
   "source": [
    "# check the information\n",
    "\n",
    "# cell size\n",
    "print(training[0].get_cell())\n",
    "\n",
    "# periodic boundary condition\n",
    "print(training[0].get_pbc())\n",
    "\n",
    "# atomic positions\n",
    "print(training[0].get_positions())\n",
    "\n",
    "# system potential energy\n",
    "print(training[0].get_potential_energy())\n",
    "\n",
    "# forces\n",
    "print(training[0].get_forces())\n",
    "\n",
    "# ase.Atoms object\n",
    "print(training[0])"
   ]
  },
  {
   "cell_type": "markdown",
   "id": "fd35d3ef",
   "metadata": {},
   "source": [
    "### Define fingerprinting scheme\n",
    "\n",
    "Here we demonstrate with the GMP fingerprinting scheme. It requires the fitted pseduo-potentials of every elements. Access to the fitted pseduo-potentials:\n",
    "<https://github.com/ulissigroup/amptorch/tree/MCSH_paper1_lmdb/examples/GMP/valence_gaussians>\n",
    "\n",
    "Like G2 and G4 symmetry functions, GMP uses $\\sigma$'s in the radial coordinates and MCSH groups and orders in the angular coordinates."
   ]
  },
  {
   "cell_type": "code",
   "execution_count": 9,
   "id": "518c4cf1",
   "metadata": {},
   "outputs": [
    {
     "name": "stdout",
     "output_type": "stream",
     "text": [
      "[0.2 0.4 0.6 0.8 1.  1.2 1.4 1.6 1.8 2. ]\n"
     ]
    }
   ],
   "source": [
    "# define sigmas\n",
    "nsigmas = 10\n",
    "sigmas = np.linspace(0, 2.0,nsigmas+1,endpoint=True)[1:]\n",
    "print(sigmas)\n",
    "\n",
    "# define MCSH orders\n",
    "MCSHs_index = 2\n",
    "MCSHs_dict = {\n",
    "0: { \"orders\": [0], \"sigmas\": sigmas,},\n",
    "1: { \"orders\": [0,1], \"sigmas\": sigmas,},\n",
    "2: { \"orders\": [0,1,2], \"sigmas\": sigmas,},\n",
    "3: { \"orders\": [0,1,2,3], \"sigmas\": sigmas,},\n",
    "4: { \"orders\": [0,1,2,3,4], \"sigmas\": sigmas,},\n",
    "5: { \"orders\": [0,1,2,3,4,5], \"sigmas\": sigmas,},\n",
    "6: { \"orders\": [0,1,2,3,4,5,6], \"sigmas\": sigmas,},\n",
    "7: { \"orders\": [0,1,2,3,4,5,6,7], \"sigmas\": sigmas,},\n",
    "8: { \"orders\": [0,1,2,3,4,5,6,7,8], \"sigmas\": sigmas,},\n",
    "9: { \"orders\": [0,1,2,3,4,5,6,7,8,9], \"sigmas\": sigmas,},\n",
    "}\n",
    "MCSHs = MCSHs_dict[MCSHs_index] # MCSHs is now just the order of MCSHs. \n",
    "\n",
    "\n",
    "GMP = {\n",
    "    \"MCSHs\": MCSHs,\n",
    "    \"atom_gaussians\": {\n",
    "        \"H\": \"./valence_gaussians/H_pseudodensity_2.g\",\n",
    "        \"O\": \"./valence_gaussians/O_pseudodensity_4.g\",\n",
    "    },\n",
    "    \"cutoff\": 12.0,\n",
    "    \"solid_harmonics\": True,\n",
    "}\n",
    "\n",
    "elements = [\"H\", \"O\"]"
   ]
  },
  {
   "cell_type": "markdown",
   "id": "8fe98357",
   "metadata": {},
   "source": [
    "### Define the configuration for trainer object\n",
    "\n",
    "Detailed introductions and other specifications supported in trainer object can be found here under Section Usage/Configs: \n",
    "<https://github.com/ulissigroup/amptorch/tree/MCSH_paper1_lmdb>"
   ]
  },
  {
   "cell_type": "code",
   "execution_count": 10,
   "id": "a8741475",
   "metadata": {},
   "outputs": [],
   "source": [
    "config = {\n",
    "    \"model\": {\n",
    "        \"name\":\"singlenn\",\n",
    "        \"get_forces\": True,\n",
    "        \"num_layers\": 3,\n",
    "        \"num_nodes\": 10,\n",
    "        \"batchnorm\": True,\n",
    "        \"activation\":torch.nn.Tanh,\n",
    "    },\n",
    "    \"optim\": {\n",
    "        \"force_coefficient\": 0.01,\n",
    "        \"lr\": 1e-3,\n",
    "        \"batch_size\": 16,\n",
    "        \"epochs\": 500,\n",
    "        \"loss\": \"mse\",\n",
    "        \"metric\": \"mae\",\n",
    "    },\n",
    "    \"dataset\": {\n",
    "        \"raw_data\": training,\n",
    "        \"fp_scheme\": \"gmpordernorm\",\n",
    "        \"fp_params\": GMP,\n",
    "        \"elements\": elements,\n",
    "        \"save_fps\": True,\n",
    "        \"scaling\": {\"type\": \"normalize\", \"range\": (0, 1)},\n",
    "        \"val_split\": 0.1,\n",
    "    },\n",
    "    \"cmd\": {\n",
    "        \"debug\": False,\n",
    "        \"run_dir\": \"./\",\n",
    "        \"seed\": 1,\n",
    "        \"identifier\": \"test\",\n",
    "        \"verbose\": True,\n",
    "        # Weights and Biases used for logging - an account(free) is required\n",
    "        \"logger\": False,\n",
    "    },\n",
    "}"
   ]
  },
  {
   "cell_type": "markdown",
   "id": "db745bcc",
   "metadata": {},
   "source": [
    "### Hit go and train"
   ]
  },
  {
   "cell_type": "code",
   "execution_count": 11,
   "id": "8ba2102d",
   "metadata": {
    "scrolled": true
   },
   "outputs": [
    {
     "name": "stdout",
     "output_type": "stream",
     "text": [
      "Results saved to ./checkpoints/2022-02-14-18-48-51-test\n"
     ]
    },
    {
     "data": {
      "application/vnd.jupyter.widget-view+json": {
       "model_id": "6db35635c7b8412982b498706569eab2",
       "version_major": 2,
       "version_minor": 0
      },
      "text/plain": [
       "HBox(children=(FloatProgress(value=0.0, description='converting ASE atoms collection to Data objects', max=400…"
      ]
     },
     "metadata": {},
     "output_type": "display_data"
    },
    {
     "name": "stdout",
     "output_type": "stream",
     "text": [
      "\n"
     ]
    },
    {
     "data": {
      "application/vnd.jupyter.widget-view+json": {
       "model_id": "ce16751aa2b14d5184c3e92c84b2290d",
       "version_major": 2,
       "version_minor": 0
      },
      "text/plain": [
       "HBox(children=(FloatProgress(value=0.0, description='Scaling Feature data (normalize)', max=400.0, style=Progr…"
      ]
     },
     "metadata": {},
     "output_type": "display_data"
    },
    {
     "name": "stdout",
     "output_type": "stream",
     "text": [
      "\n"
     ]
    },
    {
     "data": {
      "application/vnd.jupyter.widget-view+json": {
       "model_id": "a8ee943341d64b8eacc1701557a82381",
       "version_major": 2,
       "version_minor": 0
      },
      "text/plain": [
       "HBox(children=(FloatProgress(value=0.0, description='Scaling Target data', max=400.0, style=ProgressStyle(desc…"
      ]
     },
     "metadata": {},
     "output_type": "display_data"
    },
    {
     "name": "stdout",
     "output_type": "stream",
     "text": [
      "\n",
      "Loading dataset: 400 images\n",
      "Use Xavier initialization\n",
      "Loading model: 601 parameters\n",
      "Loading skorch trainer\n",
      "  epoch    train_energy_mae    train_forces_mae    train_loss    val_energy_mae    val_forces_mae    valid_loss    cp     dur\n",
      "-------  ------------------  ------------------  ------------  ----------------  ----------------  ------------  ----  ------\n",
      "      1              \u001b[36m0.9166\u001b[0m              \u001b[32m3.6067\u001b[0m        \u001b[35m0.3347\u001b[0m            \u001b[31m1.0759\u001b[0m            \u001b[94m2.8713\u001b[0m        \u001b[36m0.4352\u001b[0m     +  0.1192\n",
      "      2              \u001b[36m0.5748\u001b[0m              \u001b[32m3.2845\u001b[0m        \u001b[35m0.1749\u001b[0m            \u001b[31m0.4722\u001b[0m            2.9645        \u001b[36m0.1838\u001b[0m     +  0.1186\n",
      "      3              \u001b[36m0.4819\u001b[0m              \u001b[32m3.1487\u001b[0m        \u001b[35m0.1435\u001b[0m            \u001b[31m0.3749\u001b[0m            3.0119        \u001b[36m0.1310\u001b[0m     +  0.1183\n",
      "      4              \u001b[36m0.4268\u001b[0m              \u001b[32m3.0484\u001b[0m        \u001b[35m0.1212\u001b[0m            \u001b[31m0.3292\u001b[0m            \u001b[94m2.8507\u001b[0m        \u001b[36m0.1095\u001b[0m     +  0.1183\n",
      "      5              0.4574              \u001b[32m2.9619\u001b[0m        0.1221            \u001b[31m0.3286\u001b[0m            \u001b[94m2.7766\u001b[0m        \u001b[36m0.1025\u001b[0m     +  0.1187\n",
      "      6              0.4648              \u001b[32m2.7649\u001b[0m        0.1240            \u001b[31m0.2889\u001b[0m            \u001b[94m2.7284\u001b[0m        \u001b[36m0.0901\u001b[0m     +  0.1188\n",
      "      7              0.4483              2.7782        \u001b[35m0.1140\u001b[0m            0.3000            \u001b[94m2.7083\u001b[0m        0.0952        0.1206\n",
      "      8              \u001b[36m0.4126\u001b[0m              \u001b[32m2.5931\u001b[0m        \u001b[35m0.0946\u001b[0m            0.3138            2.8513        0.0937        0.1187\n",
      "      9              \u001b[36m0.3965\u001b[0m              \u001b[32m2.5699\u001b[0m        \u001b[35m0.0932\u001b[0m            \u001b[31m0.2876\u001b[0m            \u001b[94m2.6931\u001b[0m        \u001b[36m0.0827\u001b[0m     +  0.1190\n",
      "     10              0.4545              \u001b[32m2.5266\u001b[0m        0.1008            0.3681            \u001b[94m2.6409\u001b[0m        0.0937        0.1191\n",
      "     11              0.4035              2.5349        \u001b[35m0.0909\u001b[0m            \u001b[31m0.2769\u001b[0m            \u001b[94m2.4722\u001b[0m        \u001b[36m0.0764\u001b[0m     +  0.1185\n",
      "     12              \u001b[36m0.3541\u001b[0m              \u001b[32m2.4835\u001b[0m        \u001b[35m0.0801\u001b[0m            0.2840            2.6637        0.0824        0.1186\n",
      "     13              0.3933              \u001b[32m2.4446\u001b[0m        0.0830            0.2911            \u001b[94m2.4129\u001b[0m        \u001b[36m0.0763\u001b[0m        0.1186\n",
      "     14              0.4083              \u001b[32m2.3820\u001b[0m        0.0890            \u001b[31m0.2717\u001b[0m            2.4372        0.0778     +  0.1176\n",
      "     15              0.3653              2.4379        \u001b[35m0.0783\u001b[0m            \u001b[31m0.2651\u001b[0m            \u001b[94m2.3123\u001b[0m        \u001b[36m0.0712\u001b[0m     +  0.1186\n",
      "     16              \u001b[36m0.3446\u001b[0m              \u001b[32m2.2296\u001b[0m        \u001b[35m0.0671\u001b[0m            \u001b[31m0.2514\u001b[0m            2.3681        \u001b[36m0.0683\u001b[0m     +  0.1187\n",
      "     17              0.3463              2.3116        \u001b[35m0.0668\u001b[0m            0.3127            \u001b[94m2.3053\u001b[0m        0.0805        0.1186\n",
      "     18              \u001b[36m0.3048\u001b[0m              2.2741        \u001b[35m0.0576\u001b[0m            0.2565            2.3971        \u001b[36m0.0677\u001b[0m        0.1176\n",
      "     19              0.3850              \u001b[32m2.2143\u001b[0m        0.0685            0.2590            \u001b[94m2.2416\u001b[0m        \u001b[36m0.0662\u001b[0m        0.1185\n",
      "     20              0.3074              \u001b[32m2.1823\u001b[0m        0.0596            \u001b[31m0.2150\u001b[0m            2.3052        \u001b[36m0.0602\u001b[0m     +  0.1185\n",
      "     21              0.3284              \u001b[32m2.1531\u001b[0m        \u001b[35m0.0558\u001b[0m            \u001b[31m0.2061\u001b[0m            \u001b[94m2.2051\u001b[0m        \u001b[36m0.0558\u001b[0m     +  0.1177\n",
      "     22              0.3458              \u001b[32m2.1348\u001b[0m        0.0599            0.2997            2.2439        0.0717        0.1182\n",
      "     23              \u001b[36m0.2967\u001b[0m              \u001b[32m1.9998\u001b[0m        \u001b[35m0.0498\u001b[0m            \u001b[31m0.1795\u001b[0m            2.2532        0.0592     +  0.1185\n",
      "     24              0.3580              \u001b[32m1.9891\u001b[0m        0.0553            0.2544            2.3604        0.0642        0.1176\n",
      "     25              \u001b[36m0.2489\u001b[0m              \u001b[32m1.9221\u001b[0m        \u001b[35m0.0380\u001b[0m            0.1968            \u001b[94m1.9220\u001b[0m        \u001b[36m0.0457\u001b[0m        0.1173\n",
      "     26              0.2962              \u001b[32m1.8199\u001b[0m        0.0428            0.2825            2.1843        0.0617        0.1184\n",
      "     27              0.2990              \u001b[32m1.8033\u001b[0m        0.0410            0.1887            1.9435        0.0502        0.1174\n",
      "     28              0.2753              \u001b[32m1.7510\u001b[0m        \u001b[35m0.0368\u001b[0m            \u001b[31m0.1692\u001b[0m            2.1083        \u001b[36m0.0449\u001b[0m     +  0.1183\n",
      "     29              0.2613              1.7697        \u001b[35m0.0365\u001b[0m            0.2200            2.0161        0.0528        0.1182\n",
      "     30              0.2596              \u001b[32m1.7125\u001b[0m        \u001b[35m0.0354\u001b[0m            0.2203            2.1059        0.0553        0.1181\n",
      "     31              0.2783              \u001b[32m1.6646\u001b[0m        0.0358            0.1909            \u001b[94m1.8565\u001b[0m        \u001b[36m0.0418\u001b[0m        0.1184\n",
      "     32              \u001b[36m0.2414\u001b[0m              1.7629        \u001b[35m0.0331\u001b[0m            \u001b[31m0.1373\u001b[0m            1.8587        \u001b[36m0.0390\u001b[0m     +  0.1175\n",
      "     33              0.2468              \u001b[32m1.5570\u001b[0m        \u001b[35m0.0290\u001b[0m            0.1899            \u001b[94m1.7846\u001b[0m        0.0431        0.1175\n",
      "     34              \u001b[36m0.2359\u001b[0m              1.5886        0.0306            0.1814            \u001b[94m1.6228\u001b[0m        \u001b[36m0.0319\u001b[0m        0.1174\n",
      "     35              0.2765              1.6077        0.0341            0.2342            1.7899        0.0419        0.1175\n",
      "     36              0.2398              1.5575        \u001b[35m0.0283\u001b[0m            0.1651            1.8781        0.0392        0.1174\n",
      "     37              0.2822              1.7392        0.0406            0.2555            1.9149        0.0586        0.1175\n",
      "     38              0.2562              1.5598        0.0304            0.3649            1.8912        0.0619        0.1181\n",
      "     39              0.3189              1.6295        0.0400            0.2663            1.7968        0.0520        0.1181\n",
      "     40              0.2414              \u001b[32m1.5291\u001b[0m        \u001b[35m0.0263\u001b[0m            0.1850            1.7202        0.0400        0.1191\n",
      "     41              0.2548              \u001b[32m1.4544\u001b[0m        0.0277            0.1653            \u001b[94m1.5609\u001b[0m        \u001b[36m0.0307\u001b[0m        0.1191\n",
      "     42              \u001b[36m0.2338\u001b[0m              1.5538        \u001b[35m0.0261\u001b[0m            0.2569            1.6327        0.0419        0.1180\n",
      "     43              0.3237              1.5730        0.0434            0.1876            1.7730        0.0351        0.1182\n",
      "     44              \u001b[36m0.2190\u001b[0m              1.4909        \u001b[35m0.0259\u001b[0m            0.1981            1.8695        0.0416        0.1191\n",
      "     45              0.2470              \u001b[32m1.4461\u001b[0m        0.0296            0.2063            1.6211        0.0391        0.1185\n",
      "     46              0.2545              1.4647        0.0278            0.1795            2.1457        0.0542        0.1185\n",
      "     47              0.2509              \u001b[32m1.3907\u001b[0m        0.0273            0.2374            1.8997        0.0501        0.1189\n",
      "     48              \u001b[36m0.2098\u001b[0m              \u001b[32m1.2785\u001b[0m        \u001b[35m0.0204\u001b[0m            0.1729            1.7333        0.0385        0.1187\n",
      "     49              \u001b[36m0.1997\u001b[0m              1.2821        \u001b[35m0.0186\u001b[0m            0.1746            1.7228        0.0378        0.1185\n",
      "     50              0.2181              1.3120        0.0209            0.1432            1.7438        0.0396        0.1185\n",
      "     51              0.2447              1.3298        0.0251            0.1576            1.7314        0.0427        0.1185\n",
      "     52              0.2130              1.3597        0.0220            0.1423            1.7671        0.0354        0.1194\n",
      "     53              0.2057              1.2844        0.0199            0.3523            1.8464        0.0615        0.1195\n"
     ]
    },
    {
     "name": "stdout",
     "output_type": "stream",
     "text": [
      "     54              0.2247              1.2996        0.0221            0.1599            1.6260        0.0320        0.1176\n",
      "     55              0.2060              1.3864        0.0232            0.1648            1.6399        0.0355        0.1175\n",
      "     56              0.2332              1.3098        0.0235            0.1491            1.6725        0.0377        0.1176\n",
      "     57              0.2238              1.3408        0.0232            \u001b[31m0.1198\u001b[0m            1.6988        0.0340     +  0.1186\n",
      "     58              0.2219              1.3041        0.0224            0.2840            1.8580        0.0477        0.1187\n",
      "     59              \u001b[36m0.1922\u001b[0m              \u001b[32m1.2458\u001b[0m        0.0197            0.1524            1.6290        0.0318        0.1184\n",
      "     60              0.2528              1.2925        0.0267            0.1425            \u001b[94m1.5187\u001b[0m        \u001b[36m0.0306\u001b[0m        0.1182\n",
      "     61              0.2082              1.2592        0.0226            0.1927            1.6108        0.0353        0.1200\n",
      "     62              0.2038              \u001b[32m1.1396\u001b[0m        \u001b[35m0.0177\u001b[0m            0.1853            1.5376        0.0356        0.1183\n",
      "     63              0.1925              1.2383        0.0187            0.1483            1.7141        0.0347        0.1185\n",
      "     64              0.1951              1.1899        0.0220            0.1452            1.6025        0.0340        0.1187\n",
      "     65              0.2262              1.2882        0.0235            0.1392            \u001b[94m1.4542\u001b[0m        \u001b[36m0.0302\u001b[0m        0.1186\n",
      "     66              \u001b[36m0.1878\u001b[0m              1.1722        \u001b[35m0.0160\u001b[0m            0.1701            1.6339        0.0340        0.1188\n",
      "     67              0.2006              1.2483        0.0186            0.2441            1.6383        0.0384        0.1195\n",
      "     68              0.1952              \u001b[32m1.1128\u001b[0m        0.0167            0.1572            1.6495        0.0355        0.1187\n",
      "     69              0.2066              1.1974        0.0205            0.2361            1.6223        0.0388        0.1183\n",
      "     70              0.1920              1.1656        0.0179            0.1501            1.4612        \u001b[36m0.0283\u001b[0m        0.1182\n",
      "     71              \u001b[36m0.1849\u001b[0m              1.1818        0.0160            \u001b[31m0.1050\u001b[0m            1.5071        0.0299     +  0.1186\n",
      "     72              0.2032              1.1515        0.0203            0.1732            \u001b[94m1.4123\u001b[0m        \u001b[36m0.0262\u001b[0m        0.1187\n",
      "     73              \u001b[36m0.1820\u001b[0m              1.1566        0.0176            0.1571            1.5981        0.0324        0.1187\n",
      "     74              0.2038              \u001b[32m1.0877\u001b[0m        0.0178            0.1744            \u001b[94m1.3633\u001b[0m        0.0293        0.1187\n",
      "     75              0.1884              1.1474        0.0170            0.1414            1.5712        0.0323        0.1186\n",
      "     76              0.1849              \u001b[32m1.0007\u001b[0m        \u001b[35m0.0148\u001b[0m            0.1242            \u001b[94m1.3598\u001b[0m        0.0266        0.1176\n",
      "     77              0.1848              1.1080        0.0185            0.1219            1.4795        0.0294        0.1183\n",
      "     78              0.1993              1.0957        0.0180            0.1529            1.4254        \u001b[36m0.0261\u001b[0m        0.1186\n",
      "     79              \u001b[36m0.1706\u001b[0m              1.0934        \u001b[35m0.0143\u001b[0m            0.1779            1.4566        0.0277        0.1186\n",
      "     80              0.1944              1.1454        0.0279            0.2485            1.4522        0.0383        0.1186\n",
      "     81              0.2195              1.0491        0.0196            0.2480            1.4458        0.0355        0.1186\n",
      "     82              0.2165              1.0892        0.0181            0.1600            1.6799        0.0308        0.1188\n",
      "     83              \u001b[36m0.1681\u001b[0m              1.1044        0.0152            0.1473            1.6765        0.0272        0.1176\n",
      "     84              \u001b[36m0.1559\u001b[0m              \u001b[32m0.9669\u001b[0m        \u001b[35m0.0111\u001b[0m            0.1443            1.5447        \u001b[36m0.0257\u001b[0m        0.1176\n",
      "     85              0.1598              1.0200        0.0126            \u001b[31m0.0997\u001b[0m            1.5499        0.0265     +  0.1177\n",
      "     86              0.1903              1.2092        0.0193            0.1719            \u001b[94m1.3387\u001b[0m        0.0275        0.1181\n",
      "     87              0.1943              1.1183        0.0164            0.1453            1.3405        \u001b[36m0.0215\u001b[0m        0.1214\n",
      "     88              0.1725              0.9987        0.0150            0.1819            1.3577        0.0274        0.1180\n",
      "     89              0.1696              1.0340        0.0132            0.1218            1.4168        0.0247        0.1184\n",
      "     90              0.1574              \u001b[32m0.9592\u001b[0m        0.0112            0.1952            1.5069        0.0263        0.1183\n",
      "     91              0.1819              1.0316        0.0152            0.1195            \u001b[94m1.2756\u001b[0m        \u001b[36m0.0206\u001b[0m        0.1193\n",
      "     92              0.1744              1.2031        0.0174            0.1582            1.2927        0.0234        0.1188\n",
      "     93              0.1742              1.0450        0.0134            0.1026            1.5851        0.0271        0.1187\n",
      "     94              0.1659              1.0118        0.0138            \u001b[31m0.0925\u001b[0m            1.2795        \u001b[36m0.0190\u001b[0m     +  0.1184\n",
      "     95              0.1794              \u001b[32m0.9443\u001b[0m        0.0126            0.1046            1.3093        0.0203        0.1184\n",
      "     96              0.1615              0.9903        0.0117            0.2493            \u001b[94m1.2139\u001b[0m        0.0289        0.1183\n",
      "     97              0.1640              1.0023        0.0139            0.1319            \u001b[94m1.2085\u001b[0m        0.0199        0.1183\n",
      "     98              0.1854              \u001b[32m0.9160\u001b[0m        0.0129            0.1611            1.2746        0.0262        0.1192\n",
      "     99              0.1993              1.0124        0.0176            0.1350            1.2990        0.0207        0.1186\n",
      "    100              0.1641              0.9786        0.0123            0.1179            \u001b[94m1.1676\u001b[0m        \u001b[36m0.0171\u001b[0m        0.1186\n",
      "    101              0.1804              1.1477        0.0170            \u001b[31m0.0877\u001b[0m            1.2252        0.0189     +  0.1187\n",
      "    102              \u001b[36m0.1483\u001b[0m              0.9660        \u001b[35m0.0107\u001b[0m            0.1288            1.2065        \u001b[36m0.0165\u001b[0m        0.1189\n",
      "    103              \u001b[36m0.1426\u001b[0m              \u001b[32m0.9126\u001b[0m        \u001b[35m0.0101\u001b[0m            0.1425            1.3017        0.0205        0.1178\n",
      "    104              0.1552              0.9626        0.0117            0.1023            1.2177        0.0186        0.1186\n",
      "    105              0.1565              0.9197        0.0109            0.2271            1.4304        0.0275        0.1186\n",
      "    106              0.1577              0.9519        0.0113            0.1080            1.4217        0.0254        0.1185\n",
      "    107              0.1809              0.9428        0.0142            \u001b[31m0.0833\u001b[0m            \u001b[94m1.1636\u001b[0m        \u001b[36m0.0155\u001b[0m     +  0.1186\n",
      "    108              0.1801              0.9507        0.0125            0.0964            1.2912        0.0193        0.1197\n",
      "    109              0.1591              0.9774        0.0122            0.1149            1.1820        0.0171        0.1187\n",
      "    110              \u001b[36m0.1349\u001b[0m              0.9597        0.0104            0.1361            1.2539        0.0192        0.1187\n",
      "    111              0.1405              \u001b[32m0.8962\u001b[0m        \u001b[35m0.0094\u001b[0m            \u001b[31m0.0816\u001b[0m            1.2765        0.0176     +  0.1197\n",
      "    112              0.1480              0.9738        0.0111            0.1081            \u001b[94m1.0701\u001b[0m        \u001b[36m0.0142\u001b[0m        0.1188\n",
      "    113              0.1661              0.9641        0.0125            0.2060            1.2968        0.0228        0.1188\n",
      "    114              0.1623              0.9531        0.0124            0.1184            1.1888        0.0162        0.1187\n"
     ]
    },
    {
     "name": "stdout",
     "output_type": "stream",
     "text": [
      "    115              0.1359              \u001b[32m0.8503\u001b[0m        \u001b[35m0.0085\u001b[0m            0.1217            1.1843        0.0148        0.1186\n",
      "    116              0.1621              0.9877        0.0120            0.1662            1.1458        0.0167        0.1187\n",
      "    117              0.1623              0.8891        0.0117            0.1146            \u001b[94m1.0696\u001b[0m        0.0142        0.1177\n",
      "    118              0.1661              0.9480        0.0122            0.1502            \u001b[94m1.0151\u001b[0m        0.0171        0.1182\n",
      "    119              0.1595              0.8962        0.0189            0.1356            1.2482        0.0193        0.1181\n",
      "    120              0.1535              0.9552        0.0122            0.1923            1.0914        0.0198        0.1182\n",
      "    121              0.1450              0.8861        0.0106            0.1081            1.0266        \u001b[36m0.0123\u001b[0m        0.1181\n",
      "    122              0.1509              0.9165        0.0112            0.1030            1.0825        0.0144        0.1181\n",
      "    123              0.1473              0.8574        0.0101            0.1312            1.0556        0.0143        0.1176\n",
      "    124              0.1506              \u001b[32m0.8273\u001b[0m        0.0096            0.1543            1.1073        0.0158        0.1175\n",
      "    125              0.1545              0.8432        0.0099            0.1287            \u001b[94m0.9952\u001b[0m        \u001b[36m0.0117\u001b[0m        0.1184\n",
      "    126              0.1350              0.8679        0.0086            \u001b[31m0.0762\u001b[0m            1.0685        0.0127     +  0.1187\n",
      "    127              0.1528              0.9099        0.0113            0.1525            \u001b[94m0.8785\u001b[0m        0.0139        0.1177\n",
      "    128              0.1374              0.8302        0.0090            \u001b[31m0.0668\u001b[0m            0.9460        \u001b[36m0.0091\u001b[0m     +  0.1175\n",
      "    129              \u001b[36m0.1318\u001b[0m              \u001b[32m0.7688\u001b[0m        \u001b[35m0.0078\u001b[0m            0.0802            1.0244        0.0105        0.1186\n",
      "    130              0.1353              \u001b[32m0.7623\u001b[0m        0.0079            0.1567            1.0040        0.0149        0.1182\n",
      "    131              0.1527              0.8691        0.0120            0.1043            1.0609        0.0152        0.1186\n",
      "    132              0.1686              0.8479        0.0125            0.1507            0.9635        0.0139        0.1175\n",
      "    133              0.1322              0.7931        0.0080            0.0870            0.9142        0.0096        0.1176\n",
      "    134              0.1525              0.8312        0.0101            0.1635            1.0102        0.0147        0.1177\n",
      "    135              0.1330              0.7695        \u001b[35m0.0077\u001b[0m            0.1202            0.9829        0.0153        0.1186\n",
      "    136              \u001b[36m0.1226\u001b[0m              0.7906        \u001b[35m0.0074\u001b[0m            0.0986            0.9018        0.0106        0.1176\n",
      "    137              0.1351              0.7942        0.0080            0.1005            0.9806        0.0134        0.1183\n",
      "    138              0.1566              0.9174        0.0115            0.1952            1.1399        0.0194        0.1182\n",
      "    139              0.1416              0.8172        0.0104            0.1711            0.9990        0.0187        0.1182\n",
      "    140              0.1580              0.9496        0.0127            0.1126            0.8930        0.0123        0.1193\n",
      "    141              0.1461              0.8817        0.0097            0.1077            0.9365        0.0095        0.1192\n",
      "    142              0.1526              0.8705        0.0100            0.0999            0.9754        0.0113        0.1192\n",
      "    143              0.1338              0.7657        0.0078            0.0775            1.0579        0.0129        0.1192\n",
      "    144              0.1364              0.8011        0.0085            0.1761            0.9498        0.0180        0.1189\n",
      "    145              0.1394              0.7912        0.0095            0.1129            1.0292        0.0129        0.1177\n",
      "    146              0.1295              0.7706        \u001b[35m0.0073\u001b[0m            0.1053            \u001b[94m0.8015\u001b[0m        \u001b[36m0.0078\u001b[0m        0.1184\n",
      "    147              \u001b[36m0.1215\u001b[0m              0.8331        0.0080            0.0686            0.8843        0.0090        0.1183\n",
      "    148              0.1245              0.7949        0.0081            0.0857            0.9046        0.0101        0.1182\n",
      "    149              0.1551              0.9423        0.0206            0.1356            1.1226        0.0152        0.1184\n",
      "    150              0.1501              0.8230        0.0104            0.0754            0.9350        0.0105        0.1183\n",
      "    151              0.1393              0.7908        0.0091            0.1164            0.9746        0.0147        0.1209\n",
      "    152              0.1405              0.7792        0.0089            0.1160            1.0155        0.0143        0.1200\n",
      "    153              0.1656              0.8357        0.0124            0.1705            0.9471        0.0185        0.1188\n",
      "    154              0.1370              \u001b[32m0.7229\u001b[0m        0.0087            0.0899            0.8019        \u001b[36m0.0077\u001b[0m        0.1198\n",
      "    155              0.1285              0.7421        0.0075            0.1201            0.9718        0.0108        0.1178\n",
      "    156              0.1252              0.7525        0.0075            0.1541            \u001b[94m0.7143\u001b[0m        0.0110        0.1177\n",
      "    157              0.1236              0.7696        0.0081            0.0796            0.9163        0.0098        0.1185\n",
      "    158              0.1223              \u001b[32m0.6858\u001b[0m        \u001b[35m0.0065\u001b[0m            0.0921            0.8994        0.0088        0.1188\n",
      "    159              \u001b[36m0.1127\u001b[0m              \u001b[32m0.6739\u001b[0m        \u001b[35m0.0060\u001b[0m            0.0744            0.8196        \u001b[36m0.0068\u001b[0m        0.1198\n",
      "    160              0.1312              0.7398        0.0077            0.1457            0.7667        0.0106        0.1178\n",
      "    161              0.1396              0.7674        0.0090            0.1053            0.9475        0.0111        0.1178\n",
      "    162              0.1205              0.7363        0.0069            0.1038            0.8700        0.0093        0.1178\n",
      "    163              0.1214              0.7053        0.0071            0.0964            0.9017        0.0104        0.1187\n",
      "    164              0.1234              0.7153        0.0068            0.0888            0.8497        0.0092        0.1187\n",
      "    165              0.1399              0.7297        0.0081            0.1171            0.7997        0.0093        0.1186\n",
      "    166              0.1457              0.7341        0.0085            0.1202            0.7787        0.0084        0.1189\n",
      "    167              0.1215              0.7128        0.0070            0.1127            0.9008        0.0106        0.1188\n",
      "    168              0.1272              0.7624        0.0076            0.0846            0.8150        0.0070        0.1187\n",
      "    169              0.1224              0.7107        0.0068            0.0842            0.8130        0.0068        0.1196\n",
      "    170              0.1323              0.7400        0.0079            0.0845            0.9176        0.0103        0.1196\n",
      "    171              0.1160              0.7273        0.0076            0.0898            0.7833        0.0079        0.1178\n",
      "    172              \u001b[36m0.1076\u001b[0m              0.6885        \u001b[35m0.0056\u001b[0m            0.0981            \u001b[94m0.7013\u001b[0m        \u001b[36m0.0066\u001b[0m        0.1185\n",
      "    173              0.1246              0.7272        0.0070            0.1121            0.7430        0.0075        0.1188\n",
      "    174              0.1171              \u001b[32m0.6685\u001b[0m        0.0061            0.0724            0.8539        \u001b[36m0.0065\u001b[0m        0.1178\n",
      "    175              0.1230              0.7167        0.0069            0.1329            \u001b[94m0.6367\u001b[0m        0.0071        0.1177\n",
      "    176              0.1131              0.7260        0.0070            0.1036            0.7427        0.0073        0.1187\n",
      "    177              0.1302              0.7387        0.0075            \u001b[31m0.0620\u001b[0m            0.7615        \u001b[36m0.0051\u001b[0m     +  0.1188\n"
     ]
    },
    {
     "name": "stdout",
     "output_type": "stream",
     "text": [
      "    178              0.1218              0.6989        0.0067            0.0987            0.8368        0.0072        0.1179\n",
      "    179              0.1247              \u001b[32m0.6560\u001b[0m        0.0073            0.0873            0.9423        0.0092        0.1188\n",
      "    180              0.1160              0.6762        0.0060            0.1081            0.8068        0.0114        0.1188\n",
      "    181              0.1199              0.7025        0.0080            0.0973            0.8420        0.0094        0.1179\n",
      "    182              \u001b[36m0.1038\u001b[0m              \u001b[32m0.6486\u001b[0m        \u001b[35m0.0052\u001b[0m            0.1067            0.9095        0.0119        0.1186\n",
      "    183              0.1378              0.7040        0.0074            0.1208            0.7002        0.0086        0.1189\n",
      "    184              0.1296              0.6818        0.0077            0.0938            0.8172        0.0080        0.1186\n",
      "    185              0.1400              0.7245        0.0085            0.1002            0.7333        0.0069        0.1187\n",
      "    186              0.1110              \u001b[32m0.6289\u001b[0m        0.0052            0.0785            0.8084        0.0073        0.1188\n",
      "    187              0.1195              0.6449        0.0062            0.1020            0.7002        0.0066        0.1178\n",
      "    188              0.1165              0.6292        0.0058            0.1047            0.7291        0.0083        0.1188\n",
      "    189              0.1135              0.6321        0.0057            0.1122            0.7895        0.0103        0.1186\n",
      "    190              0.1270              0.7463        0.0076            0.1164            0.8664        0.0114        0.1188\n",
      "    191              0.1298              0.6623        0.0074            0.1514            \u001b[94m0.6081\u001b[0m        0.0076        0.1205\n",
      "    192              \u001b[36m0.1031\u001b[0m              \u001b[32m0.6271\u001b[0m        \u001b[35m0.0051\u001b[0m            0.0941            0.7688        0.0098        0.1194\n",
      "    193              0.1178              0.6415        0.0057            0.1093            0.6384        0.0080        0.1192\n",
      "    194              \u001b[36m0.1013\u001b[0m              \u001b[32m0.6129\u001b[0m        \u001b[35m0.0047\u001b[0m            \u001b[31m0.0584\u001b[0m            0.6457        0.0053     +  0.1192\n",
      "    195              0.1203              0.6251        0.0059            0.0756            0.6638        \u001b[36m0.0049\u001b[0m        0.1190\n",
      "    196              0.1249              0.6396        0.0062            0.0782            0.7870        0.0072        0.1177\n",
      "    197              0.1190              0.6467        0.0060            0.1203            0.7249        0.0092        0.1188\n",
      "    198              0.1120              \u001b[32m0.5842\u001b[0m        0.0054            0.0757            0.6520        0.0049        0.1188\n",
      "    199              0.1111              0.5966        0.0049            0.0867            0.6933        0.0063        0.1187\n",
      "    200              0.1082              0.5888        0.0050            0.1079            0.6692        0.0076        0.1187\n",
      "    201              0.1245              0.6021        0.0058            0.1059            \u001b[94m0.5942\u001b[0m        0.0062        0.1187\n",
      "    202              0.1067              0.6008        0.0052            0.0604            0.6368        \u001b[36m0.0044\u001b[0m        0.1189\n",
      "    203              \u001b[36m0.0939\u001b[0m              \u001b[32m0.5695\u001b[0m        \u001b[35m0.0039\u001b[0m            0.0660            0.6642        0.0053        0.1189\n",
      "    204              \u001b[36m0.0914\u001b[0m              0.6013        0.0057            0.0681            0.7266        0.0054        0.1188\n",
      "    205              0.1388              0.6395        0.0073            0.1418            \u001b[94m0.5713\u001b[0m        0.0076        0.1188\n",
      "    206              0.1283              0.6371        0.0065            0.0869            0.7229        0.0065        0.1190\n",
      "    207              0.0991              0.5916        0.0051            0.0759            0.7554        0.0057        0.1177\n",
      "    208              0.1311              0.6750        0.0075            0.1399            0.6491        0.0088        0.1188\n",
      "    209              0.1160              0.6475        0.0060            0.1096            0.8154        0.0106        0.1188\n",
      "    210              0.1246              0.5956        0.0061            0.1092            0.7451        0.0085        0.1197\n",
      "    211              0.1073              0.6198        0.0052            0.0667            0.7854        0.0073        0.1197\n",
      "    212              0.1046              0.6001        0.0048            0.1356            0.6260        0.0070        0.1198\n",
      "    213              0.1121              0.6631        0.0063            0.1007            0.6021        0.0062        0.1198\n",
      "    214              0.1065              0.6323        0.0051            0.0704            0.6277        0.0048        0.1188\n",
      "    215              0.1017              0.5966        0.0046            0.0603            \u001b[94m0.5519\u001b[0m        \u001b[36m0.0033\u001b[0m        0.1191\n",
      "    216              0.1057              0.5801        0.0048            0.0759            0.5797        0.0045        0.1190\n",
      "    217              0.1174              0.6024        0.0054            0.1053            \u001b[94m0.5444\u001b[0m        0.0053        0.1188\n",
      "    218              0.1009              0.6050        0.0053            \u001b[31m0.0519\u001b[0m            0.6390        0.0038     +  0.1198\n",
      "    219              0.1026              \u001b[32m0.5450\u001b[0m        0.0046            0.0738            0.6451        0.0050        0.1200\n",
      "    220              0.1093              0.6916        0.0068            0.0676            0.7642        0.0068        0.1198\n",
      "    221              0.0975              0.5647        0.0045            0.0585            0.6847        0.0060        0.1177\n",
      "    222              0.0947              0.5648        0.0045            0.0791            0.6787        0.0063        0.1204\n",
      "    223              0.1044              0.6012        0.0049            0.0711            0.6444        0.0061        0.1191\n",
      "    224              0.1030              0.5934        0.0049            0.0652            0.6081        0.0048        0.1190\n",
      "    225              0.0945              0.6434        0.0050            0.0748            \u001b[94m0.4919\u001b[0m        \u001b[36m0.0029\u001b[0m        0.1189\n",
      "    226              0.0919              0.5586        0.0039            0.0679            0.6727        0.0059        0.1200\n",
      "    227              0.0933              \u001b[32m0.5449\u001b[0m        0.0040            0.0922            0.8041        0.0093        0.1188\n",
      "    228              0.1341              0.6368        0.0077            0.0779            0.7065        0.0057        0.1190\n",
      "    229              0.1030              0.5731        0.0045            0.0693            0.6032        0.0043        0.1180\n",
      "    230              0.1037              0.6097        0.0049            0.0929            0.6727        0.0073        0.1178\n",
      "    231              0.1044              0.5848        0.0049            0.1023            0.5744        0.0052        0.1189\n",
      "    232              0.1192              0.6389        0.0069            0.0999            0.6360        0.0052        0.1187\n",
      "    233              0.1006              0.6097        0.0049            0.0923            0.6384        0.0056        0.1186\n",
      "    234              0.0940              0.5722        0.0040            0.0649            0.5744        0.0043        0.1191\n",
      "    235              \u001b[36m0.0853\u001b[0m              0.5766        0.0039            0.0650            0.5597        0.0040        0.1190\n",
      "    236              0.0945              0.5814        0.0041            0.0650            0.5576        0.0037        0.1190\n",
      "    237              0.1105              0.5813        0.0052            \u001b[31m0.0516\u001b[0m            0.5868        0.0040     +  0.1190\n",
      "    238              0.0968              0.5931        0.0043            0.1020            0.5183        0.0046        0.1182\n",
      "    239              0.0897              \u001b[32m0.5212\u001b[0m        \u001b[35m0.0037\u001b[0m            0.0975            0.4986        0.0045        0.1182\n",
      "    240              0.0938              0.5534        0.0041            0.0851            0.6098        0.0051        0.1180\n"
     ]
    },
    {
     "name": "stdout",
     "output_type": "stream",
     "text": [
      "    241              0.1086              0.5741        0.0049            0.0740            0.5500        0.0038        0.1195\n",
      "    242              0.0894              0.5313        0.0040            0.0712            0.5655        0.0048        0.1196\n",
      "    243              0.0925              0.5333        \u001b[35m0.0036\u001b[0m            0.0720            0.6282        0.0051        0.1193\n",
      "    244              0.0958              0.5255        0.0039            0.0621            0.6408        0.0050        0.1186\n",
      "    245              \u001b[36m0.0816\u001b[0m              0.5276        \u001b[35m0.0034\u001b[0m            0.0925            0.5871        0.0061        0.1188\n",
      "    246              0.1015              0.5462        0.0047            0.0907            \u001b[94m0.4786\u001b[0m        0.0042        0.1192\n",
      "    247              0.0986              0.5669        0.0043            0.0844            0.5655        0.0038        0.1179\n",
      "    248              0.1024              \u001b[32m0.5144\u001b[0m        0.0068            0.0794            0.6536        0.0062        0.1178\n",
      "    249              0.1145              0.6018        0.0059            0.0809            0.5447        0.0042        0.1178\n",
      "    250              0.1073              0.5440        0.0045            0.1055            0.5173        0.0050        0.1179\n",
      "    251              0.0906              0.5625        0.0042            0.1112            0.5086        0.0055        0.1188\n",
      "    252              0.1293              0.5562        0.0063            0.0711            0.7533        0.0077        0.1188\n",
      "    253              0.1030              0.5439        0.0049            0.0800            \u001b[94m0.4422\u001b[0m        \u001b[36m0.0027\u001b[0m        0.1188\n",
      "    254              0.1065              0.5291        0.0048            0.0666            0.5627        0.0042        0.1192\n",
      "    255              0.0821              \u001b[32m0.5010\u001b[0m        \u001b[35m0.0031\u001b[0m            0.0820            0.5943        0.0059        0.1201\n",
      "    256              0.0968              0.5351        0.0040            0.0771            0.5229        0.0040        0.1180\n",
      "    257              0.1050              0.5778        0.0050            \u001b[31m0.0493\u001b[0m            0.5619        0.0035     +  0.1187\n",
      "    258              0.1009              0.5100        0.0044            0.1040            0.6059        0.0069        0.1192\n",
      "    259              0.1065              0.5525        0.0050            0.0772            0.5842        0.0050        0.1179\n",
      "    260              0.1005              0.5324        0.0044            0.0919            0.5444        0.0044        0.1178\n",
      "    261              0.1132              0.5604        0.0053            0.0766            0.4859        0.0027        0.1196\n",
      "    262              0.1085              0.5140        0.0047            0.0735            0.5280        0.0038        0.1188\n",
      "    263              0.1185              0.6835        0.0082            0.1032            0.5635        0.0065        0.1186\n",
      "    264              0.1046              0.5816        0.0047            0.0733            0.6086        0.0043        0.1196\n",
      "    265              0.0926              0.5600        0.0038            0.0980            0.5371        0.0048        0.1196\n",
      "    266              0.0946              0.5649        0.0041            0.0519            0.5515        0.0035        0.1187\n",
      "    267              0.0953              0.5181        0.0040            0.1010            0.4882        0.0053        0.1192\n",
      "    268              0.0936              0.5588        0.0060            0.1071            0.5224        0.0051        0.1191\n",
      "    269              0.1028              0.5143        0.0045            0.0690            0.5623        0.0041        0.1190\n",
      "    270              0.1077              0.5666        0.0053            0.2167            0.6445        0.0158        0.1190\n",
      "    271              0.1051              0.5066        0.0047            0.0746            0.5421        0.0046        0.1191\n",
      "    272              \u001b[36m0.0781\u001b[0m              \u001b[32m0.4619\u001b[0m        \u001b[35m0.0028\u001b[0m            0.0550            0.5866        0.0045        0.1190\n",
      "    273              0.0894              0.5132        0.0039            0.0700            \u001b[94m0.3993\u001b[0m        \u001b[36m0.0024\u001b[0m        0.1188\n",
      "    274              0.1195              0.5919        0.0058            0.1115            0.4314        0.0051        0.1191\n",
      "    275              0.0931              0.5251        0.0041            0.0901            0.5568        0.0046        0.1199\n",
      "    276              0.1110              0.5491        0.0051            0.0649            0.4417        0.0027        0.1192\n",
      "    277              0.0896              0.5477        0.0039            0.0655            0.4739        0.0028        0.1189\n",
      "    278              0.0864              0.4855        0.0032            0.0571            0.5568        0.0042        0.1186\n",
      "    279              0.0864              0.4854        0.0033            0.0881            0.4540        0.0034        0.1186\n",
      "    280              0.0903              0.5056        0.0037            0.0914            0.5509        0.0055        0.1197\n",
      "    281              0.0927              0.5440        0.0043            0.1261            0.4381        0.0065        0.1205\n",
      "    282              0.0874              0.4728        0.0031            0.0882            0.4273        0.0034        0.1193\n",
      "    283              0.1336              0.5366        0.0075            0.0780            0.4388        0.0029        0.1191\n",
      "    284              0.1249              0.6251        0.0069            0.1080            0.4673        0.0060        0.1191\n",
      "    285              0.1043              0.5338        0.0048            0.0764            0.4844        0.0036        0.1181\n",
      "    286              0.0952              0.5002        0.0037            0.0539            0.5123        0.0036        0.1190\n",
      "    287              0.1020              0.5122        0.0045            0.0829            0.5180        0.0049        0.1191\n",
      "    288              0.1034              0.5731        0.0051            0.0901            0.4579        0.0037        0.1180\n",
      "    289              0.0977              0.5310        0.0043            0.0918            0.4889        0.0043        0.1179\n",
      "    290              0.0877              0.4997        0.0037            0.1129            0.5296        0.0052        0.1190\n",
      "    291              0.0991              0.5318        0.0044            0.0787            0.5288        0.0042        0.1191\n",
      "    292              0.0865              0.5051        0.0033            0.0946            0.4685        0.0039        0.1205\n",
      "    293              0.0984              0.5192        0.0042            0.0924            0.4257        0.0031        0.1198\n",
      "    294              0.0954              0.4874        0.0038            0.0678            0.5350        0.0042        0.1186\n",
      "    295              0.0821              \u001b[32m0.4574\u001b[0m        0.0030            0.0870            0.5621        0.0055        0.1191\n",
      "    296              0.1007              0.4666        0.0038            0.1116            0.4904        0.0052        0.1192\n",
      "    297              \u001b[36m0.0756\u001b[0m              0.4704        0.0029            0.0754            0.5260        0.0043        0.1180\n",
      "    298              0.1026              0.5345        0.0047            0.0859            0.6286        0.0055        0.1181\n",
      "    299              0.1002              0.4892        0.0039            0.0718            0.5447        0.0040        0.1186\n",
      "    300              0.0915              \u001b[32m0.4560\u001b[0m        0.0034            0.0720            0.5230        0.0043        0.1191\n",
      "    301              0.0924              0.5008        0.0038            0.0939            0.4065        0.0031        0.1180\n",
      "    302              0.1035              0.5205        0.0049            0.0724            0.4593        0.0032        0.1187\n",
      "    303              0.0765              0.4813        0.0028            0.0644            0.5108        0.0033        0.1191\n",
      "    304              0.0921              0.5266        0.0040            0.0493            0.5113        0.0032        0.1191\n"
     ]
    },
    {
     "name": "stdout",
     "output_type": "stream",
     "text": [
      "    305              0.0846              \u001b[32m0.4532\u001b[0m        0.0028            0.0841            0.4653        0.0037        0.1203\n",
      "    306              0.0762              0.4639        \u001b[35m0.0027\u001b[0m            0.0566            0.5069        0.0033        0.1204\n",
      "    307              \u001b[36m0.0717\u001b[0m              \u001b[32m0.4288\u001b[0m        \u001b[35m0.0025\u001b[0m            0.0944            0.5556        0.0056        0.1180\n",
      "    308              0.0801              0.4383        0.0028            \u001b[31m0.0471\u001b[0m            0.4951        0.0029     +  0.1191\n",
      "    309              0.1036              0.4518        0.0043            0.1062            0.4879        0.0055        0.1195\n",
      "    310              0.0974              0.5010        0.0040            0.0720            0.5052        0.0038        0.1181\n",
      "    311              0.0929              0.4810        0.0038            0.0898            0.6897        0.0080        0.1182\n",
      "    312              0.0929              0.4514        0.0034            0.0648            0.5299        0.0034        0.1183\n",
      "    313              0.0734              0.4414        0.0025            0.0735            0.4951        0.0040        0.1191\n",
      "    314              0.0967              0.4665        0.0038            0.0593            0.4740        0.0033        0.1187\n",
      "    315              0.0911              0.5248        0.0041            0.1118            0.4371        0.0055        0.1197\n",
      "    316              0.0925              0.5135        0.0038            0.0793            0.5386        0.0035        0.1205\n",
      "    317              0.0900              0.5616        0.0044            \u001b[31m0.0412\u001b[0m            0.5288        0.0030     +  0.1195\n",
      "    318              0.0931              0.4941        0.0039            0.0678            0.5705        0.0041        0.1195\n",
      "    319              0.0876              0.4674        0.0042            0.0550            0.4789        0.0028        0.1203\n",
      "    320              0.1019              0.4950        0.0042            0.0670            0.4777        0.0029        0.1182\n",
      "    321              0.1000              0.4492        0.0038            0.0498            0.5242        0.0036        0.1188\n",
      "    322              0.0793              0.4296        0.0027            0.0794            0.5220        0.0035        0.1186\n",
      "    323              0.0887              0.4401        0.0032            0.0875            0.4787        0.0046        0.1188\n",
      "    324              0.0774              0.4597        0.0029            0.0922            0.4770        0.0035        0.1187\n",
      "    325              0.0850              0.4553        0.0030            0.0718            0.4517        0.0028        0.1198\n",
      "    326              0.0788              0.4651        0.0030            0.0942            0.4938        0.0039        0.1197\n",
      "    327              0.0938              0.4852        0.0037            0.0529            0.4619        0.0025        0.1192\n",
      "    328              0.0849              0.4641        0.0032            0.1637            0.5106        0.0085        0.1180\n",
      "    329              0.0850              0.4666        0.0031            0.0662            0.4870        0.0034        0.1196\n",
      "    330              0.0941              0.4701        0.0040            0.0738            0.4899        0.0033        0.1188\n",
      "    331              0.0984              0.4490        0.0035            0.0715            0.4387        0.0034        0.1192\n",
      "    332              0.1092              0.5070        0.0051            0.0655            0.5392        0.0039        0.1192\n",
      "    333              0.0927              0.4933        0.0037            \u001b[31m0.0406\u001b[0m            0.4604        \u001b[36m0.0023\u001b[0m     +  0.1194\n",
      "    334              0.0826              0.4714        0.0032            0.0842            0.4230        0.0035        0.1204\n",
      "    335              0.0776              0.4534        0.0027            0.0716            0.4890        0.0039        0.1202\n",
      "    336              0.0999              0.4890        0.0047            0.0771            0.4941        0.0041        0.1188\n",
      "    337              0.0759              0.4377        0.0027            0.0806            0.5137        0.0050        0.1188\n",
      "    338              0.0827              \u001b[32m0.4240\u001b[0m        0.0029            0.0820            0.4896        0.0038        0.1188\n",
      "    339              0.0797              0.4316        0.0026            0.0883            0.5940        0.0053        0.1183\n",
      "    340              0.0809              0.4396        0.0026            0.0697            0.5289        0.0042        0.1188\n",
      "    341              0.0868              0.4330        0.0031            0.1225            0.4125        0.0064        0.1207\n",
      "    342              0.0938              0.4568        0.0037            0.0748            0.5372        0.0040        0.1205\n",
      "    343              0.0827              \u001b[32m0.4165\u001b[0m        0.0028            0.0596            0.5404        0.0038        0.1204\n",
      "    344              0.0731              0.4517        0.0026            0.0575            0.5161        0.0032        0.1203\n",
      "    345              0.0858              0.4403        0.0030            0.1287            0.4211        0.0082        0.1204\n",
      "    346              0.1006              0.4858        0.0051            0.0714            0.4429        0.0027        0.1183\n",
      "    347              0.0872              0.4705        0.0034            0.0735            0.4521        0.0035        0.1188\n",
      "    348              0.0803              0.4600        0.0027            0.0715            0.5052        0.0036        0.1192\n",
      "    349              0.0906              0.4713        0.0046            0.0810            0.5487        0.0049        0.1192\n",
      "    350              0.0877              \u001b[32m0.4095\u001b[0m        0.0029            0.0855            0.5493        0.0051        0.1193\n",
      "    351              0.0897              0.4668        0.0035            0.0964            0.4713        0.0041        0.1206\n",
      "    352              \u001b[36m0.0688\u001b[0m              0.4231        \u001b[35m0.0024\u001b[0m            0.0648            0.5158        0.0042        0.1194\n",
      "    353              0.0842              0.4235        0.0037            0.0664            0.5135        0.0035        0.1195\n",
      "    354              0.0897              0.4410        0.0034            0.0619            0.4277        \u001b[36m0.0022\u001b[0m        0.1193\n",
      "    355              0.0694              \u001b[32m0.4062\u001b[0m        \u001b[35m0.0022\u001b[0m            0.1083            0.5751        0.0066        0.1199\n",
      "    356              0.0864              0.4217        0.0033            0.0452            0.5207        0.0034        0.1193\n",
      "    357              0.0777              0.4606        0.0028            0.0564            \u001b[94m0.3778\u001b[0m        \u001b[36m0.0017\u001b[0m        0.1193\n",
      "    358              0.0706              \u001b[32m0.3966\u001b[0m        \u001b[35m0.0022\u001b[0m            0.0460            0.4542        0.0026        0.1183\n",
      "    359              0.0798              0.4322        0.0028            0.0864            0.5060        0.0042        0.1182\n",
      "    360              0.0728              0.4144        0.0024            0.0737            0.4707        0.0038        0.1182\n",
      "    361              0.0707              0.4161        0.0024            0.0631            0.5201        0.0037        0.1182\n",
      "    362              0.0741              0.4366        0.0026            0.0746            0.5581        0.0045        0.1181\n",
      "    363              0.0751              0.4335        0.0026            0.0679            0.4621        0.0032        0.1198\n",
      "    364              0.0815              0.4346        0.0028            0.0516            0.4944        0.0033        0.1186\n",
      "    365              0.0834              0.4138        0.0030            0.0612            0.5849        0.0048        0.1188\n",
      "    366              0.0814              0.4509        0.0028            \u001b[31m0.0380\u001b[0m            0.4870        0.0033     +  0.1185\n",
      "    367              \u001b[36m0.0650\u001b[0m              0.4145        \u001b[35m0.0020\u001b[0m            0.0733            0.5027        0.0033        0.1186\n",
      "    368              0.0740              \u001b[32m0.3853\u001b[0m        0.0022            0.0922            0.5111        0.0041        0.1189\n"
     ]
    },
    {
     "name": "stdout",
     "output_type": "stream",
     "text": [
      "    369              0.0835              0.4076        0.0027            0.0774            0.4522        0.0031        0.1191\n",
      "    370              0.0791              0.4210        0.0027            0.0632            0.4395        0.0023        0.1192\n",
      "    371              0.0713              0.3989        0.0023            \u001b[31m0.0348\u001b[0m            0.5196        0.0031     +  0.1195\n",
      "    372              0.0708              0.3985        0.0022            0.0532            0.5302        0.0037        0.1190\n",
      "    373              0.0959              0.4061        0.0035            0.0904            0.5035        0.0044        0.1190\n",
      "    374              0.0767              0.4303        0.0027            \u001b[31m0.0343\u001b[0m            0.4582        0.0022     +  0.1204\n",
      "    375              0.0775              0.4179        0.0027            0.0645            0.5720        0.0042        0.1193\n",
      "    376              0.0881              0.4281        0.0032            0.0458            0.5657        0.0039        0.1183\n",
      "    377              0.0781              0.3873        0.0026            0.0552            0.4629        0.0025        0.1190\n",
      "    378              0.0718              0.4103        0.0027            0.0830            0.4641        0.0043        0.1189\n",
      "    379              0.0878              0.4369        0.0033            0.0612            0.4863        0.0032        0.1194\n",
      "    380              0.0786              0.4037        0.0027            0.0538            0.5706        0.0048        0.1204\n",
      "    381              0.0948              0.4569        0.0036            0.0786            0.4806        0.0036        0.1182\n",
      "    382              0.0801              0.4364        0.0027            0.0484            0.5546        0.0039        0.1183\n",
      "    383              0.0694              0.4210        0.0024            0.0705            0.5322        0.0041        0.1196\n",
      "    384              0.0883              0.3991        0.0029            0.0593            0.6034        0.0044        0.1197\n",
      "    385              0.0889              0.4552        0.0043            0.0556            0.6138        0.0055        0.1197\n",
      "    386              0.0910              0.4379        0.0033            0.0618            0.4932        0.0031        0.1196\n",
      "    387              0.0785              0.3914        0.0024            0.0516            0.4449        0.0026        0.1195\n",
      "    388              0.0650              0.4036        0.0024            0.0533            0.4797        0.0028        0.1192\n",
      "    389              0.1032              0.4398        0.0040            0.1129            0.5097        0.0064        0.1194\n",
      "    390              0.0895              0.4056        0.0030            0.1329            0.4088        0.0059        0.1194\n",
      "    391              0.0978              0.4452        0.0042            0.0624            0.5616        0.0039        0.1184\n",
      "    392              0.0822              \u001b[32m0.3845\u001b[0m        0.0028            0.1018            0.5149        0.0038        0.1197\n",
      "    393              0.0874              0.4289        0.0033            0.0729            0.5755        0.0047        0.1198\n",
      "    394              0.0718              0.4079        0.0027            0.0727            0.5269        0.0049        0.1185\n",
      "    395              0.0958              0.4791        0.0050            0.0893            0.5234        0.0034        0.1191\n",
      "    396              0.0778              0.4393        0.0027            0.0800            0.4481        0.0029        0.1194\n",
      "    397              0.0854              0.4142        0.0033            0.0608            0.5127        0.0031        0.1183\n",
      "    398              0.0763              0.4009        0.0028            0.0653            0.4961        0.0037        0.1191\n",
      "    399              0.0902              0.3989        0.0031            0.0374            0.5084        0.0033        0.1190\n",
      "    400              0.0835              0.4088        0.0028            0.0371            0.4813        0.0025        0.1208\n",
      "    401              0.0757              0.4249        0.0026            0.0659            0.5135        0.0038        0.1196\n",
      "    402              0.0700              0.4511        0.0023            0.0831            0.4219        0.0029        0.1190\n",
      "    403              0.0817              0.4355        0.0033            0.0894            0.6038        0.0057        0.1193\n",
      "    404              0.0709              0.4209        0.0023            0.0742            0.5339        0.0034        0.1193\n",
      "    405              0.0780              0.4290        0.0028            0.0795            0.4016        0.0039        0.1195\n",
      "    406              0.0812              0.4112        0.0030            0.0747            0.4709        0.0031        0.1185\n",
      "    407              0.0692              0.3903        0.0020            0.0750            0.4942        0.0039        0.1183\n",
      "    408              0.0744              0.3864        0.0023            0.0501            0.4518        0.0025        0.1183\n",
      "    409              0.0709              \u001b[32m0.3705\u001b[0m        0.0023            0.0767            0.4977        0.0031        0.1193\n",
      "    410              0.0711              0.4016        0.0031            0.0740            0.4524        0.0029        0.1196\n",
      "    411              0.1345              0.4917        0.0063            0.0654            0.6322        0.0045        0.1191\n",
      "    412              0.0732              0.4161        0.0025            0.0652            0.5651        0.0037        0.1189\n",
      "    413              0.0718              0.3874        0.0021            0.0520            0.4374        0.0022        0.1188\n",
      "    414              0.0737              0.3990        0.0024            0.0748            0.4624        0.0032        0.1190\n",
      "    415              0.0734              0.4162        0.0027            0.0689            0.5049        0.0034        0.1193\n",
      "    416              0.0843              0.4229        0.0028            0.0627            0.4439        0.0024        0.1182\n",
      "    417              0.0758              0.3927        0.0024            0.0842            0.4910        0.0038        0.1190\n",
      "    418              0.0888              0.3933        0.0029            0.0719            0.4391        0.0032        0.1193\n",
      "    419              0.0831              0.3799        0.0026            0.0896            0.4788        0.0054        0.1196\n",
      "    420              0.0854              \u001b[32m0.3701\u001b[0m        0.0026            0.0760            0.4960        0.0030        0.1190\n",
      "    421              0.0739              0.3727        \u001b[35m0.0020\u001b[0m            0.0564            0.5392        0.0037        0.1194\n",
      "    422              0.0801              0.4266        0.0027            0.0607            0.5397        0.0035        0.1193\n",
      "    423              0.0752              0.3911        0.0026            0.0406            0.4770        0.0027        0.1193\n",
      "    424              0.0681              0.3819        \u001b[35m0.0019\u001b[0m            0.0488            0.5174        0.0029        0.1194\n",
      "    425              0.0734              0.3779        0.0025            0.0466            0.4844        0.0026        0.1204\n",
      "    426              0.0673              0.3724        0.0021            0.0476            0.4499        0.0022        0.1196\n",
      "    427              0.0737              0.3807        0.0022            0.1116            0.5214        0.0046        0.1207\n",
      "    428              0.0763              0.3858        0.0023            0.0644            0.4972        0.0036        0.1196\n",
      "    429              0.0766              \u001b[32m0.3657\u001b[0m        0.0023            0.0703            0.4747        0.0033        0.1183\n",
      "    430              0.0742              \u001b[32m0.3559\u001b[0m        0.0024            0.0481            0.4710        0.0024        0.1194\n",
      "    431              0.0769              0.3650        0.0025            0.0877            0.5152        0.0038        0.1195\n",
      "    432              0.0828              0.4030        0.0035            0.0946            0.5207        0.0051        0.1194\n",
      "    433              0.0790              0.3764        0.0024            0.0461            0.5322        0.0031        0.1183\n"
     ]
    },
    {
     "name": "stdout",
     "output_type": "stream",
     "text": [
      "    434              0.0832              0.3753        0.0025            0.0659            0.5373        0.0038        0.1207\n",
      "    435              0.0730              0.3980        0.0024            0.0453            0.5193        0.0030        0.1194\n",
      "    436              0.0781              0.3591        0.0022            0.0553            0.5149        0.0038        0.1184\n",
      "    437              0.0742              0.3842        0.0023            0.0660            0.5185        0.0032        0.1195\n",
      "    438              0.0704              0.3875        0.0022            0.0536            0.5182        0.0035        0.1196\n",
      "    439              0.0718              0.3832        0.0022            0.0431            0.4709        0.0021        0.1185\n",
      "    440              0.0735              0.3743        0.0022            0.0661            0.4632        0.0029        0.1194\n",
      "    441              0.0690              \u001b[32m0.3535\u001b[0m        0.0020            0.0689            0.4888        0.0033        0.1207\n",
      "    442              0.0857              0.3785        0.0031            0.0749            0.5117        0.0036        0.1185\n",
      "    443              0.0745              0.3857        0.0023            0.1055            0.4479        0.0036        0.1184\n",
      "    444              0.0959              0.4257        0.0041            0.0519            0.5368        0.0038        0.1184\n",
      "    445              0.0882              0.3902        0.0029            0.0558            0.5306        0.0030        0.1184\n",
      "    446              0.0778              0.4377        0.0029            0.0814            0.5699        0.0055        0.1184\n",
      "    447              0.0828              0.3799        0.0026            0.0412            0.4795        0.0024        0.1196\n",
      "    448              0.0751              0.3540        0.0022            0.0681            0.4904        0.0031        0.1197\n",
      "    449              0.0658              0.3940        0.0020            0.0443            0.5502        0.0034        0.1193\n",
      "    450              0.0821              0.4040        0.0032            0.0913            0.6746        0.0067        0.1195\n",
      "    451              0.0958              0.4491        0.0040            0.0908            0.5839        0.0041        0.1184\n",
      "    452              0.0799              0.4173        0.0027            0.0858            0.4650        0.0049        0.1192\n",
      "    453              0.1179              0.4339        0.0049            0.1456            0.4926        0.0087        0.1198\n",
      "    454              0.0972              0.3831        0.0036            0.1002            0.4293        0.0069        0.1185\n",
      "    455              0.0893              0.4083        0.0037            0.0570            0.4457        0.0027        0.1184\n",
      "    456              0.0803              0.4135        0.0037            0.1386            0.5816        0.0069        0.1204\n",
      "    457              0.0845              0.4089        0.0029            0.0595            0.5902        0.0044        0.1196\n",
      "    458              0.0754              0.3803        0.0023            0.0678            0.5539        0.0054        0.1196\n",
      "    459              0.0775              0.4140        0.0024            0.0756            0.5752        0.0040        0.1198\n",
      "    460              0.1136              0.4545        0.0062            0.0752            0.6984        0.0076        0.1197\n",
      "    461              0.1251              0.4923        0.0065            0.0444            0.5982        0.0033        0.1206\n",
      "    462              0.0891              0.4314        0.0032            0.0586            0.5961        0.0062        0.1220\n",
      "    463              0.0724              0.3635        0.0021            0.0376            0.5582        0.0044        0.1199\n",
      "    464              0.0683              0.3819        0.0026            0.0539            0.5322        0.0031        0.1198\n",
      "    465              0.0991              0.4245        0.0042            0.1270            0.6244        0.0073        0.1208\n",
      "    466              0.0837              0.3940        0.0030            0.0651            0.5165        0.0040        0.1192\n",
      "    467              0.0712              0.3649        0.0022            \u001b[31m0.0337\u001b[0m            0.5544        0.0031     +  0.1196\n",
      "    468              0.0782              0.4223        0.0026            0.0360            0.5297        0.0032        0.1198\n",
      "    469              0.0744              0.3604        0.0023            0.0606            0.5276        0.0036        0.1208\n",
      "    470              0.0783              0.3766        0.0024            0.0435            0.5262        0.0038        0.1191\n",
      "    471              0.0794              0.4166        0.0025            0.0540            0.5024        0.0031        0.1195\n",
      "    472              0.0662              0.3583        \u001b[35m0.0019\u001b[0m            0.0627            0.5539        0.0036        0.1194\n",
      "    473              0.0745              0.4074        0.0026            0.0355            0.5457        0.0033        0.1195\n",
      "    474              0.0657              0.3591        0.0019            0.0639            0.5001        0.0033        0.1205\n",
      "    475              \u001b[36m0.0632\u001b[0m              0.3826        0.0022            0.0349            0.5065        0.0021        0.1195\n",
      "    476              0.0750              0.4043        0.0023            0.0625            \u001b[94m0.3692\u001b[0m        0.0026        0.1207\n",
      "    477              0.0654              \u001b[32m0.3502\u001b[0m        \u001b[35m0.0018\u001b[0m            0.0550            0.4843        0.0025        0.1210\n",
      "    478              0.0850              0.3857        0.0026            0.0584            0.4734        0.0029        0.1196\n",
      "    479              0.0870              0.3898        0.0028            0.0665            0.5486        0.0041        0.1186\n",
      "    480              0.0794              0.4011        0.0029            0.1040            0.5938        0.0071        0.1196\n",
      "    481              0.0644              0.3615        0.0019            0.0554            0.4657        0.0026        0.1195\n",
      "    482              0.0739              0.3640        0.0025            0.1254            0.4724        0.0041        0.1185\n",
      "    483              0.0735              0.3553        0.0021            0.0416            0.5389        0.0035        0.1207\n",
      "    484              0.0641              0.3772        0.0023            0.0636            0.5098        0.0030        0.1187\n",
      "    485              0.0774              0.3835        0.0025            0.0468            0.4597        0.0019        0.1199\n",
      "    486              0.0666              \u001b[32m0.3344\u001b[0m        0.0019            0.0452            0.5360        0.0029        0.1191\n",
      "    487              0.0726              0.3469        0.0021            0.0461            0.5053        0.0030        0.1195\n",
      "    488              0.0771              0.3734        0.0025            0.0949            0.4973        0.0048        0.1196\n",
      "    489              0.0786              0.3685        0.0028            0.0597            0.5401        0.0031        0.1207\n",
      "    490              0.0799              0.3489        0.0024            0.0824            0.5931        0.0051        0.1198\n",
      "    491              0.0753              0.3658        0.0023            0.0612            0.5687        0.0037        0.1199\n",
      "    492              \u001b[36m0.0625\u001b[0m              0.3566        0.0019            0.0541            0.5718        0.0036        0.1203\n",
      "    493              0.0738              0.3746        0.0022            0.1047            0.6097        0.0062        0.1199\n",
      "    494              0.0880              0.3679        0.0030            0.0750            0.5715        0.0049        0.1197\n",
      "    495              0.0789              0.3932        0.0025            0.0807            0.4751        0.0031        0.1193\n",
      "    496              0.0785              0.3854        0.0025            0.0889            0.4267        0.0044        0.1209\n",
      "    497              0.0861              0.3935        0.0031            0.0691            0.4795        0.0028        0.1199\n",
      "    498              0.0658              0.3460        0.0018            0.0513            0.5370        0.0034        0.1198\n"
     ]
    },
    {
     "name": "stdout",
     "output_type": "stream",
     "text": [
      "    499              0.0726              0.3592        0.0021            0.0400            0.5358        0.0027        0.1209\n",
      "    500              0.0671              0.3690        0.0020            0.0528            0.5564        0.0038        0.1198\n",
      "Training completed in 69.00053215026855s\n"
     ]
    }
   ],
   "source": [
    "torch.set_num_threads(1)\n",
    "trainer = AtomsTrainer(config)\n",
    "trainer.train()"
   ]
  },
  {
   "cell_type": "markdown",
   "id": "04abf9a0",
   "metadata": {},
   "source": [
    "### Use the neural network as an ase calculator to make predictions"
   ]
  },
  {
   "cell_type": "code",
   "execution_count": 12,
   "id": "b13b45bd",
   "metadata": {},
   "outputs": [
    {
     "name": "stdout",
     "output_type": "stream",
     "text": [
      "Energy MSE: 0.0017036549776706506\n",
      "Energy MAE: 0.031901714312218415\n"
     ]
    },
    {
     "data": {
      "text/plain": [
       "-593.7624330743726"
      ]
     },
     "execution_count": 12,
     "metadata": {},
     "output_type": "execute_result"
    }
   ],
   "source": [
    "predictions = trainer.predict(training)\n",
    "\n",
    "# assess errors\n",
    "\n",
    "true_energies = np.array([image.get_potential_energy() for image in training])\n",
    "pred_energies = np.array(predictions[\"energy\"])\n",
    "\n",
    "print(\"Energy MSE:\", np.mean((true_energies - pred_energies) ** 2))\n",
    "print(\"Energy MAE:\", np.mean(np.abs(true_energies - pred_energies)))\n",
    "\n",
    "training[0].set_calculator(AMPtorch(trainer))\n",
    "training[0].get_potential_energy()"
   ]
  },
  {
   "cell_type": "markdown",
   "id": "2978b1ee",
   "metadata": {},
   "source": [
    "### Use the fitted model to predict the 1D PES for change in O-H bond length"
   ]
  },
  {
   "cell_type": "code",
   "execution_count": 13,
   "id": "7b34ba73",
   "metadata": {},
   "outputs": [],
   "source": [
    "# set up images with one changing bond length\n",
    "distances = np.linspace(0.4, 2.0, 100)\n",
    "images = []\n",
    "for dist in distances:\n",
    "    image = molecule(\"H2O\", vacuum=10.0)\n",
    "    image.set_cell([10, 10, 10])\n",
    "    image.set_pbc([1, 1, 1])\n",
    "\n",
    "    # change bond length\n",
    "    image.set_distance(0, 2, dist)\n",
    "    image.set_angle(1, 0, 2, 104.210)\n",
    "    images.append(image)\n",
    "\n",
    "predictions = trainer.predict(images)"
   ]
  },
  {
   "cell_type": "code",
   "execution_count": 14,
   "id": "77ee4bcd",
   "metadata": {},
   "outputs": [],
   "source": [
    "# get training point\n",
    "\n",
    "training_angle100 = [_ for _ in training if np.isclose(_.get_angle(1, 0, 2), 104.210, atol=1e-3)]\n",
    "\n",
    "distances_training = [_.get_distance(0, 2) for _ in training_angle100]\n",
    "energies_training = [_.get_potential_energy() for _ in training_angle100]\n"
   ]
  },
  {
   "cell_type": "code",
   "execution_count": 15,
   "id": "6779b2b8",
   "metadata": {},
   "outputs": [
    {
     "data": {
      "text/plain": [
       "<matplotlib.legend.Legend at 0x2aac25c3f518>"
      ]
     },
     "execution_count": 15,
     "metadata": {},
     "output_type": "execute_result"
    },
    {
     "data": {
      "image/png": "[encoded data removed]",
      "text/plain": [
       "<Figure size 432x288 with 1 Axes>"
      ]
     },
     "metadata": {
      "needs_background": "light"
     },
     "output_type": "display_data"
    }
   ],
   "source": [
    "plt.scatter(distances, predictions[\"energy\"], label=\"prediction\")\n",
    "plt.scatter(distances_training, energies_training, label=\"training\")\n",
    "plt.xlabel(\"O-H bond length [A]\")\n",
    "plt.ylabel(\"potential energy [eV]\")\n",
    "plt.legend()"
   ]
  },
  {
   "cell_type": "code",
   "execution_count": null,
   "id": "12f2414e",
   "metadata": {},
   "outputs": [],
   "source": []
  }
 ],
 "metadata": {
  "kernelspec": {
   "display_name": "Python 3",
   "language": "python",
   "name": "python3"
  },
  "language_info": {
   "codemirror_mode": {
    "name": "ipython",
    "version": 3
   },
   "file_extension": ".py",
   "mimetype": "text/x-python",
   "name": "python",
   "nbconvert_exporter": "python",
   "pygments_lexer": "ipython3",
   "version": "3.6.15"
  }
 },
 "nbformat": 4,
 "nbformat_minor": 5
}