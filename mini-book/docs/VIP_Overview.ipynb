{
 "cells": [
  {
   "cell_type": "markdown",
   "metadata": {},
   "source": [
    "# Big Data & Quantum Mechanics\n",
    " \n",
    "\n",
    "## Overview of Medford Group research\n",
    "\n",
    "![MedfordImg](./medford_group_bg.png)\n",
    "\n"
   ]
  },
  {
   "cell_type": "markdown",
   "metadata": {},
   "source": [
    "## About Prof. AJ Medford\n",
    "\n",
    "- Started as a professor (and this VIP course) in Spring 2017.\n",
    "- Experience in developing and contributing to several open-source software packages (CatMAP, ElectroLens, TAPSolver, SPARC, AMPTorch)\n",
    "- Instructor for \"Data Analytics for Chemical Engineers\" and Numerical Methods.\n",
    "- Interest in applying data science techniques to problems in quantum chemistry and physics.\n"
   ]
  },
  {
   "cell_type": "markdown",
   "metadata": {},
   "source": [
    "## Introductions\n",
    "\n",
    "We will go around the class and introduce ourselves to the everyone. When it is your turn to speak, tell everyone your *preferred name, major, and something **random** about yourself*."
   ]
  },
  {
   "cell_type": "markdown",
   "metadata": {},
   "source": [
    "## How does VIP work?\n",
    "\n",
    "The premise of VIP is teams working on projects. Much like a real-world engineering team, individual members work on different aspects of the project. Team members range from sophomores through graduate students, from first-time participants to students who have been involved for four or more semesters. Some students take the course for one credit, and others take it for two credits; naturally, the bar will be higher for those taking it for two credits.\n"
   ]
  },
  {
   "cell_type": "markdown",
   "metadata": {},
   "source": [
    "## How is VIP graded?\n",
    "\n",
    "You will receive a grade for the course based on three criteria:\n",
    "\n",
    "- Documentation (33.3%): Based on biweekly updates of progress on tasks.\n",
    "- Personal Accomplishments (33.3%): Based on how well you achieve your research goals. *This is discussed below for the DFT reproduction project.*\n",
    "- Teamwork and Participation (33.3%): Peer evaluations will be used to establish how well you work on a team.\n",
    "\n",
    "Grading process:\n",
    "- Bi-weekly on Thursday: Submit \"bi-weekly update\" and literature review to Canvas. Complete peer grading (instructions in syllabus).\n",
    "\n",
    "- Midterm: Submit personal accomplishment documentation to Canvas. Complete peer evaluations. Complete peer grading. *Note for returning students* This grade **will NOT** be counted towards your final grade in the course. This grade is advisory only.\n",
    "\n",
    "- Final: Identical to midterm. Final letter grade will be determined only from your final submission.\n",
    "\n",
    "The following deliverables are expected at the midterm and final evaluations. Note that the \"personal accomplishment\" documentation will be graded using a combination of peer grading and instructor grading, so you will also need to complete the peer grading at each point.\n",
    "\n",
    "- Deliverables: \n",
    "    - Compiled bi-weekly update\n",
    "    - Personal accomplishment documentation\n",
    "    - Peer grading\n",
    "    - Peer evaluation\n",
    "    - Demonstrated completion of all assigned training materials\n",
    "\n",
    "See [syllabus](VIP_syllabus.md) for more details."
   ]
  },
  {
   "cell_type": "markdown",
   "metadata": {},
   "source": [
    "## VIP is not like a regular course \n",
    "\n",
    "Regular courses have a clear direction:\n",
    "\n",
    "![MarioImg](./mario.png)\n",
    "\n",
    "VIP lets you choose your own adventure:\n",
    "\n",
    "![ZeldaImg](./zelda.jpeg)\n"
   ]
  },
  {
   "cell_type": "markdown",
   "metadata": {},
   "source": [
    "## Group Communication:\n",
    "\n",
    "- Slack group used for all communication, join using [this link](https://join.slack.com/t/slack-ymv5720/shared_invite/zt-21v1xmbap-5FQMR2rgE0B5krwMZPFyBQ)\n",
    "\t- training: discussion related to training project.\n",
    "\t- general: channel for general discussions with the whole group.\n",
    " "
   ]
  },
  {
   "cell_type": "markdown",
   "metadata": {},
   "source": [
    "## Overarching Project: ChatDFT development\n",
    "\n",
    "This semester, we are starting to work on a new large-language model (LLM) based tool that we hope will make it easier for students to learn how to do DFT calculations. This is also partially educational research, and we will send out various surveys throughout the semester. The bot, named \"ChatDFT\" will be accessible via Slack, and is based off of ChatGPT. This semester, all projects will involve performing DFT simulations with the aid of ChatDFT to study reproducibility in DFT and how LLMs can assist in performing scientific computing tasks. Note that all converations with ChatDFT will be recorded and may be reviewed and/or used for fine-tuning or development of future versions of ChatDFT. We also appreciate any feedback you have about ChatDFT, including best practices for prompt engineering, ideas about how to improve the architecture, or various failure modes that you experience. The tool is far from perfect, and like any LLM it should not be blindly trusted!\n",
    "\n",
    "All subteams will also work with the SPARC DFT code, a recent DFT package developed by Prof. Suryanarayana at Georgia Tech, designed for massively parallel calculations. This code is very powerful, but relatively new, and thus not as familiar for LLM tools. We hope that through this project we can help tailor an LLM interface that allows new users to quickly learn to use SPARC to perform reliable calculations."
   ]
  },
  {
   "cell_type": "markdown",
   "metadata": {},
   "source": [
    "## Team Structure : New Students\n",
    "\n",
    "All new undergraduate students will automatically join the training subteam:\n",
    "\n",
    "* **Training (led by Logan Brabson and Sayan Bhowmik)** - All new undergraduate students must complete a training program that involves the basics of high-performance computing, common quantum-mechanical techniques such as Density Function Theory (DFT), and the development and use of machine learning techniques such as neural networks. DFT software packages are well-established, but require the use of supercomputing resources and must be converged with respect to several numerical parameters. The training will cover approximately 10 weeks and is highly represnetative of training programs for new graduate students in this field."
   ]
  },
  {
   "cell_type": "markdown",
   "metadata": {},
   "source": [
    "## Team Structure: Returning Students, OMSCS Students, post Training New Students\n",
    "\n",
    "Returning students will work on the DFT reproduction assignment described below under the guidance of an assigned graduate student mentor, and OMSCS students can decide whether to complete the training exercises or join a sub-team (or both).\n",
    "\n",
    "## DFT adsorption energy reproducibility project\n",
    "This project will explore a crucial, but often neglected, aspect of DFT research: reproducibility of results. There are a few papers on this topic (e.g. https://www.science.org/doi/10.1126/science.aad3000) but none that focus specifically on adsorption energies. Since adsorption energies are \"derived quantities\" -- that is, they are not direct outputs of a single DFT calculation -- they can be more challenging to reproduce.\n",
    "Our hypothesis is that by combining large-language models with natural language instructions, we can identify how to more robustly communicate instructions about how to reproduce DFT calculations, and provide specific insight into which \"prompt engineering\" strategies and LLM structures that are most effective for the task. Your project will help test this hypothesis by using LLMs to reproduce at least 3 adsorption energies found in the literature.\n",
    "\n",
    "### Grading:\n",
    "The details of the project are outlined below. The project will count toward the \"Achievements\" grade, and will be graded based on the following:  \n",
    "\n",
    "**Midterm:**\n",
    "* 5: Three adsorption energies reproduced to within 0.1 eV accuracy using the SPARC code.\n",
    "* 4: Two adsorption energies reproduced to within 0.1 eV accuracy using the SPARC code.\n",
    "* 3: One adsorption energy reproduced to within 0.1 eV accuracy using the SPARC code.\n",
    "* 2: No adsorption energy successfully reproduced, but significant effort made.\n",
    "* 1: No adsorption energy successfully reproduced, but some effort made.\n",
    "* 0: No effort made.\n",
    "\n",
    "**Final:**\n",
    "* 5: A set of LLM prompts that can be used with ChatDFT (or any other LLM of your choosing) to automatically set up input scripts for an adsorption energy calculation, demonstrated on at least one of the 3 examples.\n",
    "* 4: Clear recommendations on what information is needed to be included in Methods sections and LLM prompts to ensure reproducibility, with specific discussion of the 3 examples from the midterm.\n",
    "* 3: Three adsorption energies reproduced to within 0.1 eV accuracy using the SPARC code, and general commentary on how this was achieved.\n",
    "* 2: Two adsorption energies reproduced to within 0.1 eV accuracy using the SPARC code, and general commentary on how this was achieved.\n",
    "* 1: One adsorption energies reproduced to within 0.1 eV accuracy using the SPARC code, and general commentary on how this was achieved.\n",
    "* 0: No adsorption energies successfully reproduced.\n",
    "Note that the accuracy threshold assumes that there are no major reproducibility issues with the examples you selected. In cases where significant reproducibility issues are discovered, then it is only necessary to show that your own adsorption energy calculations are converged to a numerical accuracy of 0.05 eV.\n",
    "\n",
    "### Description:\n",
    "### Phase 1: Reproduce at least three adsorption energies from the literature using the SPARC code.\n",
    "This involves identifying three published adsorption energies from one or multiple papers of your choosing. Selecting different papers will be more challenging, but you will also learn more in the process. You should then use all information provided in the \"Methods\" and \"Supplementary Material\" (or other) sections of the publication to attempt to reproduce the adsorption energy using the SPARC DFT code. It is expected that the \"numerical error\" associated with this should be below 0.1 eV as long as there are no issues with the published results.\n",
    "\n",
    "Note that to do this thoroughly you will need to re-calculate the lattice constants with SPARC to ensure that they are self-consistent throughout. The process will also involve translating different keywords and numerical techniques between whatever code was used in the published results and SPARC. You can and should consult graduate student mentors, \"ChatDFT\", or other AI assistants in this process.\n",
    "The deliverable for the midterm is a ~2 page report detailing what you learned in this process, and all input files needed to reproduce the calculations.\n",
    "\n",
    "### Phase 2: Using AI to enhance reproducibility.\n",
    "In this phase, you will revisit the process of reproducing adsorption energy calculations and attempt to \"formalize\" it into a clear set of natural language prompts or instructions that can be used to have an AI model reliably reproduce the results. For the purpose of this project you only need to focus on reproducibility with the SPARC code, but as an additional challenge you can consider what would need to be modified to make it general to other codes.\n",
    "\n",
    "We recommend first exploring the \"ChatDFT\" model for this process, but note that you are welcome to explore other alternatives that you have access to. If this process is successful, we are particularly interested in how it could be translated to a smaller LLM that could be run as a stand-alone inference model on a standard CPU. For those interested in LLM development, this may be an interesting question to pursue.\n",
    "    \n",
    "---------------------------------------------------------------------------------------------------------------------------------------------------------------------------------------------------------------------------\n",
    "\n",
    "* Each student should have a clearly-defined task that they are working independently on. This task should be self-determined and within the scope of the broader goal of the sub-team based on consultations with other sub-team members and the graduate student advisor.\n",
    "* Students may work together on a given task or direction, but should also have individual goals.\n",
    "* Students should regularly communicate with their sub-team to (1) coordinate progress on individual tasks to work toward the larger goal of the team, (2) ask for and provide assistance to other sub-team members, and (3) seek advice from and provide updates to the sub-team graduate mentor.\n",
    "* It is fully expected that the goals of research tasks change throughout the semester. The goals document can be updated at any time up to 2 weeks prior to the end of the semester. Students should revise goals as needed to ensure they are achievable.\n",
    "* Note that the achievements grade is determined by your sub-team advisor. Different advisors may have different expectations and organizational standards. You should be sure to clearly communicate with your subteam advisor to be sure that you are meeting their expectations."
   ]
  },
  {
   "cell_type": "markdown",
   "metadata": {},
   "source": [
    "## Standard meeting format\n",
    "\n",
    "Subsequent meetings will follow one of three formats. We will start each meeting virtually in this Zoom room regardless of the format.\n",
    "\n",
    "* Lecture meetings:  The main lecture will be used to briefly discuss logistics before breaking into sub-groups. All training students should plan on attending the training breakout session for discussion regarding that week's lecture(s), while other subgroups will attend their own breakout rooms. Sub-groups where all (or some) of the students are on campus may elect to meet in person or in a hybrid mode based on the preference of group members.\n",
    "\n",
    "\n",
    "* Update meetings: For midterm and final updates, each team will post a 10-15 minute update presentation to Canvas, and each student will be assigned 3 update presentations to watch and provide peer reviews before class. During the class time, all students are expected to be present, and we will go through each group to field questions and discuss their work. Any remaining time will be used for sub-group meetings. \n",
    "\n",
    "\n",
    "* Workshops: No official lecture topic. The entire lecture will be used as unstructured time to work on projects and interact with mentors and instructors. Training students should use this as an opportunity to join the breakout room of the subteams they are most interested in joining.\n",
    "\n",
    "**Note:** If no member of your sub-team is present for the synchronous lecture, then everyone from the group will lose 1/2 point (out of 5) from the teamwork grade. If you cannot attend please coordinate with your group and confirm with an instructor at least 24 hours ahead of time if nobody from your group will be there."
   ]
  },
  {
   "cell_type": "markdown",
   "metadata": {},
   "source": [
    "## Lecture schedule and syllabus\n",
    "\n",
    "The course [syllabus](VIP_syllabus.md) is available within this book, and includes a list of all the lecture topics and dates."
   ]
  },
  {
   "cell_type": "markdown",
   "metadata": {},
   "source": [
    "## Week 1 Assignment\n",
    "\n",
    "- Join the [Slack channel](https://join.slack.com/t/slack-ymv5720/shared_invite/zt-21v1xmbap-5FQMR2rgE0B5krwMZPFyBQ)\n",
    "- Start discussion for selecting your group or sub-team project\n",
    "- Install necessary software following instructions below."
   ]
  },
  {
   "cell_type": "markdown",
   "metadata": {},
   "source": [
    "## Software Installation:\n",
    "\n",
    "### Install Anaconda3\n",
    "\n",
    "We'll be using Python3 and Jupyter notebooks extenstively in this class. To access this easily, we'll need to install anaconda3. To do that, go to the anaconda website below and simply follow the buttons to download and install it (ensure that you're downloading the correct version for your operating system.)\n",
    "\n",
    "https://www.anaconda.com/distribution/\n",
    "\n",
    "### Ensure you can access a linux/unix prompt\n",
    "\n",
    "#### Windows users:\n",
    "Please install the windows ubuntu subsystem using these instructions:\n",
    "\n",
    "https://docs.microsoft.com/en-us/windows/wsl/install-win10\n",
    "\n",
    "#### Mac users:\n",
    "Be sure you can open a [terminal](https://www.youtube.com/watch?v=zw7Nd67_aFw)"
   ]
  }
 ],
 "metadata": {
  "kernelspec": {
   "display_name": "Python 3 (ipykernel)",
   "language": "python",
   "name": "python3"
  },
  "language_info": {
   "codemirror_mode": {
    "name": "ipython",
    "version": 3
   },
   "file_extension": ".py",
   "mimetype": "text/x-python",
   "name": "python",
   "nbconvert_exporter": "python",
   "pygments_lexer": "ipython3",
   "version": "3.10.4"
  },
  "toc": {
   "base_numbering": 1,
   "nav_menu": {},
   "number_sections": true,
   "sideBar": true,
   "skip_h1_title": true,
   "title_cell": "Table of Contents",
   "title_sidebar": "Contents",
   "toc_cell": true,
   "toc_position": {},
   "toc_section_display": true,
   "toc_window_display": false
  }
 },
 "nbformat": 4,
 "nbformat_minor": 4
}
